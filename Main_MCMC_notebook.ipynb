{
 "cells": [
  {
   "cell_type": "code",
   "execution_count": 71,
   "metadata": {},
   "outputs": [],
   "source": [
    "import numpy as np\n",
    "import matplotlib.pyplot as plt\n",
    "from astropy.io import fits\n",
    "from astropy import wcs\n",
    "import sys\n",
    "\n",
    "from astropy.utils.data import get_pkg_data_filename\n",
    "\n",
    "from astropy import units as u\n",
    "from poliastro.bodies import Earth, Sun\n",
    "from poliastro.twobody import Orbit\n",
    "from astropy.coordinates import SkyCoord\n",
    "from astropy.coordinates import GCRS\n",
    "from astropy.coordinates import get_moon\n",
    "from astropy.time import Time"
   ]
  },
  {
   "cell_type": "code",
   "execution_count": 2,
   "metadata": {},
   "outputs": [],
   "source": [
    "#likelihood (just a product of the single image likelihoods )\n",
    "def likelihood(img_liks):\n",
    "    return np.product(img_liks)"
   ]
  },
  {
   "cell_type": "code",
   "execution_count": null,
   "metadata": {},
   "outputs": [],
   "source": [
    "#a marginalization over time, we will be using an evenly spaced grid of times\n",
    "#we need to compute one single likelihood \n",
    "single_image_likelihood():\n",
    "    "
   ]
  },
  {
   "cell_type": "code",
   "execution_count": 64,
   "metadata": {},
   "outputs": [],
   "source": [
    "#function that takes the position and velocity vectors at a certain epoch and returns the ICRS coordinates of the\n",
    "#object over a time grid (these are approximately ICRS, but the orbit is really around the CM of the sun and\n",
    "#not the solar system barycenter)\n",
    "#r and v are three element lists that represent vectors and need to have the proper units appended\n",
    "def orbit_sim(r, v, epoch, t_i, t_f, n_points):\n",
    "    #making a list of times to sample:\n",
    "    times = np.linspace(t_i, t_f, n_points)\n",
    "    \n",
    "    #making the propagation delta\n",
    "    prop_delta = [(i - epoch)*u.day for i in times]\n",
    "    \n",
    "    #defining orbit object\n",
    "    orbit = Orbit.from_vectors(Sun, r, v)\n",
    "    \n",
    "    #initialize array to store the positions\n",
    "    locations = [0 for i in range(n_points)]\n",
    "    \n",
    "    #looping over linspace to evaluate the orbit at all of these points\n",
    "    for i in range(len(prop_delta)):\n",
    "        locations[i] = orbit.propagate(prop_delta[i]).rv()[0]\n",
    "    \n",
    "    return [locations, times]"
   ]
  },
  {
   "cell_type": "code",
   "execution_count": 84,
   "metadata": {},
   "outputs": [],
   "source": [
    "#function that takes the cartesian (x,y,z) in ICRS frame and returns the ra and dec as seen from the earth\n",
    "def ICRS_to_GCRS(positions, times):\n",
    "    \n",
    "    coords = [0 for i in range(len(times))]\n",
    "    \n",
    "    \n",
    "    for i in range(len(positions)):\n",
    "        temp_time = Time(times[i], format='jd')\n",
    "        X,Y,Z = positions[i].value\n",
    "        temp_coord = SkyCoord(x = X, y = Y, z = Z, unit='km' ,frame = 'icrs' , representation_type = 'cartesian', obstime=temp_time)\n",
    "        cor = temp_coord.transform_to('gcrs')\n",
    "        coords[i] = [cor.ra.value, cor.dec.value]\n",
    "    \n",
    "    \n",
    "    return coords\n",
    "        "
   ]
  },
  {
   "cell_type": "code",
   "execution_count": 102,
   "metadata": {
    "scrolled": false
   },
   "outputs": [
    {
     "data": {
      "text/plain": [
       "<matplotlib.collections.PathCollection at 0x126023b90>"
      ]
     },
     "execution_count": 102,
     "metadata": {},
     "output_type": "execute_result"
    },
    {
     "data": {
      "image/png": "[encoded data removed]",
      "text/plain": [
       "<Figure size 432x288 with 1 Axes>"
      ]
     },
     "metadata": {
      "needs_background": "light"
     },
     "output_type": "display_data"
    }
   ],
   "source": [
    "simulated = orbit_sim([10**8,10**8,10**8]*u.km, [0,0,5]*u.km/u.s, 2454416, 2454283.5, 2454587.5, 20)\n",
    "RaDec = ICRS_to_GCRS(simulated[0], simulated[1])\n",
    "plt.scatter(np.transpose(RaDec)[0], np.transpose(RaDec)[1])"
   ]
  },
  {
   "cell_type": "code",
   "execution_count": null,
   "metadata": {},
   "outputs": [],
   "source": [
    "#takes a plt.imread image, WCS object from .wcs file, eta (0,1), and point is a SkyCoord object\n",
    "#deterimines if point is in the eta subimage of the image as defined in the paper\n",
    "\n",
    "def subimage_contains(img, wcs_func, eta, point):\n",
    "    \n",
    "    #assigning variables to the image dimensions\n",
    "    a,b = img.shape[:2]\n",
    "    \n",
    "    #variable assignments that have to do with determining whether the point is in the eta subimage\n",
    "    r_eta = np.sqrt(eta)\n",
    "    am = int(a*(1-r_eta)/2)\n",
    "    ap = int(a*(1+r_eta)/2)\n",
    "    bm = int(b*(1-r_eta)/2)\n",
    "    bp = int(b*(1+r_eta)/2)\n",
    "    \n",
    "    #boolean values \n",
    "    Abool = point.contained_by(wcs_func, image = np.ones((b,am)))\n",
    "    Bbool = point.contained_by(wcs_func, image = np.ones((bm,a)))\n",
    "    Cbool = point.contained_by(wcs_func, image = np.ones((bp,ap)))\n",
    "    \n",
    "    #boolshit\n",
    "    final_bool = (not Abool) and (not Bbool) and (Cbool)\n",
    "    \n",
    "    return final_bool"
   ]
  },
  {
   "cell_type": "code",
   "execution_count": null,
   "metadata": {},
   "outputs": [],
   "source": [
    "from astropy import wcs"
   ]
  },
  {
   "cell_type": "code",
   "execution_count": null,
   "metadata": {},
   "outputs": [],
   "source": [
    "num_param = '0027'\n",
    "\n",
    "image_array = plt.imread('../Data_CometHolmes/holmes-%s.jpg'%(num_param))\n",
    "print(image_array.shape)\n",
    "image_shape = np.ones(image_array.shape[:2])\n",
    "world_coord = wcs.WCS('../Data_CometHolmes/holmes-%s.wcs'%(num_param))\n",
    "\n",
    "#plt.imshow(image_array)\n",
    "pixel_coords = np.ones((len(image_array)*len(image_array[0]), 2))\n",
    "#loop through the array and make pixel coords at each point, might have to flip axes\n",
    "\n",
    "foot_print = world_coord.calc_footprint(axes = [len(image_array),len(image_array[0])])\n",
    "print(\"Footprint: \", foot_print)\n",
    "\n",
    "    \n",
    "#print(spot_test.contained_by(world_coord, image = image_shape[:400])) #how does the footprint work?\n",
    "print(spot_test.contained_by(world_coord, image = np.ones((100,600))))\n",
    "\n",
    "##CHOOSE COORDINATE SYSTEM THAT IS CORRECT, MIGHT BE LITTLE ERRORS IN THE CONTAINED_BY METHOD\n",
    "\n",
    "##HOW TO DO SUBIMAGE DESCRIBED IN THE PAPER???\n",
    "eta = 0.8\n",
    "#r_eta = np.sqrt(eta)\n",
    "#in_subimage = False\n",
    "#a,b = image_array.shape[:2]\n",
    "#am is \"a minus\" to denote the relevant values\n",
    "#am = int(a*(1-r_eta)/2)\n",
    "#ap = int(a*(1+r_eta)/2)\n",
    "#bm = int(b*(1-r_eta)/2)\n",
    "#bp = int(b*(1+r_eta)/2)\n",
    "\n",
    "validRA = []\n",
    "validDEC = []\n",
    "for i in sky_coords:\n",
    "    \n",
    "    if subimage_contains(image_array, world_coord, eta, i):\n",
    "        validRA.append(i.ra.degree)\n",
    "        validDEC.append(i.dec.degree)\n",
    "\n",
    "\n",
    "##LOOK AT SUBIMAGE DOCUMENTATION, try specifying image dimension in footprint_contains\n",
    "\n",
    "for i in range(len(image_array)):\n",
    "    for j in range(len(image_array[0])):\n",
    "        index = i*len(image_array[0]) + j\n",
    "        pixel_coords[index][0] = i\n",
    "        pixel_coords[index][1] = j\n",
    "\n",
    "trans_coords = np.transpose(world_coord.wcs_pix2world(pixel_coords, 0))\n",
    "plt.scatter(trans_coords[0], trans_coords[1], color='k');\n",
    "plt.scatter(np.transpose(foot_print)[0], np.transpose(foot_print)[1],color='b')\n",
    "plt.scatter([spot_test.ra.degree],[spot_test.dec.degree],color='b')\n",
    "plt.scatter(validRA,validDEC,color='g')"
   ]
  }
 ],
 "metadata": {
  "kernelspec": {
   "display_name": "Python 3",
   "language": "python",
   "name": "python3"
  },
  "language_info": {
   "codemirror_mode": {
    "name": "ipython",
    "version": 3
   },
   "file_extension": ".py",
   "mimetype": "text/x-python",
   "name": "python",
   "nbconvert_exporter": "python",
   "pygments_lexer": "ipython3",
   "version": "3.7.6"
  }
 },
 "nbformat": 4,
 "nbformat_minor": 2
}
