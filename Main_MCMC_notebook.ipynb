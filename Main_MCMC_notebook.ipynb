{
 "cells": [
  {
   "cell_type": "code",
   "execution_count": 95,
   "metadata": {},
   "outputs": [],
   "source": [
    "import numpy as np\n",
    "import matplotlib.pyplot as plt\n",
    "from astropy.io import fits\n",
    "from astropy import wcs\n",
    "import sys\n",
    "\n",
    "from astropy import units as u\n",
    "from poliastro.bodies import Earth, Sun\n",
    "from poliastro.twobody import Orbit\n",
    "from astropy.coordinates import SkyCoord\n",
    "from astropy.coordinates import GCRS\n",
    "from astropy.coordinates import ICRS\n",
    "from astropy.coordinates import get_moon\n",
    "from astropy.time import Time\n",
    "from datetime import datetime\n",
    "\n",
    "\n",
    "import PIL.Image\n",
    "from astropy.utils.data import get_pkg_data_filename\n",
    "\n",
    "#to load wcs:\n",
    "#import cairo"
   ]
  },
  {
   "cell_type": "code",
   "execution_count": 96,
   "metadata": {},
   "outputs": [],
   "source": [
    "#data\n",
    "all_files = !ls ../Data_CometHolmes\n",
    "jpeg_files = all_files[0::2] #to get only the jpeg files\n",
    "#getting the image numbers\n",
    "\n",
    "image_number = []\n",
    "for i in jpeg_files:\n",
    "    image_number.append(i[7:11])"
   ]
  },
  {
   "cell_type": "code",
   "execution_count": 5,
   "metadata": {},
   "outputs": [],
   "source": [
    "#getting the exif\n",
    "import PIL.Image\n",
    "img = []\n",
    "exif_data = []\n",
    "n=0\n",
    "for i in range(len(jpeg_files)):\n",
    "    image_temp = PIL.Image.open('../Data_CometHolmes/' + jpeg_files[i])\n",
    "    img.append(image_temp)\n",
    "    exif_data.append(img[i].getexif())\n",
    "    image_temp.close()\n",
    "\n",
    "pic_date_time = []\n",
    "# associate picture number with time \n",
    "for i in range(1299):\n",
    "    pic_date_time.append([image_number[i], exif_data[i].get(306)])\n",
    "\n",
    "#get only the ones with EXIF values\n",
    "pdt_exif = [row for row in pic_date_time if row[1] != None ]\n",
    "\n",
    "#some entries have the form: '2007:10:30 14:29:03\\x00', so let's remove the weird ending\n",
    "for i in range(len(pdt_exif)):\n",
    "    if len(pdt_exif[i][1]) == 20:\n",
    "        pdt_exif[i][1] = pdt_exif[i][1][:-1]\n",
    "\n",
    "#discrepency between paper and code: we have 11 more timestamped images !!!!"
   ]
  },
  {
   "cell_type": "code",
   "execution_count": 6,
   "metadata": {
    "scrolled": true
   },
   "outputs": [
    {
     "name": "stdout",
     "output_type": "stream",
     "text": [
      "2007-11-06T19:02:26\n"
     ]
    },
    {
     "data": {
      "text/plain": [
       "[['0001', '2007-11-01T21:44:30'],\n",
       " ['0003', '2007-11-06T19:02:26'],\n",
       " ['0004', '2007-11-08T00:37:30'],\n",
       " ['0010', '2007-11-06T23:49:01'],\n",
       " ['0011', '2007-11-06T23:49:01'],\n",
       " ['0042', '2007-11-04T17:04:49'],\n",
       " ['0064', '2007-11-05T18:16:11'],\n",
       " ['0074', '2007-11-06T17:30:57'],\n",
       " ['0078', '2007-10-24T23:56:47'],\n",
       " ['0106', '2007-10-31T10:32:19'],\n",
       " ['0127', '2007-10-28T10:03:53'],\n",
       " ['0139', '2007-11-20T13:10:51'],\n",
       " ['0215', '2007-12-18T02:45:32'],\n",
       " ['0219', '2007-11-02T19:14:37'],\n",
       " ['0270', '2007-12-08T17:36:17'],\n",
       " ['0274', '2007-11-24T19:57:20'],\n",
       " ['0276', '2007-10-28T16:32:09'],\n",
       " ['0279', '2007-11-22T17:50:30'],\n",
       " ['0280', '2007-11-22T16:04:39'],\n",
       " ['0281', '2007-11-24T19:56:54'],\n",
       " ['0282', '2007-11-22T10:39:20'],\n",
       " ['0283', '2007-11-24T22:15:59'],\n",
       " ['0284', '2007-11-07T09:36:44'],\n",
       " ['0285', '2007-11-24T19:56:18'],\n",
       " ['0286', '2007-11-17T09:55:03'],\n",
       " ['0302', '2007-10-30T14:29:03'],\n",
       " ['0303', '2007-10-30T14:28:47'],\n",
       " ['0307', '2007-11-02T11:43:37'],\n",
       " ['0308', '2007-11-02T11:43:51'],\n",
       " ['0314', '2007-11-10T08:47:06'],\n",
       " ['0316', '2007-11-14T22:39:46'],\n",
       " ['0337', '2007-11-01T09:38:31'],\n",
       " ['0338', '2007-11-01T09:50:50'],\n",
       " ['0341', '2007-10-29T19:26:38'],\n",
       " ['0342', '2007-11-07T22:13:48'],\n",
       " ['0343', '2007-11-04T12:14:40'],\n",
       " ['0344', '2007-11-15T20:21:18'],\n",
       " ['0352', '2007-10-30T19:50:30'],\n",
       " ['0353', '2007-10-30T19:50:35'],\n",
       " ['0354', '2007-10-30T19:50:44'],\n",
       " ['0358', '2007-11-01T01:39:03'],\n",
       " ['0396', '2008-01-16T21:57:30'],\n",
       " ['0414', '2007-10-30T20:41:20'],\n",
       " ['0415', '2007-12-02T14:39:05'],\n",
       " ['0416', '2007-11-02T23:25:23'],\n",
       " ['0448', '2007-12-05T23:34:52'],\n",
       " ['0454', '2007-10-31T20:36:24'],\n",
       " ['0455', '2007-11-01T20:41:36'],\n",
       " ['0456', '2007-11-01T20:49:34'],\n",
       " ['0457', '2007-11-01T21:55:15'],\n",
       " ['0460', '2007-11-01T21:57:46'],\n",
       " ['0461', '2007-11-01T21:58:59'],\n",
       " ['0462', '2007-11-01T21:59:20'],\n",
       " ['0463', '2007-11-06T21:36:02'],\n",
       " ['0464', '2007-11-06T21:37:56'],\n",
       " ['0465', '2007-11-06T21:38:41'],\n",
       " ['0470', '2007-11-10T17:47:47'],\n",
       " ['0471', '2008-03-01T14:50:36'],\n",
       " ['0475', '2007-11-10T20:37:39'],\n",
       " ['0476', '2007-11-10T21:04:11'],\n",
       " ['0558', '2007-12-07T00:44:27'],\n",
       " ['0562', '2007-11-18T18:58:04'],\n",
       " ['0564', '2007-11-19T20:47:23'],\n",
       " ['0565', '2007-11-19T20:30:57'],\n",
       " ['0567', '2007-11-19T09:45:44'],\n",
       " ['0568', '2007-11-21T07:25:04'],\n",
       " ['0570', '2007-11-21T20:09:26'],\n",
       " ['0572', '2007-11-18T00:38:26'],\n",
       " ['0574', '2007-11-18T00:41:38'],\n",
       " ['0605', '2007-10-28T21:14:01'],\n",
       " ['0608', '2007-11-08T22:19:46'],\n",
       " ['0609', '2007-11-12T18:24:08'],\n",
       " ['0610', '2007-12-16T10:24:28'],\n",
       " ['0611', '2007-10-28T10:55:34'],\n",
       " ['0612', '2007-10-31T17:56:45'],\n",
       " ['0613', '2007-11-02T23:02:50'],\n",
       " ['0614', '2007-11-02T23:04:47'],\n",
       " ['0615', '2007-11-02T23:04:07'],\n",
       " ['0616', '2007-11-05T22:23:47'],\n",
       " ['0617', '2007-11-05T22:51:26'],\n",
       " ['0618', '2007-11-12T18:45:42'],\n",
       " ['0619', '2007-11-01T00:00:57'],\n",
       " ['0644', '2007-11-06T20:06:50'],\n",
       " ['0654', '2007-11-05T17:54:39'],\n",
       " ['0655', '2007-10-29T13:03:17'],\n",
       " ['0670', '2007-10-25T09:33:45'],\n",
       " ['0678', '2007-11-04T22:22:51'],\n",
       " ['0680', '2008-01-13T17:21:24'],\n",
       " ['0681', '2008-01-13T17:20:53'],\n",
       " ['0683', '2008-01-13T17:20:28'],\n",
       " ['0685', '2008-01-13T17:19:03'],\n",
       " ['0686', '2008-01-13T17:19:35'],\n",
       " ['0687', '2008-01-13T17:17:10'],\n",
       " ['0688', '2008-01-13T17:14:23'],\n",
       " ['0691', '2008-01-13T17:16:45'],\n",
       " ['0692', '2008-01-13T17:14:49'],\n",
       " ['0784', '2006-02-19T22:22:01'],\n",
       " ['0819', '2007-11-02T00:57:22'],\n",
       " ['0820', '2007-11-18T13:35:19'],\n",
       " ['0822', '2007-11-08T17:56:19'],\n",
       " ['0823', '2007-11-20T13:20:42'],\n",
       " ['0827', '2007-11-22T21:14:20'],\n",
       " ['0828', '2007-11-20T21:52:53'],\n",
       " ['0857', '2009-09-14T12:17:23'],\n",
       " ['0858', '2009-09-14T12:17:23'],\n",
       " ['0859', '2007-11-24T16:27:56'],\n",
       " ['0860', '2008-03-08T17:06:38'],\n",
       " ['0862', '2008-03-09T19:06:36'],\n",
       " ['0867', '2007-12-01T03:31:07'],\n",
       " ['0868', '2007-12-01T03:31:05'],\n",
       " ['0869', '2007-12-01T03:31:04'],\n",
       " ['0870', '2007-11-01T04:20:28'],\n",
       " ['0871', '2007-11-09T04:53:49'],\n",
       " ['0872', '2007-12-02T21:05:19'],\n",
       " ['0885', '2007-10-28T12:18:45'],\n",
       " ['0886', '2007-11-01T16:05:12'],\n",
       " ['0887', '2007-11-01T18:08:47'],\n",
       " ['0890', '2007-11-13T22:48:15'],\n",
       " ['0892', '2007-11-25T22:50:50'],\n",
       " ['0894', '2007-10-29T11:55:02'],\n",
       " ['0895', '2007-10-28T13:52:24'],\n",
       " ['0896', '2007-10-28T13:56:37'],\n",
       " ['0897', '2007-11-10T01:47:30'],\n",
       " ['0898', '2007-11-04T19:52:15'],\n",
       " ['0899', '2007-11-10T01:50:27'],\n",
       " ['0900', '2007-11-10T09:52:00'],\n",
       " ['0904', '2007-11-04T22:26:04'],\n",
       " ['0905', '2007-11-04T22:26:18'],\n",
       " ['0906', '2008-01-20T01:22:02'],\n",
       " ['0907', '2008-01-20T01:34:26'],\n",
       " ['0910', '2007-10-25T15:19:11'],\n",
       " ['0912', '2007-11-25T22:13:37'],\n",
       " ['0913', '2007-11-25T22:14:08'],\n",
       " ['0914', '2007-11-25T22:14:36'],\n",
       " ['0915', '2007-11-25T22:14:58'],\n",
       " ['0916', '2007-11-19T22:43:21'],\n",
       " ['0917', '2007-11-19T22:43:42'],\n",
       " ['0920', '2007-11-04T18:40:55'],\n",
       " ['0921', '2007-11-17T16:34:11'],\n",
       " ['0922', '2007-11-04T11:08:52'],\n",
       " ['0923', '2007-11-04T11:09:12'],\n",
       " ['0924', '2007-11-19T22:12:59'],\n",
       " ['0925', '2007-11-19T22:13:21'],\n",
       " ['0930', '2007-11-04T11:09:58'],\n",
       " ['0931', '2007-11-04T11:10:24'],\n",
       " ['0932', '2007-11-04T11:12:49'],\n",
       " ['0933', '2007-11-04T11:13:09'],\n",
       " ['0934', '2007-11-04T11:11:19'],\n",
       " ['0935', '2007-11-19T22:28:10'],\n",
       " ['0936', '2007-11-17T16:57:03'],\n",
       " ['0937', '2007-11-17T16:54:40'],\n",
       " ['0938', '2007-11-17T17:22:25'],\n",
       " ['0939', '2007-11-10T16:17:25'],\n",
       " ['0940', '2007-11-10T16:17:46'],\n",
       " ['0941', '2007-11-10T16:18:26'],\n",
       " ['0942', '2007-11-10T16:18:57'],\n",
       " ['0943', '2007-11-12T16:32:58'],\n",
       " ['0944', '2007-11-12T16:33:21'],\n",
       " ['0945', '2007-11-17T16:29:29'],\n",
       " ['0946', '2007-11-17T16:30:50'],\n",
       " ['0947', '2007-11-17T16:31:21'],\n",
       " ['0948', '2007-11-17T16:32:00'],\n",
       " ['0949', '2007-11-17T16:28:27'],\n",
       " ['0950', '2007-11-17T16:28:57'],\n",
       " ['0951', '2007-11-19T12:32:53'],\n",
       " ['0952', '2007-11-19T12:33:10'],\n",
       " ['0953', '2007-11-19T12:33:35'],\n",
       " ['0954', '2007-11-19T12:33:53'],\n",
       " ['0955', '2007-11-25T22:58:39'],\n",
       " ['0956', '2007-11-25T22:59:02'],\n",
       " ['0957', '2007-12-16T20:49:38'],\n",
       " ['0958', '2007-12-16T20:50:01'],\n",
       " ['0959', '2007-12-14T21:49:52'],\n",
       " ['0960', '2007-12-14T21:50:23'],\n",
       " ['0961', '2007-12-14T21:51:13'],\n",
       " ['0962', '2007-12-14T21:51:44'],\n",
       " ['0963', '2007-11-04T11:14:25'],\n",
       " ['0964', '2007-11-04T11:17:25'],\n",
       " ['0965', '2007-11-04T11:18:15'],\n",
       " ['0966', '2007-11-04T11:18:51'],\n",
       " ['0967', '2007-11-04T11:19:10'],\n",
       " ['0968', '2007-11-04T11:19:35'],\n",
       " ['0969', '2007-11-04T11:19:55'],\n",
       " ['0970', '2007-11-04T11:20:37'],\n",
       " ['0971', '2007-11-04T11:21:02'],\n",
       " ['0972', '2007-11-04T11:21:24'],\n",
       " ['0974', '2007-11-10T17:40:03'],\n",
       " ['0975', '2007-11-10T17:40:32'],\n",
       " ['1067', '2008-10-09T22:19:47'],\n",
       " ['1068', '2008-02-25T18:31:27'],\n",
       " ['1069', '2008-02-25T18:31:27'],\n",
       " ['1110', '2007-10-27T13:11:41'],\n",
       " ['1113', '2008-07-08T16:51:41'],\n",
       " ['1117', '2007-12-05T16:41:00'],\n",
       " ['1118', '2007-11-02T20:44:37'],\n",
       " ['1119', '2007-11-03T08:50:58'],\n",
       " ['1120', '2007-11-08T20:08:03'],\n",
       " ['1122', '2008-12-17T19:14:57'],\n",
       " ['1135', '2007-11-01T00:13:51'],\n",
       " ['1136', '2007-11-05T23:38:07'],\n",
       " ['1137', '2007-11-03T23:04:02'],\n",
       " ['1138', '2007-11-03T23:23:26'],\n",
       " ['1139', '2007-11-04T23:26:45'],\n",
       " ['1142', '2007-11-08T22:54:23'],\n",
       " ['1143', '2007-11-12T21:51:16'],\n",
       " ['1144', '2007-11-15T23:19:49'],\n",
       " ['1145', '2007-11-15T23:20:24'],\n",
       " ['1146', '2007-11-19T21:29:59'],\n",
       " ['1147', '2007-11-20T21:51:22'],\n",
       " ['1148', '2007-11-23T12:38:41'],\n",
       " ['1149', '2007-11-27T20:51:53'],\n",
       " ['1150', '2007-12-06T23:11:53'],\n",
       " ['1151', '2007-12-06T22:30:57'],\n",
       " ['1152', '2007-12-16T22:15:34'],\n",
       " ['1153', '2007-12-23T21:12:39'],\n",
       " ['1154', '2009-02-25T06:33:24'],\n",
       " ['1156', '2007-11-19T05:14:39'],\n",
       " ['1176', '2007-11-04T08:33:32'],\n",
       " ['1177', '2007-11-04T08:34:05'],\n",
       " ['1178', '2007-11-02T22:21:29'],\n",
       " ['1179', '2007-11-02T22:18:42'],\n",
       " ['1180', '2007-11-02T22:20:25'],\n",
       " ['1181', '2007-11-03T09:26:38'],\n",
       " ['1182', '2007-11-03T01:40:18'],\n",
       " ['1183', '2007-11-03T20:27:28'],\n",
       " ['1185', '2007-12-09T17:10:05'],\n",
       " ['1186', '2007-11-02T15:48:05'],\n",
       " ['1190', '2007-11-02T13:16:32'],\n",
       " ['1205', '2007-11-17T10:08:11'],\n",
       " ['1206', '2007-11-16T19:16:38'],\n",
       " ['1207', '2007-10-28T15:12:01'],\n",
       " ['1208', '2007-12-16T21:24:16'],\n",
       " ['1209', '2007-11-07T21:32:39'],\n",
       " ['1210', '2007-11-07T21:32:16'],\n",
       " ['1211', '2007-11-05T23:44:48'],\n",
       " ['1212', '2007-11-05T22:57:04'],\n",
       " ['1213', '2007-11-15T00:52:40'],\n",
       " ['1214', '2007-12-06T17:45:53'],\n",
       " ['1215', '2007-12-06T20:40:39'],\n",
       " ['1217', '2007-12-06T20:25:18'],\n",
       " ['1218', '2007-11-20T01:15:27'],\n",
       " ['1219', '2008-02-28T00:44:48'],\n",
       " ['1222', '2007-11-18T05:12:35'],\n",
       " ['1283', '2007-11-10T21:21:01'],\n",
       " ['1294', '2007-12-20T10:26:06'],\n",
       " ['1295', '2007-11-01T09:54:19'],\n",
       " ['1296', '2007-10-31T21:12:40'],\n",
       " ['1297', '2007-11-01T09:50:54'],\n",
       " ['1298', '2007-10-30T00:19:45'],\n",
       " ['1307', '2007-12-08T14:28:11'],\n",
       " ['1319', '2007-11-05T13:46:09'],\n",
       " ['1321', '2007-11-12T00:00:00'],\n",
       " ['1337', '2007-11-10T10:45:33'],\n",
       " ['1343', '2005-11-06T00:57:52'],\n",
       " ['1353', '2007-10-28T22:08:21'],\n",
       " ['1354', '2007-11-11T21:48:42'],\n",
       " ['1355', '2007-11-12T08:30:46'],\n",
       " ['1356', '2007-11-12T10:13:47'],\n",
       " ['1388', '2007-11-03T22:00:06'],\n",
       " ['1394', '2008-02-08T07:39:40'],\n",
       " ['1413', '2007-11-12T11:07:22'],\n",
       " ['1414', '2007-11-11T21:01:31'],\n",
       " ['1423', '2007-07-24T10:40:48'],\n",
       " ['1430', '2007-12-08T18:37:10'],\n",
       " ['1431', '2007-10-28T20:01:16'],\n",
       " ['1433', '2008-05-08T22:10:01'],\n",
       " ['1436', '2007-10-29T00:43:50'],\n",
       " ['1437', '2008-05-08T21:58:23'],\n",
       " ['1438', '2008-05-08T22:08:06'],\n",
       " ['1439', '2008-05-08T22:09:14'],\n",
       " ['1440', '2007-11-05T22:41:02'],\n",
       " ['1449', '2008-05-30T15:49:41'],\n",
       " ['1450', '2008-05-30T15:47:50'],\n",
       " ['1451', '2007-12-04T20:52:17'],\n",
       " ['1452', '2007-12-04T20:52:56'],\n",
       " ['1486', '2007-11-21T19:39:14'],\n",
       " ['1506', '2007-11-04T14:30:54'],\n",
       " ['1507', '2009-05-05T17:01:42'],\n",
       " ['1527', '2007-11-02T15:34:09'],\n",
       " ['1583', '2007-11-03T11:27:02'],\n",
       " ['1622', '2007-11-12T17:10:48'],\n",
       " ['1623', '2007-11-12T11:26:52'],\n",
       " ['1646', '2008-01-16T06:24:10'],\n",
       " ['1648', '2008-03-05T17:00:34'],\n",
       " ['1661', '2007-10-09T07:51:54'],\n",
       " ['1662', '2007-10-09T07:59:22'],\n",
       " ['1687', '2007-12-11T16:42:25'],\n",
       " ['1688', '2007-12-11T16:47:04'],\n",
       " ['1689', '2004-02-01T15:25:36'],\n",
       " ['1690', '2004-08-07T21:51:20'],\n",
       " ['1693', '2007-11-11T07:16:54'],\n",
       " ['1694', '2007-11-11T07:20:50'],\n",
       " ['1695', '2007-11-11T07:23:56'],\n",
       " ['1696', '2007-11-11T07:21:48'],\n",
       " ['1697', '2007-11-17T15:42:44'],\n",
       " ['1702', '2007-11-11T09:34:43'],\n",
       " ['1720', '2007-11-12T23:10:58'],\n",
       " ['1723', '2007-11-12T15:23:34'],\n",
       " ['1732', '2008-02-06T19:18:25'],\n",
       " ['1735', '2007-10-31T01:38:21'],\n",
       " ['1736', '2007-11-04T14:11:53'],\n",
       " ['1767', '2007-11-22T09:35:30'],\n",
       " ['1768', '2008-01-17T10:55:21'],\n",
       " ['1769', '2007-12-03T10:35:57'],\n",
       " ['1770', '2007-11-06T13:26:03'],\n",
       " ['1771', '2007-10-28T19:22:56'],\n",
       " ['1773', '2007-11-26T21:37:24'],\n",
       " ['1777', '2007-11-04T15:41:06'],\n",
       " ['1800', '2007-11-02T17:44:22'],\n",
       " ['1803', '2007-12-24T08:49:03'],\n",
       " ['1809', '2007-11-04T11:47:22'],\n",
       " ['1810', '2007-11-04T11:48:40'],\n",
       " ['1815', '2007-11-04T23:03:52'],\n",
       " ['1820', '2007-11-04T15:04:13'],\n",
       " ['1822', '2007-11-04T18:07:32'],\n",
       " ['1834', '2007-11-05T06:32:33'],\n",
       " ['1841', '2007-11-06T09:52:15'],\n",
       " ['1843', '2007-11-06T00:01:40'],\n",
       " ['1846', '2007-11-05T15:26:44'],\n",
       " ['1848', '2007-11-05T19:34:29'],\n",
       " ['1851', '2007-11-07T01:04:07'],\n",
       " ['1858', '2007-12-04T23:10:25'],\n",
       " ['1859', '2007-12-06T09:43:54'],\n",
       " ['1863', '2007-12-03T23:50:42'],\n",
       " ['1868', '2007-11-12T17:10:48'],\n",
       " ['1870', '2007-12-10T19:41:19'],\n",
       " ['1873', '2008-01-10T21:42:47'],\n",
       " ['1876', '2008-01-10T21:53:11'],\n",
       " ['1877', '2007-12-27T19:46:30'],\n",
       " ['1878', '2008-01-11T22:43:56'],\n",
       " ['1881', '2008-01-04T18:38:50'],\n",
       " ['1883', '2008-01-12T19:36:26'],\n",
       " ['1885', '2008-01-09T22:33:42'],\n",
       " ['1889', '2007-11-09T20:04:51'],\n",
       " ['1892', '2007-11-11T21:50:51'],\n",
       " ['1895', '2007-11-12T16:31:09'],\n",
       " ['1898', '2007-11-13T16:37:23'],\n",
       " ['1906', '2007-11-15T21:47:00'],\n",
       " ['1907', '2007-11-15T21:49:12'],\n",
       " ['1908', '2007-11-15T22:00:20'],\n",
       " ['1909', '2007-11-10T18:42:40'],\n",
       " ['1912', '2007-11-15T08:25:36'],\n",
       " ['1914', '2007-11-16T00:42:20'],\n",
       " ['1918', '2007-11-15T20:00:01'],\n",
       " ['1926', '2007-11-04T15:00:04'],\n",
       " ['1936', '2007-11-17T09:00:51'],\n",
       " ['1938', '2007-11-16T19:44:37'],\n",
       " ['1940', '2007-11-17T17:05:17'],\n",
       " ['1946', '2007-11-17T21:21:47'],\n",
       " ['1947', '2007-11-17T11:05:29'],\n",
       " ['1951', '2007-11-17T20:00:40'],\n",
       " ['1953', '2007-11-18T00:01:28'],\n",
       " ['1958', '2007-11-18T21:04:43'],\n",
       " ['1959', '2007-11-18T23:53:22'],\n",
       " ['1963', '2007-11-17T20:26:08'],\n",
       " ['1968', '2007-11-18T11:31:29'],\n",
       " ['1969', '2007-11-18T00:06:25'],\n",
       " ['1970', '2007-11-18T11:30:54'],\n",
       " ['2011', '2007-10-25T01:11:43'],\n",
       " ['2013', '2007-10-24T22:05:29'],\n",
       " ['2014', '2007-10-24T22:05:38'],\n",
       " ['2015', '2007-10-24T21:50:30'],\n",
       " ['2017', '2007-10-25T00:56:28'],\n",
       " ['2019', '2007-10-25T00:10:54'],\n",
       " ['2021', '2007-10-24T23:07:28'],\n",
       " ['2022', '2007-10-24T22:29:15'],\n",
       " ['2025', '2007-10-24T22:28:52'],\n",
       " ['2026', '2007-10-24T20:01:37'],\n",
       " ['2027', '2007-10-25T08:25:26'],\n",
       " ['2034', '2007-10-25T00:16:28'],\n",
       " ['2036', '2007-10-25T00:25:07'],\n",
       " ['2039', '2007-10-26T02:39:52'],\n",
       " ['2058', '2007-10-26T15:20:29'],\n",
       " ['2060', '2007-10-27T02:51:41'],\n",
       " ['2084', '2007-11-28T13:58:31'],\n",
       " ['2088', '2007-11-26T19:29:47'],\n",
       " ['2093', '2007-11-27T20:03:56'],\n",
       " ['2101', '2007-11-28T09:06:25'],\n",
       " ['2106', '2007-10-28T22:01:48'],\n",
       " ['2107', '2007-10-28T23:20:40'],\n",
       " ['2119', '2007-10-28T22:13:41'],\n",
       " ['2133', '2007-10-29T09:30:01'],\n",
       " ['2138', '2007-10-30T02:57:31'],\n",
       " ['2158', '2007-11-29T18:53:13'],\n",
       " ['2159', '2007-11-29T21:25:37'],\n",
       " ['2164', '2007-11-28T17:45:14'],\n",
       " ['2169', '2007-11-30T00:19:55'],\n",
       " ['2173', '2007-11-30T00:52:16'],\n",
       " ['2174', '2007-11-30T00:24:58'],\n",
       " ['2183', '2009-03-13T21:06:03'],\n",
       " ['2185', '2007-12-29T22:16:40'],\n",
       " ['2192', '2007-11-07T13:48:51'],\n",
       " ['2193', '2007-11-11T05:03:04'],\n",
       " ['2196', '2008-03-05T00:14:49'],\n",
       " ['2200', '2007-12-30T15:15:46'],\n",
       " ['2235', '2007-10-26T11:35:42'],\n",
       " ['2236', '2007-11-10T11:14:59'],\n",
       " ['2237', '2007-11-19T18:44:21'],\n",
       " ['2238', '2007-12-11T20:19:14'],\n",
       " ['2240', '2006-05-11T22:31:04'],\n",
       " ['2241', '2007-11-18T22:47:46'],\n",
       " ['2242', '2007-11-18T22:45:17'],\n",
       " ['2244', '2003-06-29T13:48:28'],\n",
       " ['2246', '2004-05-08T09:05:17'],\n",
       " ['2247', '2009-01-31T09:52:33'],\n",
       " ['2254', '2007-11-15T23:51:37'],\n",
       " ['2260', '2007-11-29T19:00:17'],\n",
       " ['2261', '2007-11-04T20:43:00'],\n",
       " ['2269', '2007-11-05T06:35:04'],\n",
       " ['2272', '2007-11-06T11:03:10'],\n",
       " ['2273', '2007-11-22T12:17:53'],\n",
       " ['2274', '2008-03-04T20:05:51'],\n",
       " ['2275', '2008-03-04T20:06:50'],\n",
       " ['2276', '2008-03-04T20:06:06'],\n",
       " ['2277', '2007-10-28T21:55:26'],\n",
       " ['2280', '2008-03-04T20:07:28'],\n",
       " ['2285', '2008-03-04T20:07:06'],\n",
       " ['2286', '2008-03-04T20:06:19'],\n",
       " ['2289', '2008-03-04T20:07:12'],\n",
       " ['2290', '2008-03-04T20:07:35'],\n",
       " ['2291', '2008-03-04T20:05:59'],\n",
       " ['2296', '2007-11-10T23:00:33'],\n",
       " ['2297', '2007-11-10T23:00:35'],\n",
       " ['2300', '2007-11-01T22:31:28'],\n",
       " ['2310', '2007-11-04T22:37:45'],\n",
       " ['2319', '2007-12-03T15:17:10'],\n",
       " ['2320', '2007-12-03T15:17:03'],\n",
       " ['2321', '2007-12-03T15:16:56'],\n",
       " ['2322', '2007-10-27T11:55:51'],\n",
       " ['2335', '2007-11-14T23:03:38'],\n",
       " ['2366', '2007-11-03T23:54:28'],\n",
       " ['2368', '2007-10-28T23:21:04'],\n",
       " ['2474', '2007-10-31T11:00:24']]"
      ]
     },
     "execution_count": 6,
     "metadata": {},
     "output_type": "execute_result"
    }
   ],
   "source": [
    "\n",
    "#woups! we need JD date!!!\n",
    "#we need the following format: '2010-01-01T00:00:00'\n",
    "\n",
    "#getting the format\n",
    "dates = np.transpose(pdt_exif)[1]\n",
    "print(datetime.strptime(dates[1], \"%Y:%m:%d  %H:%M:%S\").strftime(\"%Y-%m-%dT%H:%M:%S\"))\n",
    "\n",
    "m = len(pdt_exif)\n",
    "pdt_julian = pdt_exif\n",
    "\n",
    "for i in range(m):\n",
    "    date_time_string = pdt_exif[i][1]\n",
    "    #right format\n",
    "    d = datetime.strptime(date_time_string, \"%Y:%m:%d  %H:%M:%S\").strftime(\"%Y-%m-%dT%H:%M:%S\")\n",
    "    pdt_julian[i][1] = d\n",
    "pdt_julian"
   ]
  },
  {
   "cell_type": "code",
   "execution_count": 7,
   "metadata": {},
   "outputs": [],
   "source": [
    "#get julian times\n",
    "times = np.transpose(pdt_julian)[1]\n",
    "t = Time(times, format='isot', scale='utc').jd"
   ]
  },
  {
   "cell_type": "code",
   "execution_count": 8,
   "metadata": {},
   "outputs": [
    {
     "name": "stdout",
     "output_type": "stream",
     "text": [
      "2454283.5 2454587.5\n"
     ]
    }
   ],
   "source": [
    "def date2julian(date_string):\n",
    "    date = datetime.strptime(date_string, \"%Y:%m:%d  %H:%M:%S\").strftime(\"%Y-%m-%dT%H:%M:%S\")\n",
    "    julian = Time(date, format='isot', scale='utc').jd\n",
    "    return julian\n",
    "\n",
    "t_min = date2julian(\"2007:07:02  00:00:00\") #july 1st 2007\n",
    "t_max = date2julian(\"2008:05:01  00:00:00\") #may 1st 2008\n",
    "print(t_min, t_max)\n"
   ]
  },
  {
   "cell_type": "code",
   "execution_count": 9,
   "metadata": {},
   "outputs": [
    {
     "name": "stdout",
     "output_type": "stream",
     "text": [
      "delta time: 304.0 , # bins: 38 38.0\n"
     ]
    },
    {
     "data": {
      "image/png": "[encoded data removed]",
      "text/plain": [
       "<Figure size 432x288 with 1 Axes>"
      ]
     },
     "metadata": {
      "needs_background": "light"
     },
     "output_type": "display_data"
    }
   ],
   "source": [
    "delta_t = t_max-t_min\n",
    "bins_width = 8.0 #number of days in JD is just the number of days\n",
    "bins_num = int(delta_t/bins_width) #integer\n",
    "\n",
    "print('delta time:', delta_t, ', # bins:', bins_num,delta_t/bins_width)\n",
    "\n",
    "#keep only times between t_min and t_max\n",
    "#times_filtered = [i for i in t if not  i <= t_min and i <= t_max] \n",
    "hist_array, hist_bins, hist_patches = plt.hist(t, bins = bins_num, range = (t_min, t_max));\n"
   ]
  },
  {
   "cell_type": "code",
   "execution_count": 10,
   "metadata": {},
   "outputs": [],
   "source": [
    "extra_counts = np.linspace(t_min + 4.0, t_max + 4.0, 39)"
   ]
  },
  {
   "cell_type": "code",
   "execution_count": 11,
   "metadata": {},
   "outputs": [
    {
     "data": {
      "image/png": "[encoded data removed]",
      "text/plain": [
       "<Figure size 432x288 with 1 Axes>"
      ]
     },
     "metadata": {
      "needs_background": "light"
     },
     "output_type": "display_data"
    }
   ],
   "source": [
    "plt.title('$p_{emp}(t)$')\n",
    "plt.xlabel('times (JD)')\n",
    "plt.ylabel('prob density')\n",
    "plt.semilogy()\n",
    "prob_time, bins_norm, patches_norm = plt.hist(np.concatenate((t, extra_counts)), bins = bins_num, range = (t_min, t_max), density = True)\n"
   ]
  },
  {
   "cell_type": "code",
   "execution_count": 12,
   "metadata": {},
   "outputs": [],
   "source": [
    "#likelihood (just a product of the single image likelihoods )\n",
    "def likelihood(img_liks):\n",
    "    return np.product(img_liks)"
   ]
  },
  {
   "cell_type": "code",
   "execution_count": 13,
   "metadata": {},
   "outputs": [],
   "source": [
    "#a marginalization over time, we will be using an evenly spaced grid of times\n",
    "#we need to compute one single likelihood \n",
    "def single_image_likelihood():\n",
    "    return 0\n",
    "    "
   ]
  },
  {
   "cell_type": "code",
   "execution_count": 14,
   "metadata": {},
   "outputs": [],
   "source": [
    "#function that takes the position and velocity vectors at a certain epoch and returns the ICRS coordinates of the\n",
    "#object over a time grid (these are approximately ICRS, but the orbit is really around the CM of the sun and\n",
    "#not the solar system barycenter)\n",
    "#r and v are three element lists that represent vectors and need to have the proper units appended\n",
    "#2454416 = November 12th 2007\n",
    "\n",
    "def orbit_sim(r, v,  n_points, t_i, t_f, epoch = 2454416):\n",
    "    #making a list of times to sample:\n",
    "    times = np.linspace(t_i, t_f, n_points)\n",
    "    \n",
    "    #making the propagation delta\n",
    "    prop_delta = [(i - epoch)*u.day for i in times]\n",
    "    \n",
    "    #defining orbit object\n",
    "    orbit = Orbit.from_vectors(Sun, r, v)\n",
    "    \n",
    "    #initialize array to store the positions\n",
    "    locations = [0 for i in range(n_points)]\n",
    "    \n",
    "    #looping over linspace to evaluate the orbit at all of these points\n",
    "    for i in range(len(prop_delta)):\n",
    "        locations[i] = orbit.propagate(prop_delta[i]).rv()[0]\n",
    "    \n",
    "    return [locations, times]"
   ]
  },
  {
   "cell_type": "code",
   "execution_count": 15,
   "metadata": {},
   "outputs": [],
   "source": [
    "#function that takes the cartesian (x,y,z) in ICRS frame and returns the ra and dec as seen from the earth\n",
    "def ICRS_to_GCRS(positions, times):\n",
    "    \n",
    "    coords = [0 for i in range(len(times))]\n",
    "    \n",
    "    \n",
    "    for i in range(len(positions)):\n",
    "        temp_time = Time(times[i], format='jd')\n",
    "        X,Y,Z = positions[i].value\n",
    "        temp_coord = SkyCoord(x = X, y = Y, z = Z, unit='km' ,frame = 'icrs' , representation_type = 'cartesian', obstime=temp_time)\n",
    "        coords[i] = temp_coord.transform_to('gcrs')\n",
    "        \n",
    "    return coords\n",
    "        "
   ]
  },
  {
   "cell_type": "code",
   "execution_count": 76,
   "metadata": {
    "scrolled": false
   },
   "outputs": [
    {
     "name": "stdout",
     "output_type": "stream",
     "text": [
      "CPU times: user 371 ms, sys: 14.9 ms, total: 386 ms\n",
      "Wall time: 375 ms\n"
     ]
    },
    {
     "data": {
      "text/plain": [
       "[<SkyCoord (GCRS: obstime=2454283.5, obsgeoloc=(0., 0., 0.) m, obsgeovel=(0., 0., 0.) m / s): (ra, dec, distance) in (deg, deg, km)\n",
       "     (74.15878633, 34.63600923, 2.86838846e+08)>,\n",
       " <SkyCoord (GCRS: obstime=2454289.7040816327, obsgeoloc=(0., 0., 0.) m, obsgeovel=(0., 0., 0.) m / s): (ra, dec, distance) in (deg, deg, km)\n",
       "     (78.4471412, 35.47472828, 2.75351409e+08)>,\n",
       " <SkyCoord (GCRS: obstime=2454295.9081632653, obsgeoloc=(0., 0., 0.) m, obsgeovel=(0., 0., 0.) m / s): (ra, dec, distance) in (deg, deg, km)\n",
       "     (83.21188167, 36.22268417, 2.62231509e+08)>,\n",
       " <SkyCoord (GCRS: obstime=2454302.112244898, obsgeoloc=(0., 0., 0.) m, obsgeovel=(0., 0., 0.) m / s): (ra, dec, distance) in (deg, deg, km)\n",
       "     (88.6084072, 36.82754403, 2.47598137e+08)>,\n",
       " <SkyCoord (GCRS: obstime=2454308.3163265307, obsgeoloc=(0., 0., 0.) m, obsgeovel=(0., 0., 0.) m / s): (ra, dec, distance) in (deg, deg, km)\n",
       "     (94.85181933, 37.19319176, 2.31631736e+08)>,\n",
       " <SkyCoord (GCRS: obstime=2454314.5204081633, obsgeoloc=(0., 0., 0.) m, obsgeovel=(0., 0., 0.) m / s): (ra, dec, distance) in (deg, deg, km)\n",
       "     (102.23811206, 37.14174636, 2.14602932e+08)>,\n",
       " <SkyCoord (GCRS: obstime=2454320.724489796, obsgeoloc=(0., 0., 0.) m, obsgeovel=(0., 0., 0.) m / s): (ra, dec, distance) in (deg, deg, km)\n",
       "     (111.15650729, 36.33845012, 1.96949831e+08)>,\n",
       " <SkyCoord (GCRS: obstime=2454326.9285714286, obsgeoloc=(0., 0., 0.) m, obsgeovel=(0., 0., 0.) m / s): (ra, dec, distance) in (deg, deg, km)\n",
       "     (122.06934807, 34.14136409, 1.79467197e+08)>,\n",
       " <SkyCoord (GCRS: obstime=2454333.1326530613, obsgeoloc=(0., 0., 0.) m, obsgeovel=(0., 0., 0.) m / s): (ra, dec, distance) in (deg, deg, km)\n",
       "     (135.44155581, 29.27492674, 1.63755099e+08)>,\n",
       " <SkyCoord (GCRS: obstime=2454339.336734694, obsgeoloc=(0., 0., 0.) m, obsgeovel=(0., 0., 0.) m / s): (ra, dec, distance) in (deg, deg, km)\n",
       "     (151.91569432, 18.44085439, 1.53515623e+08)>,\n",
       " <SkyCoord (GCRS: obstime=2454345.5408163266, obsgeoloc=(0., 0., 0.) m, obsgeovel=(0., 0., 0.) m / s): (ra, dec, distance) in (deg, deg, km)\n",
       "     (146.56075321, 12.46295174, 1.40377792e+08)>,\n",
       " <SkyCoord (GCRS: obstime=2454351.7448979593, obsgeoloc=(0., 0., 0.) m, obsgeovel=(0., 0., 0.) m / s): (ra, dec, distance) in (deg, deg, km)\n",
       "     (141.1841003, 17.42391486, 1.34683806e+08)>,\n",
       " <SkyCoord (GCRS: obstime=2454357.948979592, obsgeoloc=(0., 0., 0.) m, obsgeovel=(0., 0., 0.) m / s): (ra, dec, distance) in (deg, deg, km)\n",
       "     (138.6064099, 21.44968763, 1.28961213e+08)>,\n",
       " <SkyCoord (GCRS: obstime=2454364.1530612246, obsgeoloc=(0., 0., 0.) m, obsgeovel=(0., 0., 0.) m / s): (ra, dec, distance) in (deg, deg, km)\n",
       "     (137.34715188, 25.16259329, 1.22167043e+08)>,\n",
       " <SkyCoord (GCRS: obstime=2454370.3571428573, obsgeoloc=(0., 0., 0.) m, obsgeovel=(0., 0., 0.) m / s): (ra, dec, distance) in (deg, deg, km)\n",
       "     (136.87374122, 28.91895168, 1.14228884e+08)>,\n",
       " <SkyCoord (GCRS: obstime=2454376.56122449, obsgeoloc=(0., 0., 0.) m, obsgeovel=(0., 0., 0.) m / s): (ra, dec, distance) in (deg, deg, km)\n",
       "     (136.92887945, 33.01252864, 1.05306573e+08)>,\n",
       " <SkyCoord (GCRS: obstime=2454382.7653061226, obsgeoloc=(0., 0., 0.) m, obsgeovel=(0., 0., 0.) m / s): (ra, dec, distance) in (deg, deg, km)\n",
       "     (137.36705536, 37.76109998, 95666673.91710515)>,\n",
       " <SkyCoord (GCRS: obstime=2454388.9693877553, obsgeoloc=(0., 0., 0.) m, obsgeovel=(0., 0., 0.) m / s): (ra, dec, distance) in (deg, deg, km)\n",
       "     (138.10196903, 43.56011727, 85691921.7779648)>,\n",
       " <SkyCoord (GCRS: obstime=2454395.173469388, obsgeoloc=(0., 0., 0.) m, obsgeovel=(0., 0., 0.) m / s): (ra, dec, distance) in (deg, deg, km)\n",
       "     (139.10528079, 50.91944035, 75909434.97859395)>,\n",
       " <SkyCoord (GCRS: obstime=2454401.3775510206, obsgeoloc=(0., 0., 0.) m, obsgeovel=(0., 0., 0.) m / s): (ra, dec, distance) in (deg, deg, km)\n",
       "     (140.45760011, 60.45336456, 67040072.38336299)>,\n",
       " <SkyCoord (GCRS: obstime=2454407.5816326533, obsgeoloc=(0., 0., 0.) m, obsgeovel=(0., 0., 0.) m / s): (ra, dec, distance) in (deg, deg, km)\n",
       "     (142.69087044, 72.69647221, 60051411.40057249)>,\n",
       " <SkyCoord (GCRS: obstime=2454413.785714286, obsgeoloc=(0., 0., 0.) m, obsgeovel=(0., 0., 0.) m / s): (ra, dec, distance) in (deg, deg, km)\n",
       "     (160.20580983, 87.43358639, 56099517.64388762)>,\n",
       " <SkyCoord (GCRS: obstime=2454419.9897959186, obsgeoloc=(0., 0., 0.) m, obsgeovel=(0., 0., 0.) m / s): (ra, dec, distance) in (deg, deg, km)\n",
       "     (318.76779509, 76.37315481, 56098887.04126166)>,\n",
       " <SkyCoord (GCRS: obstime=2454426.1938775512, obsgeoloc=(0., 0., 0.) m, obsgeovel=(0., 0., 0.) m / s): (ra, dec, distance) in (deg, deg, km)\n",
       "     (321.86066216, 61.48034973, 60106052.18179598)>,\n",
       " <SkyCoord (GCRS: obstime=2454432.397959184, obsgeoloc=(0., 0., 0.) m, obsgeovel=(0., 0., 0.) m / s): (ra, dec, distance) in (deg, deg, km)\n",
       "     (323.60025795, 49.213519, 67289954.28109704)>,\n",
       " <SkyCoord (GCRS: obstime=2454438.602040816, obsgeoloc=(0., 0., 0.) m, obsgeovel=(0., 0., 0.) m / s): (ra, dec, distance) in (deg, deg, km)\n",
       "     (325.0314002, 39.75788705, 76524417.16992483)>,\n",
       " <SkyCoord (GCRS: obstime=2454444.8061224488, obsgeoloc=(0., 0., 0.) m, obsgeovel=(0., 0., 0.) m / s): (ra, dec, distance) in (deg, deg, km)\n",
       "     (326.32577831, 32.60683805, 86826644.42713521)>,\n",
       " <SkyCoord (GCRS: obstime=2454451.0102040814, obsgeoloc=(0., 0., 0.) m, obsgeovel=(0., 0., 0.) m / s): (ra, dec, distance) in (deg, deg, km)\n",
       "     (327.51685002, 27.14827349, 97449507.42218141)>,\n",
       " <SkyCoord (GCRS: obstime=2454457.214285714, obsgeoloc=(0., 0., 0.) m, obsgeovel=(0., 0., 0.) m / s): (ra, dec, distance) in (deg, deg, km)\n",
       "     (328.59637684, 22.87179449, 1.07838288e+08)>,\n",
       " <SkyCoord (GCRS: obstime=2454463.4183673467, obsgeoloc=(0., 0., 0.) m, obsgeovel=(0., 0., 0.) m / s): (ra, dec, distance) in (deg, deg, km)\n",
       "     (329.54131201, 19.39074052, 1.1757382e+08)>,\n",
       " <SkyCoord (GCRS: obstime=2454469.6224489794, obsgeoloc=(0., 0., 0.) m, obsgeovel=(0., 0., 0.) m / s): (ra, dec, distance) in (deg, deg, km)\n",
       "     (330.31841611, 16.4150334, 1.26309876e+08)>,\n",
       " <SkyCoord (GCRS: obstime=2454475.826530612, obsgeoloc=(0., 0., 0.) m, obsgeovel=(0., 0., 0.) m / s): (ra, dec, distance) in (deg, deg, km)\n",
       "     (330.86963366, 13.70525201, 1.33727367e+08)>,\n",
       " <SkyCoord (GCRS: obstime=2454482.0306122447, obsgeoloc=(0., 0., 0.) m, obsgeovel=(0., 0., 0.) m / s): (ra, dec, distance) in (deg, deg, km)\n",
       "     (331.09679741, 11.02327552, 1.39525658e+08)>,\n",
       " <SkyCoord (GCRS: obstime=2454488.2346938774, obsgeoloc=(0., 0., 0.) m, obsgeovel=(0., 0., 0.) m / s): (ra, dec, distance) in (deg, deg, km)\n",
       "     (330.8342844, 8.0703562, 1.43436213e+08)>,\n",
       " <SkyCoord (GCRS: obstime=2454494.43877551, obsgeoloc=(0., 0., 0.) m, obsgeovel=(0., 0., 0.) m / s): (ra, dec, distance) in (deg, deg, km)\n",
       "     (329.77514226, 4.35909761, 1.45263146e+08)>,\n",
       " <SkyCoord (GCRS: obstime=2454500.6428571427, obsgeoloc=(0., 0., 0.) m, obsgeovel=(0., 0., 0.) m / s): (ra, dec, distance) in (deg, deg, km)\n",
       "     (327.18574335, -1.25983082, 1.45124372e+08)>,\n",
       " <SkyCoord (GCRS: obstime=2454506.8469387754, obsgeoloc=(0., 0., 0.) m, obsgeovel=(0., 0., 0.) m / s): (ra, dec, distance) in (deg, deg, km)\n",
       "     (326.91200245, -15.33437291, 1.50378178e+08)>,\n",
       " <SkyCoord (GCRS: obstime=2454513.051020408, obsgeoloc=(0., 0., 0.) m, obsgeovel=(0., 0., 0.) m / s): (ra, dec, distance) in (deg, deg, km)\n",
       "     (346.47964177, -5.48593471, 1.65279504e+08)>,\n",
       " <SkyCoord (GCRS: obstime=2454519.2551020407, obsgeoloc=(0., 0., 0.) m, obsgeovel=(0., 0., 0.) m / s): (ra, dec, distance) in (deg, deg, km)\n",
       "     (356.93250329, 1.33676569, 1.84299678e+08)>,\n",
       " <SkyCoord (GCRS: obstime=2454525.4591836734, obsgeoloc=(0., 0., 0.) m, obsgeovel=(0., 0., 0.) m / s): (ra, dec, distance) in (deg, deg, km)\n",
       "     (4.31673969, 6.26418603, 2.04063083e+08)>,\n",
       " <SkyCoord (GCRS: obstime=2454531.663265306, obsgeoloc=(0., 0., 0.) m, obsgeovel=(0., 0., 0.) m / s): (ra, dec, distance) in (deg, deg, km)\n",
       "     (10.07059942, 10.00497879, 2.23186729e+08)>,\n",
       " <SkyCoord (GCRS: obstime=2454537.8673469387, obsgeoloc=(0., 0., 0.) m, obsgeovel=(0., 0., 0.) m / s): (ra, dec, distance) in (deg, deg, km)\n",
       "     (14.8446012, 12.97526368, 2.4104058e+08)>,\n",
       " <SkyCoord (GCRS: obstime=2454544.0714285714, obsgeoloc=(0., 0., 0.) m, obsgeovel=(0., 0., 0.) m / s): (ra, dec, distance) in (deg, deg, km)\n",
       "     (18.98809465, 15.4252269, 2.57312395e+08)>,\n",
       " <SkyCoord (GCRS: obstime=2454550.275510204, obsgeoloc=(0., 0., 0.) m, obsgeovel=(0., 0., 0.) m / s): (ra, dec, distance) in (deg, deg, km)\n",
       "     (22.71050436, 17.51174034, 2.71841742e+08)>,\n",
       " <SkyCoord (GCRS: obstime=2454556.4795918367, obsgeoloc=(0., 0., 0.) m, obsgeovel=(0., 0., 0.) m / s): (ra, dec, distance) in (deg, deg, km)\n",
       "     (26.14797873, 19.33734318, 2.84532105e+08)>,\n",
       " <SkyCoord (GCRS: obstime=2454562.6836734693, obsgeoloc=(0., 0., 0.) m, obsgeovel=(0., 0., 0.) m / s): (ra, dec, distance) in (deg, deg, km)\n",
       "     (29.39318932, 20.97083504, 2.95313813e+08)>,\n",
       " <SkyCoord (GCRS: obstime=2454568.887755102, obsgeoloc=(0., 0., 0.) m, obsgeovel=(0., 0., 0.) m / s): (ra, dec, distance) in (deg, deg, km)\n",
       "     (32.51107714, 22.45914406, 3.0413526e+08)>,\n",
       " <SkyCoord (GCRS: obstime=2454575.0918367347, obsgeoloc=(0., 0., 0.) m, obsgeovel=(0., 0., 0.) m / s): (ra, dec, distance) in (deg, deg, km)\n",
       "     (35.55028882, 23.83518962, 3.10970269e+08)>,\n",
       " <SkyCoord (GCRS: obstime=2454581.2959183673, obsgeoloc=(0., 0., 0.) m, obsgeovel=(0., 0., 0.) m / s): (ra, dec, distance) in (deg, deg, km)\n",
       "     (38.5525095, 25.12352281, 3.15805081e+08)>,\n",
       " <SkyCoord (GCRS: obstime=2454587.5, obsgeoloc=(0., 0., 0.) m, obsgeovel=(0., 0., 0.) m / s): (ra, dec, distance) in (deg, deg, km)\n",
       "     (41.55519263, 26.34260613, 3.18622305e+08)>]"
      ]
     },
     "execution_count": 76,
     "metadata": {},
     "output_type": "execute_result"
    }
   ],
   "source": [
    "%%time\n",
    "simulated = orbit_sim([10**8,10**8,10**8]*u.km, [0,0,5]*u.km/u.s, 50, 2454283.5, 2454587.5, 2454416)\n",
    "ICRS_to_GCRS(simulated[0], simulated[1])"
   ]
  },
  {
   "cell_type": "code",
   "execution_count": 17,
   "metadata": {},
   "outputs": [],
   "source": [
    "#takes a plt.imread image, WCS object from .wcs file, eta (0,1), and point is a SkyCoord object\n",
    "#deterimines if point is in the eta subimage of the image as defined in the paper\n",
    "\n",
    "def subimage_contains(img, wcs_func, eta, point):\n",
    "    \n",
    "    #assigning variables to the image dimensions\n",
    "    a,b = img.shape[:2]\n",
    "    \n",
    "    #variable assignments that have to do with determining whether the point is in the eta subimage\n",
    "    r_eta = np.sqrt(eta)\n",
    "    am = int(a*(1-r_eta)/2)\n",
    "    ap = int(a*(1+r_eta)/2)\n",
    "    bm = int(b*(1-r_eta)/2)\n",
    "    bp = int(b*(1+r_eta)/2)\n",
    "    \n",
    "    #boolean values \n",
    "    Abool = point.contained_by(wcs_func, image = np.ones((b,am)))\n",
    "    Bbool = point.contained_by(wcs_func, image = np.ones((bm,a)))\n",
    "    Cbool = point.contained_by(wcs_func, image = np.ones((bp,ap)))\n",
    "    \n",
    "    #boolshit\n",
    "    final_bool = (not Abool) and (not Bbool) and (Cbool)\n",
    "    \n",
    "    return final_bool"
   ]
  },
  {
   "cell_type": "code",
   "execution_count": null,
   "metadata": {},
   "outputs": [],
   "source": [
    "contained_by"
   ]
  },
  {
   "cell_type": "code",
   "execution_count": 18,
   "metadata": {},
   "outputs": [],
   "source": [
    "# takes an image (from plt.imread) with its corresponding wcs file, then computes the trajectory of the comet\n",
    "# as seen from Earth and determines whether the comet can be found in a subimage \n",
    "def find_comet(r, v, eta, n_points, img, wcs_func, t_i, t_f):\n",
    "    \n",
    "    #get the comet's position over time grid    \n",
    "    pos, time =  orbit_sim(r, v,  n_points, t_i, t_f)\n",
    "    \n",
    "    #transform to RA and DEC\n",
    "    sky_coords = ICRS_to_GCRS(pos, time)\n",
    "    \n",
    "    #determine whether the comet can be found in a subimage for each image\n",
    "    bool_comet = [False for i in range(len(sky_coords))]\n",
    "    for i in range(len(sky_coords)):\n",
    "        bool_comet[i] = subimage_contains(img, wcs_func, eta, sky_coords[i])\n",
    "        \n",
    "    return bool_comet\n"
   ]
  },
  {
   "cell_type": "code",
   "execution_count": 19,
   "metadata": {},
   "outputs": [
    {
     "name": "stderr",
     "output_type": "stream",
     "text": [
      "WARNING: FITSFixedWarning: The WCS transformation has more axes (2) than the image it is associated with (0) [astropy.wcs.wcs]\n"
     ]
    }
   ],
   "source": [
    "test_image = plt.imread('../Data_CometHolmes/holmes-0001.jpg')\n",
    "test_wcs = wcs.WCS('../Data_CometHolmes/holmes-0001.wcs')"
   ]
  },
  {
   "cell_type": "code",
   "execution_count": 102,
   "metadata": {},
   "outputs": [
    {
     "name": "stdout",
     "output_type": "stream",
     "text": [
      "CPU times: user 91.9 ms, sys: 5.7 ms, total: 97.6 ms\n",
      "Wall time: 98.5 ms\n"
     ]
    },
    {
     "data": {
      "text/plain": [
       "[False, False]"
      ]
     },
     "execution_count": 102,
     "metadata": {},
     "output_type": "execute_result"
    }
   ],
   "source": [
    "%%time\n",
    "find_comet([10**8,10**8,10**8]*u.km, [0,0,5]*u.km/u.s, 0.8 , 2, test_image, test_wcs,2454283.5,2454587.5)"
   ]
  },
  {
   "cell_type": "code",
   "execution_count": 21,
   "metadata": {},
   "outputs": [],
   "source": [
    "#takes in r,v,eta,n params and the image's wcs to compute p_fg (eq.3) \n",
    "def p_fg(r, v, eta, n_points, img, wcs_func, wcs_info, t_i, t_f):\n",
    "    \n",
    "    #solid angle\n",
    "    field_area = float(wcs_info[32][10:])\n",
    "    solid_angle = field_area*(np.pi/(60*180))**2 #converting degs^2 to solid angle (sr)\n",
    "    \n",
    "    #determine whether a sub image contains the comet    \n",
    "    comet_bool = find_comet(r, v, eta, n_points, img, wcs_func, t_i, t_f)\n",
    "    comet_int = np.array([int(i) for i in comet_bool])\n",
    "    \n",
    "    return comet_int/(solid_angle*eta) \n",
    "#eq 4\n",
    "def p_bg(n_points):\n",
    "    return np.ones((n_points))/(4*np.pi)"
   ]
  },
  {
   "cell_type": "code",
   "execution_count": 22,
   "metadata": {},
   "outputs": [],
   "source": [
    "#how to get wcs info\n",
    "#a = !/Users/anahoban/software/astrometry/bin/wcsinfo ../Data_CometHolmes/holmes-0001.wcs\n"
   ]
  },
  {
   "cell_type": "code",
   "execution_count": 23,
   "metadata": {},
   "outputs": [],
   "source": [
    "#function that evaluates eq. 2 using p_fg and p_bg\n",
    "def tdep_sim_likelihood(r, v, eta, n_points, img, wcs_func, wcs_info, p_good, t_i, t_f):\n",
    "    p_f = p_fg(r, v, eta, n_points, img, wcs_func, wcs_info, t_i, t_f)\n",
    "    p_b = p_bg(n_points)\n",
    "    \n",
    "    return p_good*p_f + (1 - p_good)*p_b"
   ]
  },
  {
   "cell_type": "code",
   "execution_count": 24,
   "metadata": {},
   "outputs": [],
   "source": [
    "def p_emp(time, bins_norm):\n",
    "    '''Takes time and returns probability of getting that time based on time hist'''\n",
    "    if bins_norm[0] > time or time > bins_norm[len(bins_norm)-1]:\n",
    "            return 'Given date is not between July 1st 2007 and May 1st 2008.'\n",
    "    else:\n",
    "            for i in range(len(bins_norm)-1):\n",
    "                if bins_norm[i] <= time and time <= bins_norm[i+1]:\n",
    "                    return prob_time[i]  \n",
    "\n",
    "\n",
    "def t_prior(number, time, p_exif, pdt_exif, pdt_julian, bins_norm):\n",
    "    '''Takes an image and checks whether or not it has a EXIF and gives prior depending on that time (array)'''\n",
    "    pdt_transpose = np.transpose(pdt_julian)\n",
    "    dates_list = pdt_transpose[0].tolist()\n",
    "    \n",
    "    #if it has EXIF date:\n",
    "    if number in np.transpose(pdt_exif):\n",
    "        #get its EXIF date:\n",
    "        index = dates_list.index(number)\n",
    "        \n",
    "        #date in JD:\n",
    "        exif_date = Time(pdt_transpose[1][index], format='isot', scale='utc').jd\n",
    "        \n",
    "        prob = []\n",
    "        for t in time:\n",
    "            prob.append(p_exif * uniform_t(exif_date, t) + (1-p_exif)*p_emp(t,bins_norm))\n",
    "        return np.array(prob)\n",
    "        \n",
    "        \n",
    "    #if it doesn't have an EXIF date\n",
    "    else:\n",
    "        prob = []\n",
    "        for t in time:\n",
    "            prob.append(p_emp(t, bins_norm))\n",
    "        return np.array(prob)\n",
    "    \n",
    "def uniform_t(t_exif, time):\n",
    "    '''uniform distribution of t_i w.r.t t_exif +- 0.5 days. All times and in JD'''\n",
    "    if t_exif - 0.5 <= time and time <= t_exif + 0.5:\n",
    "        return 1 \n",
    "    else:\n",
    "        return 0\n",
    "    "
   ]
  },
  {
   "cell_type": "code",
   "execution_count": 25,
   "metadata": {},
   "outputs": [],
   "source": [
    "def single_im_likelihood(number, p_exif, pdt_exif, pdt_julian, bins_norm, r, v, eta, n_points, img, wcs_func, wcs_info, p_good, t_i , t_f ):\n",
    "        time = np.linspace(t_i, t_f, n_points)\n",
    "        integrand = t_prior(number, time, p_exif, pdt_exif, pdt_julian, bins_norm)*tdep_sim_likelihood(r, v, eta, n_points, img, wcs_func, wcs_info, p_good, t_i, t_f)\n",
    "        \n",
    "        return np.sum(integrand)*(t_f-t_i)/(n_points-1) #note: we may not need the multiplication by delta t\n",
    "    "
   ]
  },
  {
   "cell_type": "code",
   "execution_count": 26,
   "metadata": {},
   "outputs": [
    {
     "name": "stderr",
     "output_type": "stream",
     "text": [
      "WARNING: FITSFixedWarning: The WCS transformation has more axes (2) than the image it is associated with (0) [astropy.wcs.wcs]\n"
     ]
    }
   ],
   "source": [
    "#loading in data \n",
    "wcs_list = [wcs.WCS('../Data_CometHolmes/holmes-%s.wcs'%(i)) for i in image_number]\n",
    "img_list = [plt.imread('../Data_CometHolmes/holmes-%s.jpg'%(i)) for i in image_number]\n",
    "wcs_info = [1 for i in image_number]\n",
    "for i in range(len(image_number)):\n",
    "    #wcs_info[i] = !/Users/anahoban/software/astrometry/bin/wcsinfo ../Data_CometHolmes/holmes-{image_number[i]}.wcs\n",
    "    wcs_info[i] = !/usr/local/astrometry/bin/wcsinfo ../Data_CometHolmes/holmes-{image_number[i]}.wcs\n"
   ]
  },
  {
   "cell_type": "code",
   "execution_count": 83,
   "metadata": {},
   "outputs": [
    {
     "name": "stderr",
     "output_type": "stream",
     "text": [
      "WARNING: FITSFixedWarning: The WCS transformation has more axes (2) than the image it is associated with (0) [astropy.wcs.wcs]\n"
     ]
    },
    {
     "name": "stdout",
     "output_type": "stream",
     "text": [
      "CPU times: user 1.67 s, sys: 114 ms, total: 1.78 s\n",
      "Wall time: 2.16 s\n"
     ]
    },
    {
     "data": {
      "text/plain": [
       "0.01723190528922156"
      ]
     },
     "execution_count": 83,
     "metadata": {},
     "output_type": "execute_result"
    }
   ],
   "source": [
    "%%time\n",
    "number = '0002'\n",
    "image = plt.imread('../Data_CometHolmes/holmes-%s.jpg'%(number))\n",
    "wcs_header = wcs.WCS('../Data_CometHolmes/holmes-%s.wcs'%(number))\n",
    "#a = !/Users/anahoban/software/astrometry/bin/wcsinfo ../Data_CometHolmes/holmes-{number}.wcs\n",
    "a = !/usr/local/astrometry/bin/wcsinfo ../Data_CometHolmes/holmes-{number}.wcs\n",
    "single_im_likelihood(number, 0.8, pdt_exif, pdt_julian, bins_norm, [10**8,10**8,10**8]*u.km, [0,0,5]*u.km/u.s, 0.8, 30, image, wcs_header, a, 0.8, 2454283.5, 2454587.5)\n",
    "\n",
    "\n"
   ]
  },
  {
   "cell_type": "code",
   "execution_count": 89,
   "metadata": {},
   "outputs": [
    {
     "name": "stdout",
     "output_type": "stream",
     "text": [
      "CPU times: user 2.27 s, sys: 107 ms, total: 2.38 s\n",
      "Wall time: 2.99 s\n"
     ]
    },
    {
     "data": {
      "text/plain": [
       "0.01564132621032208"
      ]
     },
     "execution_count": 89,
     "metadata": {},
     "output_type": "execute_result"
    }
   ],
   "source": [
    "%%time\n",
    "single_im_likelihood(number, 0.8, pdt_exif, pdt_julian, bins_norm, [10**8,10**8,10**8]*u.km, [0,0,5]*u.km/u.s, 0.8, 50, image, wcs_header, a, 0.8, 2454283.5, 2454587.5)\n"
   ]
  },
  {
   "cell_type": "code",
   "execution_count": 28,
   "metadata": {},
   "outputs": [],
   "source": [
    "def all_im_log_likelihoods(number_lis, p_exif, pdt_exif, pdt_julian, bins_norm, r, v, eta, n_points, p_good, wcs_list, img_list, wcs_info, t_i , t_f):\n",
    "    product_list = [0 for i in number_lis]\n",
    "    \n",
    "    for i in range(len(number_lis)):\n",
    "        image = img_list[i]\n",
    "        wcs_header = wcs_list[i]\n",
    "        wcs_inf = wcs_info[i]\n",
    "        product_list[i] = single_im_likelihood(number_lis[i], p_exif, pdt_exif, pdt_julian, bins_norm, r, v, eta, n_points, image, wcs_header, wcs_inf, p_good, t_i, t_f)\n",
    "    \n",
    "    return np.sum(np.log(product_list))\n",
    "        \n",
    "    "
   ]
  },
  {
   "cell_type": "markdown",
   "metadata": {},
   "source": [
    "# prior\n",
    "### first, the position 3D isotropic gaussian should have mean 0, because we are working in a ref. frame in which the sun is as the center and this makes sense with the authors' suggestion of using [1 AU]^2 as the variance (we expect the comet to be at a dist. of order 1 A.U. from the sun).\n",
    "\n",
    "suggestions for our future selves: \n",
    "1. change sigma to 2 A.U (perihelion)\n",
    "2. escape velocity.. ?"
   ]
  },
  {
   "cell_type": "code",
   "execution_count": 62,
   "metadata": {},
   "outputs": [],
   "source": [
    "from scipy.stats import multivariate_normal as mn"
   ]
  },
  {
   "cell_type": "code",
   "execution_count": 63,
   "metadata": {},
   "outputs": [],
   "source": [
    "def beta_distribution(c, v_escape, alpha = 1, beta = 3): #v_esc is in km/s\n",
    "    b = c/(v_escape**2)\n",
    "    if c > v_escape**2:\n",
    "        return 0\n",
    "    else:\n",
    "        return np.power(b, alpha-1)*np.power(1-b, beta-1)\n",
    "\n",
    "def log_prior(r, v, p_good, p_exif, eta, v_escape):\n",
    "    v_x,v_y,v_z = v\n",
    "    dot_prod = v_x**2 + v_y**2 + v_z**2 #assign this above if statement since it is needed to decide if prior is nonzero\n",
    "    \n",
    "    \n",
    "    if (0 < p_good < 1) and (0 < p_exif < 1) and (dot_prod < (v_escape**2)) and (0 < eta < 1) :\n",
    "        \n",
    "        #position prior\n",
    "        x,y,z = r\n",
    "        xyz = np.array([x,y,z])\n",
    "        mu = np.array([0.0, 0.0, 0.0])\n",
    "\n",
    "        sigma = np.array([1, 1, 1])*149597870.7 #variance is 1 A.U. in all 3 dir\n",
    "                                            #we could change this \n",
    "        covariance = np.diag(sigma**2)\n",
    "\n",
    "        p_pos = mn.pdf(xyz, mean=mu, cov=covariance)\n",
    "    \n",
    "        #velocity prior\n",
    "        p_vel = beta_distribution(dot_prod, v_escape)\n",
    "        \n",
    "        \n",
    "        return np.log(p_vel*p_pos)\n",
    "    \n",
    "    \n",
    "    else:\n",
    "        return -np.inf # log(0) = -inf\n",
    "    \n",
    "    \n",
    "def log_post(theta, number_lis, pdt_exif, pdt_julian, bins_norm, n_points, wcs_list, img_list, wcs_info, t_i = 2454283.5, t_f = 2454587.5,  v_escape= 42.1):\n",
    "    r_x, r_y, r_z, v_x, v_y, v_z, p_good, p_exif, eta =  theta #this defines order order of variables in theta\n",
    "    r = [r_x, r_y, r_z]\n",
    "    v = [v_x, v_y, v_z]\n",
    "    \n",
    "    lp = log_prior(r, v, p_good, p_exif, eta, v_escape)\n",
    "    if not np.isfinite(lp):\n",
    "        return -np.inf\n",
    "    return lp + all_im_log_likelihoods(number_lis, p_exif, pdt_exif, pdt_julian, bins_norm, r*u.km, v*u.km/u.s, eta, n_points, p_good, wcs_list, img_list, wcs_info, t_i, t_f)\n",
    "\n"
   ]
  },
  {
   "cell_type": "markdown",
   "metadata": {},
   "source": [
    "# Trying to improve runtime (1.5 mins for 1 posterior with 2 integration points)"
   ]
  },
  {
   "cell_type": "code",
   "execution_count": 92,
   "metadata": {
    "scrolled": true
   },
   "outputs": [
    {
     "name": "stdout",
     "output_type": "stream",
     "text": [
      "CPU times: user 74.5 ms, sys: 11.8 ms, total: 86.3 ms\n",
      "Wall time: 132 ms\n"
     ]
    },
    {
     "name": "stderr",
     "output_type": "stream",
     "text": [
      "WARNING: FITSFixedWarning: The WCS transformation has more axes (2) than the image it is associated with (0) [astropy.wcs.wcs]\n"
     ]
    },
    {
     "data": {
      "text/plain": [
       "False"
      ]
     },
     "execution_count": 92,
     "metadata": {},
     "output_type": "execute_result"
    }
   ],
   "source": [
    "%%time\n",
    "number = '0027'\n",
    "image = plt.imread('../Data_CometHolmes/holmes-%s.jpg'%(number))\n",
    "wcs_header = wcs.WCS('../Data_CometHolmes/holmes-%s.wcs'%(number))\n",
    "point = SkyCoord(60,54,unit=\"deg\")\n",
    "#for i in range(len(wcs_list)):\n",
    "subimage_contains(img_list[1], wcs_list[1], 0.8, point)"
   ]
  },
  {
   "cell_type": "code",
   "execution_count": 93,
   "metadata": {},
   "outputs": [
    {
     "name": "stdout",
     "output_type": "stream",
     "text": [
      "CPU times: user 26.3 ms, sys: 4.98 ms, total: 31.3 ms\n",
      "Wall time: 32.9 ms\n"
     ]
    },
    {
     "data": {
      "text/plain": [
       "False"
      ]
     },
     "execution_count": 93,
     "metadata": {},
     "output_type": "execute_result"
    }
   ],
   "source": [
    "%%time\n",
    "subimage_contains(img_list[1], wcs_list[1], 0.8, point)"
   ]
  },
  {
   "cell_type": "code",
   "execution_count": 65,
   "metadata": {
    "scrolled": true
   },
   "outputs": [
    {
     "name": "stdout",
     "output_type": "stream",
     "text": [
      "CPU times: user 1min 31s, sys: 1.48 s, total: 1min 33s\n",
      "Wall time: 1min 34s\n"
     ]
    },
    {
     "data": {
      "text/plain": [
       "-8064.289146246929"
      ]
     },
     "execution_count": 65,
     "metadata": {},
     "output_type": "execute_result"
    }
   ],
   "source": [
    "%%time\n",
    "theta = [10e8, 10e8, 10e8, 5, 5, 0, 0.85, 0.75, 0.4]\n",
    "\n",
    "log_post(theta, image_number, pdt_exif, pdt_julian, bins_norm, 2, wcs_list, img_list, wcs_info)"
   ]
  },
  {
   "cell_type": "code",
   "execution_count": 90,
   "metadata": {},
   "outputs": [
    {
     "name": "stdout",
     "output_type": "stream",
     "text": [
      "CPU times: user 3min 36s, sys: 6.44 s, total: 3min 42s\n",
      "Wall time: 4min 1s\n"
     ]
    },
    {
     "data": {
      "text/plain": [
       "-7698.615326922931"
      ]
     },
     "execution_count": 90,
     "metadata": {},
     "output_type": "execute_result"
    }
   ],
   "source": [
    "%%time\n",
    "theta = [10e8, 10e8, 10e8, 5, 5, 0, 0.85, 0.75, 0.4]\n",
    "\n",
    "log_post(theta, image_number, pdt_exif, pdt_julian, bins_norm, 4, wcs_list, img_list, wcs_info)"
   ]
  },
  {
   "cell_type": "code",
   "execution_count": 91,
   "metadata": {},
   "outputs": [
    {
     "name": "stdout",
     "output_type": "stream",
     "text": [
      "CPU times: user 5min 40s, sys: 10.3 s, total: 5min 50s\n",
      "Wall time: 7min 13s\n"
     ]
    },
    {
     "data": {
      "text/plain": [
       "-4606.6211274532725"
      ]
     },
     "execution_count": 91,
     "metadata": {},
     "output_type": "execute_result"
    }
   ],
   "source": [
    "%%time\n",
    "theta = [10e8, 10e8, 10e8, 5, 5, 0, 0.85, 0.75, 0.4]\n",
    "\n",
    "log_post(theta, image_number, pdt_exif, pdt_julian, bins_norm, 6, wcs_list, img_list, wcs_info)"
   ]
  },
  {
   "cell_type": "code",
   "execution_count": 33,
   "metadata": {},
   "outputs": [],
   "source": [
    "#initializing MCMC\n",
    "\n",
    "exif_numbers = np.transpose(pdt_julian)[0]\n",
    "exif_jd = t\n",
    "median_date = np.median(exif_jd)\n",
    "\n",
    "ra_lis = []\n",
    "dec_lis = []\n",
    "\n",
    "for i in wcs_info:\n",
    "    ra_lis.append(float(i[18][10:]))\n",
    "    dec_lis.append(float(i[19][11:]))\n",
    "\n",
    "\n",
    "ra_median = np.median(ra_lis)\n",
    "dec_median = np.median(dec_lis)\n",
    "\n",
    "#getting wcs headers for the files that survive our cuts\n",
    "# associate picture number with time \n",
    "wcs_cutter = []\n",
    "for i in range(len(image_number)):\n",
    "    wcs_cutter.append([image_number[i], exif_data[i].get(306), wcs_info[i]])\n",
    "\n",
    "#get only the ones with EXIF values\n",
    "wcs_clipped = [row for row in wcs_cutter if row[1] != None]\n",
    "for i in range(len(wcs_clipped)):\n",
    "    wcs_clipped[i][1] = float(exif_jd[i])\n",
    "    wcs_clipped[i][2] = np.array([float(wcs_clipped[i][2][18][10:]), float(wcs_clipped[i][2][19][11:])])\n",
    "\n",
    "\n",
    "    \n",
    "#making time & ra & dec cut\n",
    "time_cut_array = []\n",
    "for i in wcs_clipped:\n",
    "    #print((np.abs(i[1]-median_date) <= 7),(np.abs(i[2][0] - ra_median) <= 5), (np.abs(i[2][1] - dec_median) <= 5))\n",
    "    #print(i[2][0] - ra_median)\n",
    "    if (np.abs(i[1]-median_date) <= 7) and  (np.abs(i[2][0] - ra_median) <= 5) and (np.abs(i[2][1] - dec_median) <= 5):\n",
    "        time_cut_array.append(i)\n",
    "        "
   ]
  },
  {
   "cell_type": "code",
   "execution_count": 34,
   "metadata": {},
   "outputs": [
    {
     "name": "stdout",
     "output_type": "stream",
     "text": [
      "-0.29599804626919174 -0.0005473177461361842\n"
     ]
    },
    {
     "data": {
      "image/png": "[encoded data removed]",
      "text/plain": [
       "<Figure size 432x288 with 1 Axes>"
      ]
     },
     "metadata": {
      "needs_background": "light"
     },
     "output_type": "display_data"
    }
   ],
   "source": [
    "number, time, ra_dec = np.transpose(time_cut_array)\n",
    "time = time.astype('float64')\n",
    "ra = np.array([i[0] for i in ra_dec])\n",
    "dec = np.array([i[1] for i in ra_dec])\n",
    "\n",
    "a_ra, b_ra = np.polyfit(time, ra, 1)\n",
    "a_dec, b_dec = np.polyfit(time, dec, 1)\n",
    "\n",
    "plt.plot(time, ra, 'k.')\n",
    "plt.plot(time, dec, 'b.')\n",
    "\n",
    "x_axis = np.linspace(np.min(time), np.max(time), 300)\n",
    "\n",
    "plt.plot(x_axis, x_axis*a_ra + b_ra)\n",
    "plt.plot(x_axis, x_axis*a_dec + b_dec)\n",
    "print(a_ra, a_dec)"
   ]
  },
  {
   "cell_type": "code",
   "execution_count": 35,
   "metadata": {},
   "outputs": [],
   "source": [
    "from astropy.coordinates import CartesianDifferential"
   ]
  },
  {
   "cell_type": "code",
   "execution_count": 47,
   "metadata": {},
   "outputs": [],
   "source": [
    "#our epoch is 2454416\n",
    "#initializing the MCMC values\n",
    "\n",
    "#converting our fits to km/s\n",
    "proper_m_ra = a_ra*u.deg/u.day\n",
    "proper_m_dec = a_dec*u.deg/u.day\n",
    "initial_GCRS_pt = SkyCoord(ra = ra_median*u.deg, dec = dec_median*u.deg, distance = 1*u.au, pm_ra_cosdec = proper_m_ra, pm_dec = proper_m_dec, obstime = Time(median_date, format='jd'), frame='gcrs', radial_velocity=0*u.km/u.s)\n",
    "initial_ICRS_pt = initial_GCRS_pt.transform_to('icrs')\n",
    "\n",
    "x_init = (initial_ICRS_pt.cartesian.x.to(u.km)).value\n",
    "y_init = (initial_ICRS_pt.cartesian.y.to(u.km)).value\n",
    "z_init = (initial_ICRS_pt.cartesian.z.to(u.km)).value\n",
    "\n",
    "v_x_init = (initial_ICRS_pt.velocity.d_x.to(u.km/u.s)).value\n",
    "v_y_init = (initial_ICRS_pt.velocity.d_y.to(u.km/u.s)).value\n",
    "v_z_init = (initial_ICRS_pt.velocity.d_z.to(u.km/u.s)).value\n"
   ]
  },
  {
   "cell_type": "markdown",
   "metadata": {},
   "source": [
    "# MCMC TIME!!\n"
   ]
  },
  {
   "cell_type": "code",
   "execution_count": 37,
   "metadata": {
    "scrolled": true
   },
   "outputs": [
    {
     "name": "stdout",
     "output_type": "stream",
     "text": [
      "Populating the interactive namespace from numpy and matplotlib\n"
     ]
    },
    {
     "name": "stderr",
     "output_type": "stream",
     "text": [
      "/opt/anaconda3/lib/python3.7/site-packages/IPython/core/magics/pylab.py:160: UserWarning: pylab import has clobbered these variables: ['time', 'datetime', 'number', 'multivariate_normal']\n",
      "`%matplotlib` prevents importing * from pylab and numpy\n",
      "  \"\\n`%matplotlib` prevents importing * from pylab and numpy\"\n"
     ]
    }
   ],
   "source": [
    "import corner\n",
    "import emcee\n",
    "%pylab inline"
   ]
  },
  {
   "cell_type": "code",
   "execution_count": 87,
   "metadata": {},
   "outputs": [
    {
     "name": "stdout",
     "output_type": "stream",
     "text": [
      "emcee: Exception while calling your likelihood function:\n",
      "  params: [ 1.52227636e+08  1.81860471e+08  1.59910527e+08 -1.59050293e+01\n",
      "  1.24221933e+01  7.63452468e+00  8.61618252e-01  7.38974513e-01\n",
      "  3.98299610e-01]\n",
      "  args: "
     ]
    },
    {
     "name": "stderr",
     "output_type": "stream",
     "text": [
      "IOPub data rate exceeded.\n",
      "The notebook server will temporarily stop sending output\n",
      "to the client in order to avoid crashing it.\n",
      "To change this limit, set the config variable\n",
      "`--NotebookApp.iopub_data_rate_limit`.\n",
      "\n",
      "Current values:\n",
      "NotebookApp.iopub_data_rate_limit=1000000.0 (bytes/sec)\n",
      "NotebookApp.rate_limit_window=3.0 (secs)\n",
      "\n",
      "Traceback (most recent call last):\n",
      "  File \"/opt/anaconda3/lib/python3.7/site-packages/emcee/ensemble.py\", line 545, in __call__\n",
      "    return self.f(x, *self.args, **self.kwargs)\n",
      "  File \"<ipython-input-63-c30f37b626ca>\", line 45, in log_post\n",
      "    return lp + all_im_log_likelihoods(number_lis, p_exif, pdt_exif, pdt_julian, bins_norm, r*u.km, v*u.km/u.s, eta, n_points, p_good, wcs_list, img_list, wcs_info, t_i, t_f)\n",
      "  File \"<ipython-input-28-9bb0f89d49af>\", line 8, in all_im_log_likelihoods\n",
      "    product_list[i] = single_im_likelihood(number_lis[i], p_exif, pdt_exif, pdt_julian, bins_norm, r, v, eta, n_points, image, wcs_header, wcs_inf, p_good, t_i, t_f)\n",
      "  File \"<ipython-input-25-46654c63b9b5>\", line 3, in single_im_likelihood\n",
      "    integrand = t_prior(number, time, p_exif, pdt_exif, pdt_julian, bins_norm)*tdep_sim_likelihood(r, v, eta, n_points, img, wcs_func, wcs_info, p_good, t_i, t_f)\n",
      "  File \"<ipython-input-23-d1964cbe4b0a>\", line 3, in tdep_sim_likelihood\n",
      "    p_f = p_fg(r, v, eta, n_points, img, wcs_func, wcs_info, t_i, t_f)\n",
      "  File \"<ipython-input-21-af068a2bf3d3>\", line 9, in p_fg\n",
      "    comet_bool = find_comet(r, v, eta, n_points, img, wcs_func, t_i, t_f)\n",
      "  File \"<ipython-input-18-b83bb13fd4cc>\", line 14, in find_comet\n",
      "    bool_comet[i] = subimage_contains(img, wcs_func, eta, sky_coords[i])\n",
      "  File \"<ipython-input-17-6c27783b49dd>\", line 17, in subimage_contains\n",
      "    Abool = point.contained_by(wcs_func, image = np.ones((b,am)))\n",
      "  File \"/opt/anaconda3/lib/python3.7/site-packages/astropy/coordinates/sky_coordinate.py\", line 1432, in contained_by\n",
      "    x,y = self.to_pixel(wcs, **kwargs)\n",
      "  File \"/opt/anaconda3/lib/python3.7/site-packages/astropy/coordinates/sky_coordinate.py\", line 1367, in to_pixel\n",
      "    return skycoord_to_pixel(self, wcs=wcs, origin=origin, mode=mode)\n",
      "  File \"/opt/anaconda3/lib/python3.7/site-packages/astropy/wcs/utils.py\", line 537, in skycoord_to_pixel\n",
      "    coords = coords.transform_to(frame)\n",
      "  File \"/opt/anaconda3/lib/python3.7/site-packages/astropy/coordinates/sky_coordinate.py\", line 451, in transform_to\n",
      "    return self.__class__(new_coord, **frame_kwargs)\n",
      "  File \"/opt/anaconda3/lib/python3.7/site-packages/astropy/coordinates/sky_coordinate.py\", line 257, in __init__\n",
      "    frame_cls(**frame_kwargs), args, kwargs)\n",
      "  File \"/opt/anaconda3/lib/python3.7/site-packages/astropy/coordinates/sky_coordinate_parsers.py\", line 284, in _parse_coordinate_data\n",
      "    args[0], frame, units, kwargs)\n",
      "  File \"/opt/anaconda3/lib/python3.7/site-packages/astropy/coordinates/sky_coordinate_parsers.py\", line 401, in _parse_coordinate_arg\n",
      "    data = coords.data.represent_as(frame.representation_type)\n",
      "  File \"/opt/anaconda3/lib/python3.7/site-packages/astropy/coordinates/representation.py\", line 690, in represent_as\n",
      "    new_rep = other_class.from_cartesian(self.to_cartesian())\n",
      "  File \"/opt/anaconda3/lib/python3.7/site-packages/astropy/coordinates/representation.py\", line 1666, in from_cartesian\n",
      "    return cls(*erfa_ufunc.p2s(p), copy=False)\n",
      "  File \"/opt/anaconda3/lib/python3.7/site-packages/astropy/units/quantity.py\", line 444, in __array_ufunc__\n",
      "    converters, unit = converters_and_unit(function, method, *inputs)\n",
      "  File \"/opt/anaconda3/lib/python3.7/site-packages/astropy/units/quantity_helper/converters.py\", line 163, in converters_and_unit\n",
      "    units = [getattr(arg, 'unit', None) for arg in args]\n",
      "  File \"/opt/anaconda3/lib/python3.7/site-packages/astropy/units/quantity_helper/converters.py\", line 163, in <listcomp>\n",
      "    units = [getattr(arg, 'unit', None) for arg in args]\n",
      "  File \"/opt/anaconda3/lib/python3.7/site-packages/astropy/units/quantity.py\", line 741, in unit\n",
      "    return self._unit\n",
      "KeyboardInterrupt\n"
     ]
    },
    {
     "ename": "KeyboardInterrupt",
     "evalue": "",
     "output_type": "error",
     "traceback": [
      "\u001b[0;31m---------------------------------------------------------------------------\u001b[0m",
      "\u001b[0;31mKeyboardInterrupt\u001b[0m                         Traceback (most recent call last)",
      "\u001b[0;32m<ipython-input-87-9962e54af96c>\u001b[0m in \u001b[0;36m<module>\u001b[0;34m\u001b[0m\n\u001b[1;32m      9\u001b[0m \u001b[0;34m\u001b[0m\u001b[0m\n\u001b[1;32m     10\u001b[0m \u001b[0msampler\u001b[0m \u001b[0;34m=\u001b[0m \u001b[0memcee\u001b[0m\u001b[0;34m.\u001b[0m\u001b[0mEnsembleSampler\u001b[0m\u001b[0;34m(\u001b[0m\u001b[0mnwalkers\u001b[0m\u001b[0;34m,\u001b[0m \u001b[0mndim\u001b[0m\u001b[0;34m,\u001b[0m \u001b[0mlog_post\u001b[0m\u001b[0;34m,\u001b[0m \u001b[0margs\u001b[0m \u001b[0;34m=\u001b[0m \u001b[0;34m(\u001b[0m\u001b[0mimage_number\u001b[0m\u001b[0;34m,\u001b[0m \u001b[0mpdt_exif\u001b[0m\u001b[0;34m,\u001b[0m \u001b[0mpdt_julian\u001b[0m\u001b[0;34m,\u001b[0m \u001b[0mbins_norm\u001b[0m\u001b[0;34m,\u001b[0m \u001b[0mpoints_integration\u001b[0m\u001b[0;34m,\u001b[0m \u001b[0mwcs_list\u001b[0m\u001b[0;34m,\u001b[0m \u001b[0mimg_list\u001b[0m\u001b[0;34m,\u001b[0m \u001b[0mwcs_info\u001b[0m\u001b[0;34m)\u001b[0m\u001b[0;34m)\u001b[0m\u001b[0;34m\u001b[0m\u001b[0;34m\u001b[0m\u001b[0m\n\u001b[0;32m---> 11\u001b[0;31m \u001b[0msampler\u001b[0m\u001b[0;34m.\u001b[0m\u001b[0mrun_mcmc\u001b[0m\u001b[0;34m(\u001b[0m\u001b[0minitial_pos\u001b[0m\u001b[0;34m,\u001b[0m \u001b[0mnum_iter\u001b[0m\u001b[0;34m,\u001b[0m \u001b[0mprogress\u001b[0m\u001b[0;34m=\u001b[0m\u001b[0;32mTrue\u001b[0m\u001b[0;34m)\u001b[0m\u001b[0;34m\u001b[0m\u001b[0;34m\u001b[0m\u001b[0m\n\u001b[0m",
      "\u001b[0;32m/opt/anaconda3/lib/python3.7/site-packages/emcee/ensemble.py\u001b[0m in \u001b[0;36mrun_mcmc\u001b[0;34m(self, initial_state, nsteps, **kwargs)\u001b[0m\n\u001b[1;32m    382\u001b[0m \u001b[0;34m\u001b[0m\u001b[0m\n\u001b[1;32m    383\u001b[0m         \u001b[0mresults\u001b[0m \u001b[0;34m=\u001b[0m \u001b[0;32mNone\u001b[0m\u001b[0;34m\u001b[0m\u001b[0;34m\u001b[0m\u001b[0m\n\u001b[0;32m--> 384\u001b[0;31m         \u001b[0;32mfor\u001b[0m \u001b[0mresults\u001b[0m \u001b[0;32min\u001b[0m \u001b[0mself\u001b[0m\u001b[0;34m.\u001b[0m\u001b[0msample\u001b[0m\u001b[0;34m(\u001b[0m\u001b[0minitial_state\u001b[0m\u001b[0;34m,\u001b[0m \u001b[0miterations\u001b[0m\u001b[0;34m=\u001b[0m\u001b[0mnsteps\u001b[0m\u001b[0;34m,\u001b[0m \u001b[0;34m**\u001b[0m\u001b[0mkwargs\u001b[0m\u001b[0;34m)\u001b[0m\u001b[0;34m:\u001b[0m\u001b[0;34m\u001b[0m\u001b[0;34m\u001b[0m\u001b[0m\n\u001b[0m\u001b[1;32m    385\u001b[0m             \u001b[0;32mpass\u001b[0m\u001b[0;34m\u001b[0m\u001b[0;34m\u001b[0m\u001b[0m\n\u001b[1;32m    386\u001b[0m \u001b[0;34m\u001b[0m\u001b[0m\n",
      "\u001b[0;32m/opt/anaconda3/lib/python3.7/site-packages/emcee/ensemble.py\u001b[0m in \u001b[0;36msample\u001b[0;34m(self, initial_state, log_prob0, rstate0, blobs0, iterations, tune, skip_initial_state_check, thin_by, thin, store, progress)\u001b[0m\n\u001b[1;32m    283\u001b[0m             \u001b[0mstate\u001b[0m\u001b[0;34m.\u001b[0m\u001b[0mblobs\u001b[0m \u001b[0;34m=\u001b[0m \u001b[0mblobs0\u001b[0m\u001b[0;34m\u001b[0m\u001b[0;34m\u001b[0m\u001b[0m\n\u001b[1;32m    284\u001b[0m         \u001b[0;32mif\u001b[0m \u001b[0mstate\u001b[0m\u001b[0;34m.\u001b[0m\u001b[0mlog_prob\u001b[0m \u001b[0;32mis\u001b[0m \u001b[0;32mNone\u001b[0m\u001b[0;34m:\u001b[0m\u001b[0;34m\u001b[0m\u001b[0;34m\u001b[0m\u001b[0m\n\u001b[0;32m--> 285\u001b[0;31m             \u001b[0mstate\u001b[0m\u001b[0;34m.\u001b[0m\u001b[0mlog_prob\u001b[0m\u001b[0;34m,\u001b[0m \u001b[0mstate\u001b[0m\u001b[0;34m.\u001b[0m\u001b[0mblobs\u001b[0m \u001b[0;34m=\u001b[0m \u001b[0mself\u001b[0m\u001b[0;34m.\u001b[0m\u001b[0mcompute_log_prob\u001b[0m\u001b[0;34m(\u001b[0m\u001b[0mstate\u001b[0m\u001b[0;34m.\u001b[0m\u001b[0mcoords\u001b[0m\u001b[0;34m)\u001b[0m\u001b[0;34m\u001b[0m\u001b[0;34m\u001b[0m\u001b[0m\n\u001b[0m\u001b[1;32m    286\u001b[0m         \u001b[0;32mif\u001b[0m \u001b[0mnp\u001b[0m\u001b[0;34m.\u001b[0m\u001b[0mshape\u001b[0m\u001b[0;34m(\u001b[0m\u001b[0mstate\u001b[0m\u001b[0;34m.\u001b[0m\u001b[0mlog_prob\u001b[0m\u001b[0;34m)\u001b[0m \u001b[0;34m!=\u001b[0m \u001b[0;34m(\u001b[0m\u001b[0mself\u001b[0m\u001b[0;34m.\u001b[0m\u001b[0mnwalkers\u001b[0m\u001b[0;34m,\u001b[0m\u001b[0;34m)\u001b[0m\u001b[0;34m:\u001b[0m\u001b[0;34m\u001b[0m\u001b[0;34m\u001b[0m\u001b[0m\n\u001b[1;32m    287\u001b[0m             \u001b[0;32mraise\u001b[0m \u001b[0mValueError\u001b[0m\u001b[0;34m(\u001b[0m\u001b[0;34m\"incompatible input dimensions\"\u001b[0m\u001b[0;34m)\u001b[0m\u001b[0;34m\u001b[0m\u001b[0;34m\u001b[0m\u001b[0m\n",
      "\u001b[0;32m/opt/anaconda3/lib/python3.7/site-packages/emcee/ensemble.py\u001b[0m in \u001b[0;36mcompute_log_prob\u001b[0;34m(self, coords)\u001b[0m\n\u001b[1;32m    425\u001b[0m                 \u001b[0mmap_func\u001b[0m \u001b[0;34m=\u001b[0m \u001b[0mmap\u001b[0m\u001b[0;34m\u001b[0m\u001b[0;34m\u001b[0m\u001b[0m\n\u001b[1;32m    426\u001b[0m             results = list(\n\u001b[0;32m--> 427\u001b[0;31m                 \u001b[0mmap_func\u001b[0m\u001b[0;34m(\u001b[0m\u001b[0mself\u001b[0m\u001b[0;34m.\u001b[0m\u001b[0mlog_prob_fn\u001b[0m\u001b[0;34m,\u001b[0m \u001b[0;34m(\u001b[0m\u001b[0mp\u001b[0m\u001b[0;34m[\u001b[0m\u001b[0mi\u001b[0m\u001b[0;34m]\u001b[0m \u001b[0;32mfor\u001b[0m \u001b[0mi\u001b[0m \u001b[0;32min\u001b[0m \u001b[0mrange\u001b[0m\u001b[0;34m(\u001b[0m\u001b[0mlen\u001b[0m\u001b[0;34m(\u001b[0m\u001b[0mp\u001b[0m\u001b[0;34m)\u001b[0m\u001b[0;34m)\u001b[0m\u001b[0;34m)\u001b[0m\u001b[0;34m)\u001b[0m\u001b[0;34m\u001b[0m\u001b[0;34m\u001b[0m\u001b[0m\n\u001b[0m\u001b[1;32m    428\u001b[0m             )\n\u001b[1;32m    429\u001b[0m \u001b[0;34m\u001b[0m\u001b[0m\n",
      "\u001b[0;32m/opt/anaconda3/lib/python3.7/site-packages/emcee/ensemble.py\u001b[0m in \u001b[0;36m__call__\u001b[0;34m(self, x)\u001b[0m\n\u001b[1;32m    543\u001b[0m     \u001b[0;32mdef\u001b[0m \u001b[0m__call__\u001b[0m\u001b[0;34m(\u001b[0m\u001b[0mself\u001b[0m\u001b[0;34m,\u001b[0m \u001b[0mx\u001b[0m\u001b[0;34m)\u001b[0m\u001b[0;34m:\u001b[0m\u001b[0;34m\u001b[0m\u001b[0;34m\u001b[0m\u001b[0m\n\u001b[1;32m    544\u001b[0m         \u001b[0;32mtry\u001b[0m\u001b[0;34m:\u001b[0m\u001b[0;34m\u001b[0m\u001b[0;34m\u001b[0m\u001b[0m\n\u001b[0;32m--> 545\u001b[0;31m             \u001b[0;32mreturn\u001b[0m \u001b[0mself\u001b[0m\u001b[0;34m.\u001b[0m\u001b[0mf\u001b[0m\u001b[0;34m(\u001b[0m\u001b[0mx\u001b[0m\u001b[0;34m,\u001b[0m \u001b[0;34m*\u001b[0m\u001b[0mself\u001b[0m\u001b[0;34m.\u001b[0m\u001b[0margs\u001b[0m\u001b[0;34m,\u001b[0m \u001b[0;34m**\u001b[0m\u001b[0mself\u001b[0m\u001b[0;34m.\u001b[0m\u001b[0mkwargs\u001b[0m\u001b[0;34m)\u001b[0m\u001b[0;34m\u001b[0m\u001b[0;34m\u001b[0m\u001b[0m\n\u001b[0m\u001b[1;32m    546\u001b[0m         \u001b[0;32mexcept\u001b[0m\u001b[0;34m:\u001b[0m  \u001b[0;31m# pragma: no cover\u001b[0m\u001b[0;34m\u001b[0m\u001b[0;34m\u001b[0m\u001b[0m\n\u001b[1;32m    547\u001b[0m             \u001b[0;32mimport\u001b[0m \u001b[0mtraceback\u001b[0m\u001b[0;34m\u001b[0m\u001b[0;34m\u001b[0m\u001b[0m\n",
      "\u001b[0;32m<ipython-input-63-c30f37b626ca>\u001b[0m in \u001b[0;36mlog_post\u001b[0;34m(theta, number_lis, pdt_exif, pdt_julian, bins_norm, n_points, wcs_list, img_list, wcs_info, t_i, t_f, v_escape)\u001b[0m\n\u001b[1;32m     43\u001b[0m     \u001b[0;32mif\u001b[0m \u001b[0;32mnot\u001b[0m \u001b[0mnp\u001b[0m\u001b[0;34m.\u001b[0m\u001b[0misfinite\u001b[0m\u001b[0;34m(\u001b[0m\u001b[0mlp\u001b[0m\u001b[0;34m)\u001b[0m\u001b[0;34m:\u001b[0m\u001b[0;34m\u001b[0m\u001b[0;34m\u001b[0m\u001b[0m\n\u001b[1;32m     44\u001b[0m         \u001b[0;32mreturn\u001b[0m \u001b[0;34m-\u001b[0m\u001b[0mnp\u001b[0m\u001b[0;34m.\u001b[0m\u001b[0minf\u001b[0m\u001b[0;34m\u001b[0m\u001b[0;34m\u001b[0m\u001b[0m\n\u001b[0;32m---> 45\u001b[0;31m     \u001b[0;32mreturn\u001b[0m \u001b[0mlp\u001b[0m \u001b[0;34m+\u001b[0m \u001b[0mall_im_log_likelihoods\u001b[0m\u001b[0;34m(\u001b[0m\u001b[0mnumber_lis\u001b[0m\u001b[0;34m,\u001b[0m \u001b[0mp_exif\u001b[0m\u001b[0;34m,\u001b[0m \u001b[0mpdt_exif\u001b[0m\u001b[0;34m,\u001b[0m \u001b[0mpdt_julian\u001b[0m\u001b[0;34m,\u001b[0m \u001b[0mbins_norm\u001b[0m\u001b[0;34m,\u001b[0m \u001b[0mr\u001b[0m\u001b[0;34m*\u001b[0m\u001b[0mu\u001b[0m\u001b[0;34m.\u001b[0m\u001b[0mkm\u001b[0m\u001b[0;34m,\u001b[0m \u001b[0mv\u001b[0m\u001b[0;34m*\u001b[0m\u001b[0mu\u001b[0m\u001b[0;34m.\u001b[0m\u001b[0mkm\u001b[0m\u001b[0;34m/\u001b[0m\u001b[0mu\u001b[0m\u001b[0;34m.\u001b[0m\u001b[0ms\u001b[0m\u001b[0;34m,\u001b[0m \u001b[0meta\u001b[0m\u001b[0;34m,\u001b[0m \u001b[0mn_points\u001b[0m\u001b[0;34m,\u001b[0m \u001b[0mp_good\u001b[0m\u001b[0;34m,\u001b[0m \u001b[0mwcs_list\u001b[0m\u001b[0;34m,\u001b[0m \u001b[0mimg_list\u001b[0m\u001b[0;34m,\u001b[0m \u001b[0mwcs_info\u001b[0m\u001b[0;34m,\u001b[0m \u001b[0mt_i\u001b[0m\u001b[0;34m,\u001b[0m \u001b[0mt_f\u001b[0m\u001b[0;34m)\u001b[0m\u001b[0;34m\u001b[0m\u001b[0;34m\u001b[0m\u001b[0m\n\u001b[0m\u001b[1;32m     46\u001b[0m \u001b[0;34m\u001b[0m\u001b[0m\n",
      "\u001b[0;32m<ipython-input-28-9bb0f89d49af>\u001b[0m in \u001b[0;36mall_im_log_likelihoods\u001b[0;34m(number_lis, p_exif, pdt_exif, pdt_julian, bins_norm, r, v, eta, n_points, p_good, wcs_list, img_list, wcs_info, t_i, t_f)\u001b[0m\n\u001b[1;32m      6\u001b[0m         \u001b[0mwcs_header\u001b[0m \u001b[0;34m=\u001b[0m \u001b[0mwcs_list\u001b[0m\u001b[0;34m[\u001b[0m\u001b[0mi\u001b[0m\u001b[0;34m]\u001b[0m\u001b[0;34m\u001b[0m\u001b[0;34m\u001b[0m\u001b[0m\n\u001b[1;32m      7\u001b[0m         \u001b[0mwcs_inf\u001b[0m \u001b[0;34m=\u001b[0m \u001b[0mwcs_info\u001b[0m\u001b[0;34m[\u001b[0m\u001b[0mi\u001b[0m\u001b[0;34m]\u001b[0m\u001b[0;34m\u001b[0m\u001b[0;34m\u001b[0m\u001b[0m\n\u001b[0;32m----> 8\u001b[0;31m         \u001b[0mproduct_list\u001b[0m\u001b[0;34m[\u001b[0m\u001b[0mi\u001b[0m\u001b[0;34m]\u001b[0m \u001b[0;34m=\u001b[0m \u001b[0msingle_im_likelihood\u001b[0m\u001b[0;34m(\u001b[0m\u001b[0mnumber_lis\u001b[0m\u001b[0;34m[\u001b[0m\u001b[0mi\u001b[0m\u001b[0;34m]\u001b[0m\u001b[0;34m,\u001b[0m \u001b[0mp_exif\u001b[0m\u001b[0;34m,\u001b[0m \u001b[0mpdt_exif\u001b[0m\u001b[0;34m,\u001b[0m \u001b[0mpdt_julian\u001b[0m\u001b[0;34m,\u001b[0m \u001b[0mbins_norm\u001b[0m\u001b[0;34m,\u001b[0m \u001b[0mr\u001b[0m\u001b[0;34m,\u001b[0m \u001b[0mv\u001b[0m\u001b[0;34m,\u001b[0m \u001b[0meta\u001b[0m\u001b[0;34m,\u001b[0m \u001b[0mn_points\u001b[0m\u001b[0;34m,\u001b[0m \u001b[0mimage\u001b[0m\u001b[0;34m,\u001b[0m \u001b[0mwcs_header\u001b[0m\u001b[0;34m,\u001b[0m \u001b[0mwcs_inf\u001b[0m\u001b[0;34m,\u001b[0m \u001b[0mp_good\u001b[0m\u001b[0;34m,\u001b[0m \u001b[0mt_i\u001b[0m\u001b[0;34m,\u001b[0m \u001b[0mt_f\u001b[0m\u001b[0;34m)\u001b[0m\u001b[0;34m\u001b[0m\u001b[0;34m\u001b[0m\u001b[0m\n\u001b[0m\u001b[1;32m      9\u001b[0m \u001b[0;34m\u001b[0m\u001b[0m\n\u001b[1;32m     10\u001b[0m     \u001b[0;32mreturn\u001b[0m \u001b[0mnp\u001b[0m\u001b[0;34m.\u001b[0m\u001b[0msum\u001b[0m\u001b[0;34m(\u001b[0m\u001b[0mnp\u001b[0m\u001b[0;34m.\u001b[0m\u001b[0mlog\u001b[0m\u001b[0;34m(\u001b[0m\u001b[0mproduct_list\u001b[0m\u001b[0;34m)\u001b[0m\u001b[0;34m)\u001b[0m\u001b[0;34m\u001b[0m\u001b[0;34m\u001b[0m\u001b[0m\n",
      "\u001b[0;32m<ipython-input-25-46654c63b9b5>\u001b[0m in \u001b[0;36msingle_im_likelihood\u001b[0;34m(number, p_exif, pdt_exif, pdt_julian, bins_norm, r, v, eta, n_points, img, wcs_func, wcs_info, p_good, t_i, t_f)\u001b[0m\n\u001b[1;32m      1\u001b[0m \u001b[0;32mdef\u001b[0m \u001b[0msingle_im_likelihood\u001b[0m\u001b[0;34m(\u001b[0m\u001b[0mnumber\u001b[0m\u001b[0;34m,\u001b[0m \u001b[0mp_exif\u001b[0m\u001b[0;34m,\u001b[0m \u001b[0mpdt_exif\u001b[0m\u001b[0;34m,\u001b[0m \u001b[0mpdt_julian\u001b[0m\u001b[0;34m,\u001b[0m \u001b[0mbins_norm\u001b[0m\u001b[0;34m,\u001b[0m \u001b[0mr\u001b[0m\u001b[0;34m,\u001b[0m \u001b[0mv\u001b[0m\u001b[0;34m,\u001b[0m \u001b[0meta\u001b[0m\u001b[0;34m,\u001b[0m \u001b[0mn_points\u001b[0m\u001b[0;34m,\u001b[0m \u001b[0mimg\u001b[0m\u001b[0;34m,\u001b[0m \u001b[0mwcs_func\u001b[0m\u001b[0;34m,\u001b[0m \u001b[0mwcs_info\u001b[0m\u001b[0;34m,\u001b[0m \u001b[0mp_good\u001b[0m\u001b[0;34m,\u001b[0m \u001b[0mt_i\u001b[0m \u001b[0;34m,\u001b[0m \u001b[0mt_f\u001b[0m \u001b[0;34m)\u001b[0m\u001b[0;34m:\u001b[0m\u001b[0;34m\u001b[0m\u001b[0;34m\u001b[0m\u001b[0m\n\u001b[1;32m      2\u001b[0m         \u001b[0mtime\u001b[0m \u001b[0;34m=\u001b[0m \u001b[0mnp\u001b[0m\u001b[0;34m.\u001b[0m\u001b[0mlinspace\u001b[0m\u001b[0;34m(\u001b[0m\u001b[0mt_i\u001b[0m\u001b[0;34m,\u001b[0m \u001b[0mt_f\u001b[0m\u001b[0;34m,\u001b[0m \u001b[0mn_points\u001b[0m\u001b[0;34m)\u001b[0m\u001b[0;34m\u001b[0m\u001b[0;34m\u001b[0m\u001b[0m\n\u001b[0;32m----> 3\u001b[0;31m         \u001b[0mintegrand\u001b[0m \u001b[0;34m=\u001b[0m \u001b[0mt_prior\u001b[0m\u001b[0;34m(\u001b[0m\u001b[0mnumber\u001b[0m\u001b[0;34m,\u001b[0m \u001b[0mtime\u001b[0m\u001b[0;34m,\u001b[0m \u001b[0mp_exif\u001b[0m\u001b[0;34m,\u001b[0m \u001b[0mpdt_exif\u001b[0m\u001b[0;34m,\u001b[0m \u001b[0mpdt_julian\u001b[0m\u001b[0;34m,\u001b[0m \u001b[0mbins_norm\u001b[0m\u001b[0;34m)\u001b[0m\u001b[0;34m*\u001b[0m\u001b[0mtdep_sim_likelihood\u001b[0m\u001b[0;34m(\u001b[0m\u001b[0mr\u001b[0m\u001b[0;34m,\u001b[0m \u001b[0mv\u001b[0m\u001b[0;34m,\u001b[0m \u001b[0meta\u001b[0m\u001b[0;34m,\u001b[0m \u001b[0mn_points\u001b[0m\u001b[0;34m,\u001b[0m \u001b[0mimg\u001b[0m\u001b[0;34m,\u001b[0m \u001b[0mwcs_func\u001b[0m\u001b[0;34m,\u001b[0m \u001b[0mwcs_info\u001b[0m\u001b[0;34m,\u001b[0m \u001b[0mp_good\u001b[0m\u001b[0;34m,\u001b[0m \u001b[0mt_i\u001b[0m\u001b[0;34m,\u001b[0m \u001b[0mt_f\u001b[0m\u001b[0;34m)\u001b[0m\u001b[0;34m\u001b[0m\u001b[0;34m\u001b[0m\u001b[0m\n\u001b[0m\u001b[1;32m      4\u001b[0m \u001b[0;34m\u001b[0m\u001b[0m\n\u001b[1;32m      5\u001b[0m         \u001b[0;32mreturn\u001b[0m \u001b[0mnp\u001b[0m\u001b[0;34m.\u001b[0m\u001b[0msum\u001b[0m\u001b[0;34m(\u001b[0m\u001b[0mintegrand\u001b[0m\u001b[0;34m)\u001b[0m\u001b[0;34m*\u001b[0m\u001b[0;34m(\u001b[0m\u001b[0mt_f\u001b[0m\u001b[0;34m-\u001b[0m\u001b[0mt_i\u001b[0m\u001b[0;34m)\u001b[0m\u001b[0;34m/\u001b[0m\u001b[0;34m(\u001b[0m\u001b[0mn_points\u001b[0m\u001b[0;34m-\u001b[0m\u001b[0;36m1\u001b[0m\u001b[0;34m)\u001b[0m \u001b[0;31m#note: we may not need the multiplication by delta t\u001b[0m\u001b[0;34m\u001b[0m\u001b[0;34m\u001b[0m\u001b[0m\n",
      "\u001b[0;32m<ipython-input-23-d1964cbe4b0a>\u001b[0m in \u001b[0;36mtdep_sim_likelihood\u001b[0;34m(r, v, eta, n_points, img, wcs_func, wcs_info, p_good, t_i, t_f)\u001b[0m\n\u001b[1;32m      1\u001b[0m \u001b[0;31m#function that evaluates eq. 2 using p_fg and p_bg\u001b[0m\u001b[0;34m\u001b[0m\u001b[0;34m\u001b[0m\u001b[0;34m\u001b[0m\u001b[0m\n\u001b[1;32m      2\u001b[0m \u001b[0;32mdef\u001b[0m \u001b[0mtdep_sim_likelihood\u001b[0m\u001b[0;34m(\u001b[0m\u001b[0mr\u001b[0m\u001b[0;34m,\u001b[0m \u001b[0mv\u001b[0m\u001b[0;34m,\u001b[0m \u001b[0meta\u001b[0m\u001b[0;34m,\u001b[0m \u001b[0mn_points\u001b[0m\u001b[0;34m,\u001b[0m \u001b[0mimg\u001b[0m\u001b[0;34m,\u001b[0m \u001b[0mwcs_func\u001b[0m\u001b[0;34m,\u001b[0m \u001b[0mwcs_info\u001b[0m\u001b[0;34m,\u001b[0m \u001b[0mp_good\u001b[0m\u001b[0;34m,\u001b[0m \u001b[0mt_i\u001b[0m\u001b[0;34m,\u001b[0m \u001b[0mt_f\u001b[0m\u001b[0;34m)\u001b[0m\u001b[0;34m:\u001b[0m\u001b[0;34m\u001b[0m\u001b[0;34m\u001b[0m\u001b[0m\n\u001b[0;32m----> 3\u001b[0;31m     \u001b[0mp_f\u001b[0m \u001b[0;34m=\u001b[0m \u001b[0mp_fg\u001b[0m\u001b[0;34m(\u001b[0m\u001b[0mr\u001b[0m\u001b[0;34m,\u001b[0m \u001b[0mv\u001b[0m\u001b[0;34m,\u001b[0m \u001b[0meta\u001b[0m\u001b[0;34m,\u001b[0m \u001b[0mn_points\u001b[0m\u001b[0;34m,\u001b[0m \u001b[0mimg\u001b[0m\u001b[0;34m,\u001b[0m \u001b[0mwcs_func\u001b[0m\u001b[0;34m,\u001b[0m \u001b[0mwcs_info\u001b[0m\u001b[0;34m,\u001b[0m \u001b[0mt_i\u001b[0m\u001b[0;34m,\u001b[0m \u001b[0mt_f\u001b[0m\u001b[0;34m)\u001b[0m\u001b[0;34m\u001b[0m\u001b[0;34m\u001b[0m\u001b[0m\n\u001b[0m\u001b[1;32m      4\u001b[0m     \u001b[0mp_b\u001b[0m \u001b[0;34m=\u001b[0m \u001b[0mp_bg\u001b[0m\u001b[0;34m(\u001b[0m\u001b[0mn_points\u001b[0m\u001b[0;34m)\u001b[0m\u001b[0;34m\u001b[0m\u001b[0;34m\u001b[0m\u001b[0m\n\u001b[1;32m      5\u001b[0m \u001b[0;34m\u001b[0m\u001b[0m\n",
      "\u001b[0;32m<ipython-input-21-af068a2bf3d3>\u001b[0m in \u001b[0;36mp_fg\u001b[0;34m(r, v, eta, n_points, img, wcs_func, wcs_info, t_i, t_f)\u001b[0m\n\u001b[1;32m      7\u001b[0m \u001b[0;34m\u001b[0m\u001b[0m\n\u001b[1;32m      8\u001b[0m     \u001b[0;31m#determine whether a sub image contains the comet\u001b[0m\u001b[0;34m\u001b[0m\u001b[0;34m\u001b[0m\u001b[0;34m\u001b[0m\u001b[0m\n\u001b[0;32m----> 9\u001b[0;31m     \u001b[0mcomet_bool\u001b[0m \u001b[0;34m=\u001b[0m \u001b[0mfind_comet\u001b[0m\u001b[0;34m(\u001b[0m\u001b[0mr\u001b[0m\u001b[0;34m,\u001b[0m \u001b[0mv\u001b[0m\u001b[0;34m,\u001b[0m \u001b[0meta\u001b[0m\u001b[0;34m,\u001b[0m \u001b[0mn_points\u001b[0m\u001b[0;34m,\u001b[0m \u001b[0mimg\u001b[0m\u001b[0;34m,\u001b[0m \u001b[0mwcs_func\u001b[0m\u001b[0;34m,\u001b[0m \u001b[0mt_i\u001b[0m\u001b[0;34m,\u001b[0m \u001b[0mt_f\u001b[0m\u001b[0;34m)\u001b[0m\u001b[0;34m\u001b[0m\u001b[0;34m\u001b[0m\u001b[0m\n\u001b[0m\u001b[1;32m     10\u001b[0m     \u001b[0mcomet_int\u001b[0m \u001b[0;34m=\u001b[0m \u001b[0mnp\u001b[0m\u001b[0;34m.\u001b[0m\u001b[0marray\u001b[0m\u001b[0;34m(\u001b[0m\u001b[0;34m[\u001b[0m\u001b[0mint\u001b[0m\u001b[0;34m(\u001b[0m\u001b[0mi\u001b[0m\u001b[0;34m)\u001b[0m \u001b[0;32mfor\u001b[0m \u001b[0mi\u001b[0m \u001b[0;32min\u001b[0m \u001b[0mcomet_bool\u001b[0m\u001b[0;34m]\u001b[0m\u001b[0;34m)\u001b[0m\u001b[0;34m\u001b[0m\u001b[0;34m\u001b[0m\u001b[0m\n\u001b[1;32m     11\u001b[0m \u001b[0;34m\u001b[0m\u001b[0m\n",
      "\u001b[0;32m<ipython-input-18-b83bb13fd4cc>\u001b[0m in \u001b[0;36mfind_comet\u001b[0;34m(r, v, eta, n_points, img, wcs_func, t_i, t_f)\u001b[0m\n\u001b[1;32m     12\u001b[0m     \u001b[0mbool_comet\u001b[0m \u001b[0;34m=\u001b[0m \u001b[0;34m[\u001b[0m\u001b[0;32mFalse\u001b[0m \u001b[0;32mfor\u001b[0m \u001b[0mi\u001b[0m \u001b[0;32min\u001b[0m \u001b[0mrange\u001b[0m\u001b[0;34m(\u001b[0m\u001b[0mlen\u001b[0m\u001b[0;34m(\u001b[0m\u001b[0msky_coords\u001b[0m\u001b[0;34m)\u001b[0m\u001b[0;34m)\u001b[0m\u001b[0;34m]\u001b[0m\u001b[0;34m\u001b[0m\u001b[0;34m\u001b[0m\u001b[0m\n\u001b[1;32m     13\u001b[0m     \u001b[0;32mfor\u001b[0m \u001b[0mi\u001b[0m \u001b[0;32min\u001b[0m \u001b[0mrange\u001b[0m\u001b[0;34m(\u001b[0m\u001b[0mlen\u001b[0m\u001b[0;34m(\u001b[0m\u001b[0msky_coords\u001b[0m\u001b[0;34m)\u001b[0m\u001b[0;34m)\u001b[0m\u001b[0;34m:\u001b[0m\u001b[0;34m\u001b[0m\u001b[0;34m\u001b[0m\u001b[0m\n\u001b[0;32m---> 14\u001b[0;31m         \u001b[0mbool_comet\u001b[0m\u001b[0;34m[\u001b[0m\u001b[0mi\u001b[0m\u001b[0;34m]\u001b[0m \u001b[0;34m=\u001b[0m \u001b[0msubimage_contains\u001b[0m\u001b[0;34m(\u001b[0m\u001b[0mimg\u001b[0m\u001b[0;34m,\u001b[0m \u001b[0mwcs_func\u001b[0m\u001b[0;34m,\u001b[0m \u001b[0meta\u001b[0m\u001b[0;34m,\u001b[0m \u001b[0msky_coords\u001b[0m\u001b[0;34m[\u001b[0m\u001b[0mi\u001b[0m\u001b[0;34m]\u001b[0m\u001b[0;34m)\u001b[0m\u001b[0;34m\u001b[0m\u001b[0;34m\u001b[0m\u001b[0m\n\u001b[0m\u001b[1;32m     15\u001b[0m \u001b[0;34m\u001b[0m\u001b[0m\n\u001b[1;32m     16\u001b[0m     \u001b[0;32mreturn\u001b[0m \u001b[0mbool_comet\u001b[0m\u001b[0;34m\u001b[0m\u001b[0;34m\u001b[0m\u001b[0m\n",
      "\u001b[0;32m<ipython-input-17-6c27783b49dd>\u001b[0m in \u001b[0;36msubimage_contains\u001b[0;34m(img, wcs_func, eta, point)\u001b[0m\n\u001b[1;32m     15\u001b[0m \u001b[0;34m\u001b[0m\u001b[0m\n\u001b[1;32m     16\u001b[0m     \u001b[0;31m#boolean values\u001b[0m\u001b[0;34m\u001b[0m\u001b[0;34m\u001b[0m\u001b[0;34m\u001b[0m\u001b[0m\n\u001b[0;32m---> 17\u001b[0;31m     \u001b[0mAbool\u001b[0m \u001b[0;34m=\u001b[0m \u001b[0mpoint\u001b[0m\u001b[0;34m.\u001b[0m\u001b[0mcontained_by\u001b[0m\u001b[0;34m(\u001b[0m\u001b[0mwcs_func\u001b[0m\u001b[0;34m,\u001b[0m \u001b[0mimage\u001b[0m \u001b[0;34m=\u001b[0m \u001b[0mnp\u001b[0m\u001b[0;34m.\u001b[0m\u001b[0mones\u001b[0m\u001b[0;34m(\u001b[0m\u001b[0;34m(\u001b[0m\u001b[0mb\u001b[0m\u001b[0;34m,\u001b[0m\u001b[0mam\u001b[0m\u001b[0;34m)\u001b[0m\u001b[0;34m)\u001b[0m\u001b[0;34m)\u001b[0m\u001b[0;34m\u001b[0m\u001b[0;34m\u001b[0m\u001b[0m\n\u001b[0m\u001b[1;32m     18\u001b[0m     \u001b[0mBbool\u001b[0m \u001b[0;34m=\u001b[0m \u001b[0mpoint\u001b[0m\u001b[0;34m.\u001b[0m\u001b[0mcontained_by\u001b[0m\u001b[0;34m(\u001b[0m\u001b[0mwcs_func\u001b[0m\u001b[0;34m,\u001b[0m \u001b[0mimage\u001b[0m \u001b[0;34m=\u001b[0m \u001b[0mnp\u001b[0m\u001b[0;34m.\u001b[0m\u001b[0mones\u001b[0m\u001b[0;34m(\u001b[0m\u001b[0;34m(\u001b[0m\u001b[0mbm\u001b[0m\u001b[0;34m,\u001b[0m\u001b[0ma\u001b[0m\u001b[0;34m)\u001b[0m\u001b[0;34m)\u001b[0m\u001b[0;34m)\u001b[0m\u001b[0;34m\u001b[0m\u001b[0;34m\u001b[0m\u001b[0m\n\u001b[1;32m     19\u001b[0m     \u001b[0mCbool\u001b[0m \u001b[0;34m=\u001b[0m \u001b[0mpoint\u001b[0m\u001b[0;34m.\u001b[0m\u001b[0mcontained_by\u001b[0m\u001b[0;34m(\u001b[0m\u001b[0mwcs_func\u001b[0m\u001b[0;34m,\u001b[0m \u001b[0mimage\u001b[0m \u001b[0;34m=\u001b[0m \u001b[0mnp\u001b[0m\u001b[0;34m.\u001b[0m\u001b[0mones\u001b[0m\u001b[0;34m(\u001b[0m\u001b[0;34m(\u001b[0m\u001b[0mbp\u001b[0m\u001b[0;34m,\u001b[0m\u001b[0map\u001b[0m\u001b[0;34m)\u001b[0m\u001b[0;34m)\u001b[0m\u001b[0;34m)\u001b[0m\u001b[0;34m\u001b[0m\u001b[0;34m\u001b[0m\u001b[0m\n",
      "\u001b[0;32m/opt/anaconda3/lib/python3.7/site-packages/astropy/coordinates/sky_coordinate.py\u001b[0m in \u001b[0;36mcontained_by\u001b[0;34m(self, wcs, image, **kwargs)\u001b[0m\n\u001b[1;32m   1430\u001b[0m             \u001b[0mwarnings\u001b[0m\u001b[0;34m.\u001b[0m\u001b[0msimplefilter\u001b[0m\u001b[0;34m(\u001b[0m\u001b[0;34m\"ignore\"\u001b[0m\u001b[0;34m)\u001b[0m\u001b[0;34m\u001b[0m\u001b[0;34m\u001b[0m\u001b[0m\n\u001b[1;32m   1431\u001b[0m             \u001b[0;32mtry\u001b[0m\u001b[0;34m:\u001b[0m\u001b[0;34m\u001b[0m\u001b[0;34m\u001b[0m\u001b[0m\n\u001b[0;32m-> 1432\u001b[0;31m                 \u001b[0mx\u001b[0m\u001b[0;34m,\u001b[0m\u001b[0my\u001b[0m \u001b[0;34m=\u001b[0m \u001b[0mself\u001b[0m\u001b[0;34m.\u001b[0m\u001b[0mto_pixel\u001b[0m\u001b[0;34m(\u001b[0m\u001b[0mwcs\u001b[0m\u001b[0;34m,\u001b[0m \u001b[0;34m**\u001b[0m\u001b[0mkwargs\u001b[0m\u001b[0;34m)\u001b[0m\u001b[0;34m\u001b[0m\u001b[0;34m\u001b[0m\u001b[0m\n\u001b[0m\u001b[1;32m   1433\u001b[0m             \u001b[0;32mexcept\u001b[0m \u001b[0mException\u001b[0m\u001b[0;34m:\u001b[0m\u001b[0;34m\u001b[0m\u001b[0;34m\u001b[0m\u001b[0m\n\u001b[1;32m   1434\u001b[0m                 \u001b[0;32mreturn\u001b[0m \u001b[0;32mFalse\u001b[0m\u001b[0;34m\u001b[0m\u001b[0;34m\u001b[0m\u001b[0m\n",
      "\u001b[0;32m/opt/anaconda3/lib/python3.7/site-packages/astropy/coordinates/sky_coordinate.py\u001b[0m in \u001b[0;36mto_pixel\u001b[0;34m(self, wcs, origin, mode)\u001b[0m\n\u001b[1;32m   1365\u001b[0m         \u001b[0mastropy\u001b[0m\u001b[0;34m.\u001b[0m\u001b[0mwcs\u001b[0m\u001b[0;34m.\u001b[0m\u001b[0mutils\u001b[0m\u001b[0;34m.\u001b[0m\u001b[0mskycoord_to_pixel\u001b[0m \u001b[0;34m:\u001b[0m \u001b[0mthe\u001b[0m \u001b[0mimplementation\u001b[0m \u001b[0mof\u001b[0m \u001b[0mthis\u001b[0m \u001b[0mmethod\u001b[0m\u001b[0;34m\u001b[0m\u001b[0;34m\u001b[0m\u001b[0m\n\u001b[1;32m   1366\u001b[0m         \"\"\"\n\u001b[0;32m-> 1367\u001b[0;31m         \u001b[0;32mreturn\u001b[0m \u001b[0mskycoord_to_pixel\u001b[0m\u001b[0;34m(\u001b[0m\u001b[0mself\u001b[0m\u001b[0;34m,\u001b[0m \u001b[0mwcs\u001b[0m\u001b[0;34m=\u001b[0m\u001b[0mwcs\u001b[0m\u001b[0;34m,\u001b[0m \u001b[0morigin\u001b[0m\u001b[0;34m=\u001b[0m\u001b[0morigin\u001b[0m\u001b[0;34m,\u001b[0m \u001b[0mmode\u001b[0m\u001b[0;34m=\u001b[0m\u001b[0mmode\u001b[0m\u001b[0;34m)\u001b[0m\u001b[0;34m\u001b[0m\u001b[0;34m\u001b[0m\u001b[0m\n\u001b[0m\u001b[1;32m   1368\u001b[0m \u001b[0;34m\u001b[0m\u001b[0m\n\u001b[1;32m   1369\u001b[0m     \u001b[0;34m@\u001b[0m\u001b[0mclassmethod\u001b[0m\u001b[0;34m\u001b[0m\u001b[0;34m\u001b[0m\u001b[0m\n",
      "\u001b[0;32m/opt/anaconda3/lib/python3.7/site-packages/astropy/wcs/utils.py\u001b[0m in \u001b[0;36mskycoord_to_pixel\u001b[0;34m(coords, wcs, origin, mode)\u001b[0m\n\u001b[1;32m    535\u001b[0m \u001b[0;34m\u001b[0m\u001b[0m\n\u001b[1;32m    536\u001b[0m     \u001b[0;31m# Convert positions to frame\u001b[0m\u001b[0;34m\u001b[0m\u001b[0;34m\u001b[0m\u001b[0;34m\u001b[0m\u001b[0m\n\u001b[0;32m--> 537\u001b[0;31m     \u001b[0mcoords\u001b[0m \u001b[0;34m=\u001b[0m \u001b[0mcoords\u001b[0m\u001b[0;34m.\u001b[0m\u001b[0mtransform_to\u001b[0m\u001b[0;34m(\u001b[0m\u001b[0mframe\u001b[0m\u001b[0;34m)\u001b[0m\u001b[0;34m\u001b[0m\u001b[0;34m\u001b[0m\u001b[0m\n\u001b[0m\u001b[1;32m    538\u001b[0m \u001b[0;34m\u001b[0m\u001b[0m\n\u001b[1;32m    539\u001b[0m     \u001b[0;31m# Extract longitude and latitude. We first try and use lon/lat directly,\u001b[0m\u001b[0;34m\u001b[0m\u001b[0;34m\u001b[0m\u001b[0;34m\u001b[0m\u001b[0m\n",
      "\u001b[0;32m/opt/anaconda3/lib/python3.7/site-packages/astropy/coordinates/sky_coordinate.py\u001b[0m in \u001b[0;36mtransform_to\u001b[0;34m(self, frame, merge_attributes)\u001b[0m\n\u001b[1;32m    449\u001b[0m             \u001b[0mframe_kwargs\u001b[0m\u001b[0;34m.\u001b[0m\u001b[0mpop\u001b[0m\u001b[0;34m(\u001b[0m\u001b[0mattr\u001b[0m\u001b[0;34m)\u001b[0m\u001b[0;34m\u001b[0m\u001b[0;34m\u001b[0m\u001b[0m\n\u001b[1;32m    450\u001b[0m \u001b[0;34m\u001b[0m\u001b[0m\n\u001b[0;32m--> 451\u001b[0;31m         \u001b[0;32mreturn\u001b[0m \u001b[0mself\u001b[0m\u001b[0;34m.\u001b[0m\u001b[0m__class__\u001b[0m\u001b[0;34m(\u001b[0m\u001b[0mnew_coord\u001b[0m\u001b[0;34m,\u001b[0m \u001b[0;34m**\u001b[0m\u001b[0mframe_kwargs\u001b[0m\u001b[0;34m)\u001b[0m\u001b[0;34m\u001b[0m\u001b[0;34m\u001b[0m\u001b[0m\n\u001b[0m\u001b[1;32m    452\u001b[0m \u001b[0;34m\u001b[0m\u001b[0m\n\u001b[1;32m    453\u001b[0m     \u001b[0;32mdef\u001b[0m \u001b[0mapply_space_motion\u001b[0m\u001b[0;34m(\u001b[0m\u001b[0mself\u001b[0m\u001b[0;34m,\u001b[0m \u001b[0mnew_obstime\u001b[0m\u001b[0;34m=\u001b[0m\u001b[0;32mNone\u001b[0m\u001b[0;34m,\u001b[0m \u001b[0mdt\u001b[0m\u001b[0;34m=\u001b[0m\u001b[0;32mNone\u001b[0m\u001b[0;34m)\u001b[0m\u001b[0;34m:\u001b[0m\u001b[0;34m\u001b[0m\u001b[0;34m\u001b[0m\u001b[0m\n",
      "\u001b[0;32m/opt/anaconda3/lib/python3.7/site-packages/astropy/coordinates/sky_coordinate.py\u001b[0m in \u001b[0;36m__init__\u001b[0;34m(self, copy, *args, **kwargs)\u001b[0m\n\u001b[1;32m    255\u001b[0m             \u001b[0margs\u001b[0m \u001b[0;34m=\u001b[0m \u001b[0mlist\u001b[0m\u001b[0;34m(\u001b[0m\u001b[0margs\u001b[0m\u001b[0;34m)\u001b[0m  \u001b[0;31m# Make it mutable\u001b[0m\u001b[0;34m\u001b[0m\u001b[0;34m\u001b[0m\u001b[0m\n\u001b[1;32m    256\u001b[0m             skycoord_kwargs, components, info = _parse_coordinate_data(\n\u001b[0;32m--> 257\u001b[0;31m                 frame_cls(**frame_kwargs), args, kwargs)\n\u001b[0m\u001b[1;32m    258\u001b[0m \u001b[0;34m\u001b[0m\u001b[0m\n\u001b[1;32m    259\u001b[0m             \u001b[0;31m# In the above two parsing functions, these kwargs were identified\u001b[0m\u001b[0;34m\u001b[0m\u001b[0;34m\u001b[0m\u001b[0;34m\u001b[0m\u001b[0m\n",
      "\u001b[0;32m/opt/anaconda3/lib/python3.7/site-packages/astropy/coordinates/sky_coordinate_parsers.py\u001b[0m in \u001b[0;36m_parse_coordinate_data\u001b[0;34m(frame, args, kwargs)\u001b[0m\n\u001b[1;32m    282\u001b[0m             \u001b[0;31m# specified in the coordinate object (i.e. non-default).\u001b[0m\u001b[0;34m\u001b[0m\u001b[0;34m\u001b[0m\u001b[0;34m\u001b[0m\u001b[0m\n\u001b[1;32m    283\u001b[0m             _skycoord_kwargs, _components = _parse_coordinate_arg(\n\u001b[0;32m--> 284\u001b[0;31m                 args[0], frame, units, kwargs)\n\u001b[0m\u001b[1;32m    285\u001b[0m \u001b[0;34m\u001b[0m\u001b[0m\n\u001b[1;32m    286\u001b[0m             \u001b[0;31m# Copy other 'info' attr only if it has actually been defined.\u001b[0m\u001b[0;34m\u001b[0m\u001b[0;34m\u001b[0m\u001b[0;34m\u001b[0m\u001b[0m\n",
      "\u001b[0;32m/opt/anaconda3/lib/python3.7/site-packages/astropy/coordinates/sky_coordinate_parsers.py\u001b[0m in \u001b[0;36m_parse_coordinate_arg\u001b[0;34m(coords, frame, units, init_kwargs)\u001b[0m\n\u001b[1;32m    399\u001b[0m             \u001b[0;32mraise\u001b[0m \u001b[0mValueError\u001b[0m\u001b[0;34m(\u001b[0m\u001b[0;34m'Cannot initialize from a frame without coordinate data'\u001b[0m\u001b[0;34m)\u001b[0m\u001b[0;34m\u001b[0m\u001b[0;34m\u001b[0m\u001b[0m\n\u001b[1;32m    400\u001b[0m \u001b[0;34m\u001b[0m\u001b[0m\n\u001b[0;32m--> 401\u001b[0;31m         \u001b[0mdata\u001b[0m \u001b[0;34m=\u001b[0m \u001b[0mcoords\u001b[0m\u001b[0;34m.\u001b[0m\u001b[0mdata\u001b[0m\u001b[0;34m.\u001b[0m\u001b[0mrepresent_as\u001b[0m\u001b[0;34m(\u001b[0m\u001b[0mframe\u001b[0m\u001b[0;34m.\u001b[0m\u001b[0mrepresentation_type\u001b[0m\u001b[0;34m)\u001b[0m\u001b[0;34m\u001b[0m\u001b[0;34m\u001b[0m\u001b[0m\n\u001b[0m\u001b[1;32m    402\u001b[0m \u001b[0;34m\u001b[0m\u001b[0m\n\u001b[1;32m    403\u001b[0m         \u001b[0mvalues\u001b[0m \u001b[0;34m=\u001b[0m \u001b[0;34m[\u001b[0m\u001b[0;34m]\u001b[0m  \u001b[0;31m# List of values corresponding to representation attrs\u001b[0m\u001b[0;34m\u001b[0m\u001b[0;34m\u001b[0m\u001b[0m\n",
      "\u001b[0;32m/opt/anaconda3/lib/python3.7/site-packages/astropy/coordinates/representation.py\u001b[0m in \u001b[0;36mrepresent_as\u001b[0;34m(self, other_class, differential_class)\u001b[0m\n\u001b[1;32m    688\u001b[0m             \u001b[0;32mif\u001b[0m \u001b[0mother_class\u001b[0m \u001b[0;32mis\u001b[0m \u001b[0;32mnot\u001b[0m \u001b[0mself\u001b[0m\u001b[0;34m.\u001b[0m\u001b[0m__class__\u001b[0m\u001b[0;34m:\u001b[0m\u001b[0;34m\u001b[0m\u001b[0;34m\u001b[0m\u001b[0m\n\u001b[1;32m    689\u001b[0m                 \u001b[0;31m# The default is to convert via cartesian coordinates\u001b[0m\u001b[0;34m\u001b[0m\u001b[0;34m\u001b[0m\u001b[0;34m\u001b[0m\u001b[0m\n\u001b[0;32m--> 690\u001b[0;31m                 \u001b[0mnew_rep\u001b[0m \u001b[0;34m=\u001b[0m \u001b[0mother_class\u001b[0m\u001b[0;34m.\u001b[0m\u001b[0mfrom_cartesian\u001b[0m\u001b[0;34m(\u001b[0m\u001b[0mself\u001b[0m\u001b[0;34m.\u001b[0m\u001b[0mto_cartesian\u001b[0m\u001b[0;34m(\u001b[0m\u001b[0;34m)\u001b[0m\u001b[0;34m)\u001b[0m\u001b[0;34m\u001b[0m\u001b[0;34m\u001b[0m\u001b[0m\n\u001b[0m\u001b[1;32m    691\u001b[0m             \u001b[0;32melse\u001b[0m\u001b[0;34m:\u001b[0m\u001b[0;34m\u001b[0m\u001b[0;34m\u001b[0m\u001b[0m\n\u001b[1;32m    692\u001b[0m                 \u001b[0mnew_rep\u001b[0m \u001b[0;34m=\u001b[0m \u001b[0mself\u001b[0m\u001b[0;34m\u001b[0m\u001b[0;34m\u001b[0m\u001b[0m\n",
      "\u001b[0;32m/opt/anaconda3/lib/python3.7/site-packages/astropy/coordinates/representation.py\u001b[0m in \u001b[0;36mfrom_cartesian\u001b[0;34m(cls, cart)\u001b[0m\n\u001b[1;32m   1664\u001b[0m         \u001b[0mp\u001b[0m \u001b[0;34m=\u001b[0m \u001b[0mcart\u001b[0m\u001b[0;34m.\u001b[0m\u001b[0mget_xyz\u001b[0m\u001b[0;34m(\u001b[0m\u001b[0mxyz_axis\u001b[0m\u001b[0;34m=\u001b[0m\u001b[0;34m-\u001b[0m\u001b[0;36m1\u001b[0m\u001b[0;34m)\u001b[0m\u001b[0;34m\u001b[0m\u001b[0;34m\u001b[0m\u001b[0m\n\u001b[1;32m   1665\u001b[0m         \u001b[0;31m# erfa p2s: P-vector to spherical polar coordinates.\u001b[0m\u001b[0;34m\u001b[0m\u001b[0;34m\u001b[0m\u001b[0;34m\u001b[0m\u001b[0m\n\u001b[0;32m-> 1666\u001b[0;31m         \u001b[0;32mreturn\u001b[0m \u001b[0mcls\u001b[0m\u001b[0;34m(\u001b[0m\u001b[0;34m*\u001b[0m\u001b[0merfa_ufunc\u001b[0m\u001b[0;34m.\u001b[0m\u001b[0mp2s\u001b[0m\u001b[0;34m(\u001b[0m\u001b[0mp\u001b[0m\u001b[0;34m)\u001b[0m\u001b[0;34m,\u001b[0m \u001b[0mcopy\u001b[0m\u001b[0;34m=\u001b[0m\u001b[0;32mFalse\u001b[0m\u001b[0;34m)\u001b[0m\u001b[0;34m\u001b[0m\u001b[0;34m\u001b[0m\u001b[0m\n\u001b[0m\u001b[1;32m   1667\u001b[0m \u001b[0;34m\u001b[0m\u001b[0m\n\u001b[1;32m   1668\u001b[0m     \u001b[0;32mdef\u001b[0m \u001b[0mnorm\u001b[0m\u001b[0;34m(\u001b[0m\u001b[0mself\u001b[0m\u001b[0;34m)\u001b[0m\u001b[0;34m:\u001b[0m\u001b[0;34m\u001b[0m\u001b[0;34m\u001b[0m\u001b[0m\n",
      "\u001b[0;32m/opt/anaconda3/lib/python3.7/site-packages/astropy/units/quantity.py\u001b[0m in \u001b[0;36m__array_ufunc__\u001b[0;34m(self, function, method, *inputs, **kwargs)\u001b[0m\n\u001b[1;32m    442\u001b[0m         \u001b[0;31m# consistent units between two inputs (e.g., in np.add) --\u001b[0m\u001b[0;34m\u001b[0m\u001b[0;34m\u001b[0m\u001b[0;34m\u001b[0m\u001b[0m\n\u001b[1;32m    443\u001b[0m         \u001b[0;31m# and the unit of the result (or tuple of units for nout > 1).\u001b[0m\u001b[0;34m\u001b[0m\u001b[0;34m\u001b[0m\u001b[0;34m\u001b[0m\u001b[0m\n\u001b[0;32m--> 444\u001b[0;31m         \u001b[0mconverters\u001b[0m\u001b[0;34m,\u001b[0m \u001b[0munit\u001b[0m \u001b[0;34m=\u001b[0m \u001b[0mconverters_and_unit\u001b[0m\u001b[0;34m(\u001b[0m\u001b[0mfunction\u001b[0m\u001b[0;34m,\u001b[0m \u001b[0mmethod\u001b[0m\u001b[0;34m,\u001b[0m \u001b[0;34m*\u001b[0m\u001b[0minputs\u001b[0m\u001b[0;34m)\u001b[0m\u001b[0;34m\u001b[0m\u001b[0;34m\u001b[0m\u001b[0m\n\u001b[0m\u001b[1;32m    445\u001b[0m \u001b[0;34m\u001b[0m\u001b[0m\n\u001b[1;32m    446\u001b[0m         \u001b[0mout\u001b[0m \u001b[0;34m=\u001b[0m \u001b[0mkwargs\u001b[0m\u001b[0;34m.\u001b[0m\u001b[0mget\u001b[0m\u001b[0;34m(\u001b[0m\u001b[0;34m'out'\u001b[0m\u001b[0;34m,\u001b[0m \u001b[0;32mNone\u001b[0m\u001b[0;34m)\u001b[0m\u001b[0;34m\u001b[0m\u001b[0;34m\u001b[0m\u001b[0m\n",
      "\u001b[0;32m/opt/anaconda3/lib/python3.7/site-packages/astropy/units/quantity_helper/converters.py\u001b[0m in \u001b[0;36mconverters_and_unit\u001b[0;34m(function, method, *args)\u001b[0m\n\u001b[1;32m    161\u001b[0m         \u001b[0;31m# at least one is a quantity, but for two-argument ufuncs, the second\u001b[0m\u001b[0;34m\u001b[0m\u001b[0;34m\u001b[0m\u001b[0;34m\u001b[0m\u001b[0m\n\u001b[1;32m    162\u001b[0m         \u001b[0;31m# could also be a Numpy array, etc.  These are given unit=None.\u001b[0m\u001b[0;34m\u001b[0m\u001b[0;34m\u001b[0m\u001b[0;34m\u001b[0m\u001b[0m\n\u001b[0;32m--> 163\u001b[0;31m         \u001b[0munits\u001b[0m \u001b[0;34m=\u001b[0m \u001b[0;34m[\u001b[0m\u001b[0mgetattr\u001b[0m\u001b[0;34m(\u001b[0m\u001b[0marg\u001b[0m\u001b[0;34m,\u001b[0m \u001b[0;34m'unit'\u001b[0m\u001b[0;34m,\u001b[0m \u001b[0;32mNone\u001b[0m\u001b[0;34m)\u001b[0m \u001b[0;32mfor\u001b[0m \u001b[0marg\u001b[0m \u001b[0;32min\u001b[0m \u001b[0margs\u001b[0m\u001b[0;34m]\u001b[0m\u001b[0;34m\u001b[0m\u001b[0;34m\u001b[0m\u001b[0m\n\u001b[0m\u001b[1;32m    164\u001b[0m \u001b[0;34m\u001b[0m\u001b[0m\n\u001b[1;32m    165\u001b[0m         \u001b[0;31m# Determine possible conversion functions, and the result unit.\u001b[0m\u001b[0;34m\u001b[0m\u001b[0;34m\u001b[0m\u001b[0;34m\u001b[0m\u001b[0m\n",
      "\u001b[0;32m/opt/anaconda3/lib/python3.7/site-packages/astropy/units/quantity_helper/converters.py\u001b[0m in \u001b[0;36m<listcomp>\u001b[0;34m(.0)\u001b[0m\n\u001b[1;32m    161\u001b[0m         \u001b[0;31m# at least one is a quantity, but for two-argument ufuncs, the second\u001b[0m\u001b[0;34m\u001b[0m\u001b[0;34m\u001b[0m\u001b[0;34m\u001b[0m\u001b[0m\n\u001b[1;32m    162\u001b[0m         \u001b[0;31m# could also be a Numpy array, etc.  These are given unit=None.\u001b[0m\u001b[0;34m\u001b[0m\u001b[0;34m\u001b[0m\u001b[0;34m\u001b[0m\u001b[0m\n\u001b[0;32m--> 163\u001b[0;31m         \u001b[0munits\u001b[0m \u001b[0;34m=\u001b[0m \u001b[0;34m[\u001b[0m\u001b[0mgetattr\u001b[0m\u001b[0;34m(\u001b[0m\u001b[0marg\u001b[0m\u001b[0;34m,\u001b[0m \u001b[0;34m'unit'\u001b[0m\u001b[0;34m,\u001b[0m \u001b[0;32mNone\u001b[0m\u001b[0;34m)\u001b[0m \u001b[0;32mfor\u001b[0m \u001b[0marg\u001b[0m \u001b[0;32min\u001b[0m \u001b[0margs\u001b[0m\u001b[0;34m]\u001b[0m\u001b[0;34m\u001b[0m\u001b[0;34m\u001b[0m\u001b[0m\n\u001b[0m\u001b[1;32m    164\u001b[0m \u001b[0;34m\u001b[0m\u001b[0m\n\u001b[1;32m    165\u001b[0m         \u001b[0;31m# Determine possible conversion functions, and the result unit.\u001b[0m\u001b[0;34m\u001b[0m\u001b[0;34m\u001b[0m\u001b[0;34m\u001b[0m\u001b[0m\n",
      "\u001b[0;32m/opt/anaconda3/lib/python3.7/site-packages/astropy/units/quantity.py\u001b[0m in \u001b[0;36munit\u001b[0;34m(self)\u001b[0m\n\u001b[1;32m    739\u001b[0m         \"\"\"\n\u001b[1;32m    740\u001b[0m \u001b[0;34m\u001b[0m\u001b[0m\n\u001b[0;32m--> 741\u001b[0;31m         \u001b[0;32mreturn\u001b[0m \u001b[0mself\u001b[0m\u001b[0;34m.\u001b[0m\u001b[0m_unit\u001b[0m\u001b[0;34m\u001b[0m\u001b[0;34m\u001b[0m\u001b[0m\n\u001b[0m\u001b[1;32m    742\u001b[0m \u001b[0;34m\u001b[0m\u001b[0m\n\u001b[1;32m    743\u001b[0m     \u001b[0;34m@\u001b[0m\u001b[0mproperty\u001b[0m\u001b[0;34m\u001b[0m\u001b[0;34m\u001b[0m\u001b[0m\n",
      "\u001b[0;31mKeyboardInterrupt\u001b[0m: "
     ]
    }
   ],
   "source": [
    "#number of points we are integrating over for the orbit sim\n",
    "points_integration = 3\n",
    "\n",
    "num_iter = 2\n",
    "ndim = 9\n",
    "nwalkers = 20\n",
    "theta_init = np.array((x_init, y_init, z_init, v_x_init, v_y_init, v_z_init, 0.85, 0.75, 0.4))\n",
    "initial_pos = theta_init + np.array((1500, 1500, 1500, 4.74e-5, 4.74e-5, 4.74e-5, 1e-2, 1e-2, 1e-2)) * np.random.randn(nwalkers, ndim)\n",
    "\n",
    "sampler = emcee.EnsembleSampler(nwalkers, ndim, log_post, args = (image_number, pdt_exif, pdt_julian, bins_norm, points_integration, wcs_list, img_list, wcs_info))\n",
    "sampler.run_mcmc(initial_pos, num_iter, progress=True)"
   ]
  }
 ],
 "metadata": {
  "kernelspec": {
   "display_name": "Python 3",
   "language": "python",
   "name": "python3"
  },
  "language_info": {
   "codemirror_mode": {
    "name": "ipython",
    "version": 3
   },
   "file_extension": ".py",
   "mimetype": "text/x-python",
   "name": "python",
   "nbconvert_exporter": "python",
   "pygments_lexer": "ipython3",
   "version": "3.7.4"
  }
 },
 "nbformat": 4,
 "nbformat_minor": 2
}
