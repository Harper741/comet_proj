{
 "cells": [
  {
   "cell_type": "code",
   "execution_count": 1,
   "metadata": {},
   "outputs": [],
   "source": [
    "import numpy as np\n",
    "import matplotlib.pyplot as plt\n",
    "from astropy.io import fits\n",
    "from astropy import wcs\n",
    "import sys\n",
    "\n",
    "from astropy.utils.data import get_pkg_data_filename\n",
    "\n",
    "from astropy import units as u\n",
    "from poliastro.bodies import Earth, Sun\n",
    "from poliastro.twobody import Orbit\n",
    "from astropy.coordinates import SkyCoord\n",
    "from astropy.coordinates import GCRS\n",
    "from astropy.coordinates import get_moon\n",
    "from astropy.time import Time\n",
    "from astropy import wcs\n",
    "\n",
    "import PIL.Image\n",
    "\n",
    "#to load wcs:\n",
    "import cairo"
   ]
  },
  {
   "cell_type": "code",
   "execution_count": 2,
   "metadata": {},
   "outputs": [],
   "source": [
    "#likelihood (just a product of the single image likelihoods )\n",
    "def likelihood(img_liks):\n",
    "    return np.product(img_liks)"
   ]
  },
  {
   "cell_type": "code",
   "execution_count": 3,
   "metadata": {},
   "outputs": [],
   "source": [
    "#a marginalization over time, we will be using an evenly spaced grid of times\n",
    "#we need to compute one single likelihood \n",
    "def single_image_likelihood():\n",
    "    return 0\n",
    "    "
   ]
  },
  {
   "cell_type": "code",
   "execution_count": 4,
   "metadata": {},
   "outputs": [],
   "source": [
    "#function that takes the position and velocity vectors at a certain epoch and returns the ICRS coordinates of the\n",
    "#object over a time grid (these are approximately ICRS, but the orbit is really around the CM of the sun and\n",
    "#not the solar system barycenter)\n",
    "#r and v are three element lists that represent vectors and need to have the proper units appended\n",
    "#2454416 = November 12th 2007\n",
    "\n",
    "def orbit_sim(r, v,  n_points, t_i, t_f, epoch = 2454416):\n",
    "    #making a list of times to sample:\n",
    "    times = np.linspace(t_i, t_f, n_points)\n",
    "    \n",
    "    #making the propagation delta\n",
    "    prop_delta = [(i - epoch)*u.day for i in times]\n",
    "    \n",
    "    #defining orbit object\n",
    "    orbit = Orbit.from_vectors(Sun, r, v)\n",
    "    \n",
    "    #initialize array to store the positions\n",
    "    locations = [0 for i in range(n_points)]\n",
    "    \n",
    "    #looping over linspace to evaluate the orbit at all of these points\n",
    "    for i in range(len(prop_delta)):\n",
    "        locations[i] = orbit.propagate(prop_delta[i]).rv()[0]\n",
    "    \n",
    "    return [locations, times]"
   ]
  },
  {
   "cell_type": "code",
   "execution_count": 5,
   "metadata": {},
   "outputs": [],
   "source": [
    "#function that takes the cartesian (x,y,z) in ICRS frame and returns the ra and dec as seen from the earth\n",
    "def ICRS_to_GCRS(positions, times):\n",
    "    \n",
    "    coords = [0 for i in range(len(times))]\n",
    "    \n",
    "    \n",
    "    for i in range(len(positions)):\n",
    "        temp_time = Time(times[i], format='jd')\n",
    "        X,Y,Z = positions[i].value\n",
    "        temp_coord = SkyCoord(x = X, y = Y, z = Z, unit='km' ,frame = 'icrs' , representation_type = 'cartesian', obstime=temp_time)\n",
    "        coords[i] = temp_coord.transform_to('gcrs')\n",
    "        \n",
    "    return coords\n",
    "        "
   ]
  },
  {
   "cell_type": "code",
   "execution_count": 6,
   "metadata": {
    "scrolled": false
   },
   "outputs": [
    {
     "data": {
      "text/plain": [
       "[<SkyCoord (GCRS: obstime=2454283.5, obsgeoloc=(0., 0., 0.) m, obsgeovel=(0., 0., 0.) m / s): (ra, dec, distance) in (deg, deg, km)\n",
       "     (74.15878633, 34.63600923, 2.86838846e+08)>,\n",
       " <SkyCoord (GCRS: obstime=2454299.5, obsgeoloc=(0., 0., 0.) m, obsgeovel=(0., 0., 0.) m / s): (ra, dec, distance) in (deg, deg, km)\n",
       "     (86.24701281, 36.59514986, 2.53934026e+08)>,\n",
       " <SkyCoord (GCRS: obstime=2454315.5, obsgeoloc=(0., 0., 0.) m, obsgeovel=(0., 0., 0.) m / s): (ra, dec, distance) in (deg, deg, km)\n",
       "     (103.5331847, 37.07667233, 2.11842373e+08)>,\n",
       " <SkyCoord (GCRS: obstime=2454331.5, obsgeoloc=(0., 0., 0.) m, obsgeovel=(0., 0., 0.) m / s): (ra, dec, distance) in (deg, deg, km)\n",
       "     (131.65963509, 30.92954325, 1.67572176e+08)>,\n",
       " <SkyCoord (GCRS: obstime=2454347.5, obsgeoloc=(0., 0., 0.) m, obsgeovel=(0., 0., 0.) m / s): (ra, dec, distance) in (deg, deg, km)\n",
       "     (144.35974515, 14.19482312, 1.38396556e+08)>,\n",
       " <SkyCoord (GCRS: obstime=2454363.5, obsgeoloc=(0., 0., 0.) m, obsgeovel=(0., 0., 0.) m / s): (ra, dec, distance) in (deg, deg, km)\n",
       "     (137.43659175, 24.77500081, 1.2293761e+08)>,\n",
       " <SkyCoord (GCRS: obstime=2454379.5, obsgeoloc=(0., 0., 0.) m, obsgeovel=(0., 0., 0.) m / s): (ra, dec, distance) in (deg, deg, km)\n",
       "     (137.09519683, 35.15829963, 1.00809299e+08)>,\n",
       " <SkyCoord (GCRS: obstime=2454395.5, obsgeoloc=(0., 0., 0.) m, obsgeovel=(0., 0., 0.) m / s): (ra, dec, distance) in (deg, deg, km)\n",
       "     (139.16620158, 51.36140906, 75412519.605849)>,\n",
       " <SkyCoord (GCRS: obstime=2454411.5, obsgeoloc=(0., 0., 0.) m, obsgeovel=(0., 0., 0.) m / s): (ra, dec, distance) in (deg, deg, km)\n",
       "     (146.53351712, 81.81379256, 57131195.30461094)>,\n",
       " <SkyCoord (GCRS: obstime=2454427.5, obsgeoloc=(0., 0., 0.) m, obsgeovel=(0., 0., 0.) m / s): (ra, dec, distance) in (deg, deg, km)\n",
       "     (322.27384936, 58.65590877, 61392080.18889092)>,\n",
       " <SkyCoord (GCRS: obstime=2454443.5, obsgeoloc=(0., 0., 0.) m, obsgeovel=(0., 0., 0.) m / s): (ra, dec, distance) in (deg, deg, km)\n",
       "     (326.06209316, 33.952162, 84609351.32471704)>,\n",
       " <SkyCoord (GCRS: obstime=2454459.5, obsgeoloc=(0., 0., 0.) m, obsgeovel=(0., 0., 0.) m / s): (ra, dec, distance) in (deg, deg, km)\n",
       "     (328.96158393, 21.51383324, 1.11520313e+08)>,\n",
       " <SkyCoord (GCRS: obstime=2454475.5, obsgeoloc=(0., 0., 0.) m, obsgeovel=(0., 0., 0.) m / s): (ra, dec, distance) in (deg, deg, km)\n",
       "     (330.84762073, 13.84497045, 1.33374803e+08)>,\n",
       " <SkyCoord (GCRS: obstime=2454491.5, obsgeoloc=(0., 0., 0.) m, obsgeovel=(0., 0., 0.) m / s): (ra, dec, distance) in (deg, deg, km)\n",
       "     (330.40608458, 6.25771539, 1.44664133e+08)>,\n",
       " <SkyCoord (GCRS: obstime=2454507.5, obsgeoloc=(0., 0., 0.) m, obsgeovel=(0., 0., 0.) m / s): (ra, dec, distance) in (deg, deg, km)\n",
       "     (330.30447524, -14.16259606, 1.5163594e+08)>,\n",
       " <SkyCoord (GCRS: obstime=2454523.5, obsgeoloc=(0., 0., 0.) m, obsgeovel=(0., 0., 0.) m / s): (ra, dec, distance) in (deg, deg, km)\n",
       "     (2.20553215, 4.86255634, 1.97847216e+08)>,\n",
       " <SkyCoord (GCRS: obstime=2454539.5, obsgeoloc=(0., 0., 0.) m, obsgeovel=(0., 0., 0.) m / s): (ra, dec, distance) in (deg, deg, km)\n",
       "     (15.98584021, 13.66278892, 2.45484348e+08)>,\n",
       " <SkyCoord (GCRS: obstime=2454555.5, obsgeoloc=(0., 0., 0.) m, obsgeovel=(0., 0., 0.) m / s): (ra, dec, distance) in (deg, deg, km)\n",
       "     (25.61999384, 19.06332349, 2.82653675e+08)>,\n",
       " <SkyCoord (GCRS: obstime=2454571.5, obsgeoloc=(0., 0., 0.) m, obsgeovel=(0., 0., 0.) m / s): (ra, dec, distance) in (deg, deg, km)\n",
       "     (33.79781923, 23.05064275, 3.07256071e+08)>,\n",
       " <SkyCoord (GCRS: obstime=2454587.5, obsgeoloc=(0., 0., 0.) m, obsgeovel=(0., 0., 0.) m / s): (ra, dec, distance) in (deg, deg, km)\n",
       "     (41.55519263, 26.34260613, 3.18622305e+08)>]"
      ]
     },
     "execution_count": 6,
     "metadata": {},
     "output_type": "execute_result"
    }
   ],
   "source": [
    "simulated = orbit_sim([10**8,10**8,10**8]*u.km, [0,0,5]*u.km/u.s, 20, 2454283.5, 2454587.5, 2454416)\n",
    "ICRS_to_GCRS(simulated[0], simulated[1])"
   ]
  },
  {
   "cell_type": "code",
   "execution_count": 7,
   "metadata": {},
   "outputs": [],
   "source": [
    "#takes a plt.imread image, WCS object from .wcs file, eta (0,1), and point is a SkyCoord object\n",
    "#deterimines if point is in the eta subimage of the image as defined in the paper\n",
    "\n",
    "def subimage_contains(img, wcs_func, eta, point):\n",
    "    \n",
    "    #assigning variables to the image dimensions\n",
    "    a,b = img.shape[:2]\n",
    "    \n",
    "    #variable assignments that have to do with determining whether the point is in the eta subimage\n",
    "    r_eta = np.sqrt(eta)\n",
    "    am = int(a*(1-r_eta)/2)\n",
    "    ap = int(a*(1+r_eta)/2)\n",
    "    bm = int(b*(1-r_eta)/2)\n",
    "    bp = int(b*(1+r_eta)/2)\n",
    "    \n",
    "    #boolean values \n",
    "    Abool = point.contained_by(wcs_func, image = np.ones((b,am)))\n",
    "    Bbool = point.contained_by(wcs_func, image = np.ones((bm,a)))\n",
    "    Cbool = point.contained_by(wcs_func, image = np.ones((bp,ap)))\n",
    "    \n",
    "    #boolshit\n",
    "    final_bool = (not Abool) and (not Bbool) and (Cbool)\n",
    "    \n",
    "    return final_bool"
   ]
  },
  {
   "cell_type": "code",
   "execution_count": 8,
   "metadata": {},
   "outputs": [],
   "source": [
    "# takes an image (from plt.imread) with its corresponding wcs file, then computes the trajectory of the comet\n",
    "# as seen from Earth and determines whether the comet can be found in a subimage \n",
    "def find_comet(r, v, eta, n_points, img, wcs_func, t_i, t_f):\n",
    "    \n",
    "    #get the comet's position over time grid    \n",
    "    pos, time =  orbit_sim(r, v,  n_points, t_i, t_f)\n",
    "    \n",
    "    #transform to RA and DEC\n",
    "    sky_coords = ICRS_to_GCRS(pos, time)\n",
    "    \n",
    "    #determine whether the comet can be found in a subimage for each image\n",
    "    bool_comet = [False for i in range(len(sky_coords))]\n",
    "    for i in range(len(sky_coords)):\n",
    "        bool_comet[i] = subimage_contains(img, wcs_func, eta, sky_coords[i])\n",
    "        \n",
    "    return bool_comet\n"
   ]
  },
  {
   "cell_type": "code",
   "execution_count": 20,
   "metadata": {},
   "outputs": [
    {
     "name": "stderr",
     "output_type": "stream",
     "text": [
      "WARNING: FITSFixedWarning: The WCS transformation has more axes (2) than the image it is associated with (0) [astropy.wcs.wcs]\n"
     ]
    }
   ],
   "source": [
    "test_image = plt.imread('../Data_CometHolmes/holmes-0001.jpg')\n",
    "test_wcs = wcs.WCS('../Data_CometHolmes/holmes-0001.wcs')"
   ]
  },
  {
   "cell_type": "code",
   "execution_count": 21,
   "metadata": {},
   "outputs": [],
   "source": [
    "find_comet([10**8,10**8,10**8]*u.km, [0,0,5]*u.km/u.s, 0.8 , 10, test_image, test_wcs);"
   ]
  },
  {
   "cell_type": "code",
   "execution_count": 22,
   "metadata": {},
   "outputs": [],
   "source": [
    "#takes in r,v,eta,n params and the image's wcs to compute p_fg (eq.3) \n",
    "def p_fg(r, v, eta, n_points, img, wcs_func, wcs_info, t_i, t_f):\n",
    "    \n",
    "    #solid angle\n",
    "    field_area = float(wcs_info[32][10:])\n",
    "    solid_angle = field_area*(np.pi/(60*180))**2 #converting degs^2 to solid angle (sr)\n",
    "    \n",
    "    #determine whether a sub image contains the comet    \n",
    "    comet_bool = find_comet(r, v, eta, n_points, img, wcs_func, t_i, t_f)\n",
    "    comet_int = np.array([int(i) for i in comet_bool])\n",
    "    \n",
    "    return comet_int/(solid_angle*eta) \n",
    "#eq 4\n",
    "def p_bg(n_points):\n",
    "    return np.ones((n_points))/(4*np.pi)"
   ]
  },
  {
   "cell_type": "code",
   "execution_count": 28,
   "metadata": {},
   "outputs": [],
   "source": [
    "#how to get wcs info\n",
    "a = !/Users/anahoban/software/astrometry/bin/wcsinfo ../Data_CometHolmes/holmes-0001.wcs"
   ]
  },
  {
   "cell_type": "code",
   "execution_count": 40,
   "metadata": {},
   "outputs": [],
   "source": [
    "#function that evaluates eq. 2 using p_fg and p_bg\n",
    "def tdep_sim_likelihood(r, v, eta, n_points, img, wcs_func, wcs_info, p_good, t_i, t_f):\n",
    "    p_f = p_fg(r, v, eta, n_points, img, wcs_func, wcs_info, t_i, t_f)\n",
    "    p_b = p_bg(n_points)\n",
    "    \n",
    "    return p_good*p_f + (1 - p_good)*p_b"
   ]
  },
  {
   "cell_type": "code",
   "execution_count": 50,
   "metadata": {},
   "outputs": [],
   "source": [
    "def p_emp(time, bins_norm):\n",
    "    '''Takes time and returns probability of getting that time based on time hist'''\n",
    "    if bins_norm[0] > time or time > bins_norm[len(bins_norm)-1]:\n",
    "            return 'Given date is not between July 1st 2007 and May 1st 2008.'\n",
    "    else:\n",
    "            for i in range(len(bins_norm)-1):\n",
    "                if bins_norm[i] <= time and time <= bins_norm[i+1]:\n",
    "                    return prob_time[i]  \n",
    "\n",
    "\n",
    "def t_prior(number, time, p_exif, pdt_exif, pdt_julian, bins_norm):\n",
    "    '''Takes an image and checks whether or not it has a EXIF and gives prior depending on that time (array)'''\n",
    "    pdt_transpose = np.transpose(pdt_julian)\n",
    "    dates_list = pdt_transpose[0].tolist()\n",
    "    \n",
    "    #if it has EXIF date:\n",
    "    if number in np.transpose(pdt_exif):\n",
    "        #get its EXIF date:\n",
    "        index = dates_list.index(number)\n",
    "        \n",
    "        #date in JD:\n",
    "        exif_date = Time(pdt_transpose[1][index], format='isot', scale='utc').jd\n",
    "        \n",
    "        prob = []\n",
    "        for t in time:\n",
    "            prob.append(p_exif * uniform_t(exif_date, t) + (1-p_exif)*p_emp(t,bins_norm))\n",
    "        return np.array(prob)\n",
    "        \n",
    "        \n",
    "    #if it doesn't have an EXIF date\n",
    "    else:\n",
    "        prob = []\n",
    "        for t in time:\n",
    "            prob.append(p_emp(t, bins_norm))\n",
    "        return np.array(prob)\n",
    "    \n",
    "def uniform_t(t_exif, time):\n",
    "    '''uniform distribution of t_i w.r.t t_exif +- 0.5 days. All times and in JD'''\n",
    "    if t_exif - 0.5 <= time and time <= t_exif + 0.5:\n",
    "        return 1 \n",
    "    else:\n",
    "        return 0\n",
    "    "
   ]
  },
  {
   "cell_type": "code",
   "execution_count": 53,
   "metadata": {},
   "outputs": [],
   "source": [
    "def single_im_likelihood(number, p_exif, pdt_exif, pdt_julian, bins_norm, r, v, eta, n_points, img, wcs_func, wcs_info, p_good, t_i , t_f ):\n",
    "        time = np.linspace(t_i, t_f, n_points)\n",
    "        integrand = t_prior(number, time, p_exif, pdt_exif, pdt_julian, bins_norm)*tdep_sim_likelihood(r, v, eta, n_points, img, wcs_func, wcs_info, p_good, t_i, t_f)\n",
    "        \n",
    "        return np.sum(integrand)*(t_f-t_i)/(n_points-1) #note: we may not need the multiplication by delta t\n",
    "    "
   ]
  },
  {
   "cell_type": "code",
   "execution_count": null,
   "metadata": {},
   "outputs": [],
   "source": [
    "def all_im_likelihoods(number, p_exif, pdt_exif, pdt_julian, bins_norm, r, v, eta, n_points, img, wcs_func, wcs_info, p_good, t_i = 2454283.5, t_f = 2454587.5):\n",
    "    "
   ]
  }
 ],
 "metadata": {
  "kernelspec": {
   "display_name": "Python 3",
   "language": "python",
   "name": "python3"
  },
  "language_info": {
   "codemirror_mode": {
    "name": "ipython",
    "version": 3
   },
   "file_extension": ".py",
   "mimetype": "text/x-python",
   "name": "python",
   "nbconvert_exporter": "python",
   "pygments_lexer": "ipython3",
   "version": "3.7.6"
  }
 },
 "nbformat": 4,
 "nbformat_minor": 2
}
