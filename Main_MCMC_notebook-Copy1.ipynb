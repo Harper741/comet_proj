{
 "cells": [
  {
   "cell_type": "code",
   "execution_count": 1,
   "metadata": {},
   "outputs": [],
   "source": [
    "import numpy as np\n",
    "import matplotlib.pyplot as plt\n",
    "from astropy.io import fits\n",
    "from astropy import wcs\n",
    "import sys\n",
    "\n",
    "from astropy import units as u\n",
    "from poliastro.bodies import Earth, Sun\n",
    "from poliastro.twobody import Orbit\n",
    "from astropy.coordinates import SkyCoord\n",
    "from astropy.coordinates import GCRS\n",
    "from astropy.coordinates import ICRS\n",
    "from astropy.coordinates import get_moon\n",
    "from astropy.time import Time\n",
    "from datetime import datetime\n",
    "\n",
    "\n",
    "import PIL.Image\n",
    "from astropy.utils.data import get_pkg_data_filename\n",
    "\n",
    "#to load wcs:\n",
    "#import cairo"
   ]
  },
  {
   "cell_type": "code",
   "execution_count": 2,
   "metadata": {},
   "outputs": [],
   "source": [
    "#data\n",
    "all_files = !ls ../Data_CometHolmes\n",
    "jpeg_files = all_files[0::2] #to get only the jpeg files\n",
    "#getting the image numbers\n",
    "\n",
    "image_number = []\n",
    "for i in jpeg_files:\n",
    "    image_number.append(i[7:11])"
   ]
  },
  {
   "cell_type": "code",
   "execution_count": 3,
   "metadata": {},
   "outputs": [],
   "source": [
    "#getting the exif\n",
    "import PIL.Image\n",
    "img = []\n",
    "exif_data = []\n",
    "n=0\n",
    "for i in range(len(jpeg_files)):\n",
    "    img.append(PIL.Image.open('../Data_CometHolmes/' + jpeg_files[i]))\n",
    "    exif_data.append(img[i].getexif())\n",
    "\n",
    "pic_date_time = []\n",
    "# associate picture number with time \n",
    "for i in range(1299):\n",
    "    pic_date_time.append([image_number[i], exif_data[i].get(306)])\n",
    "\n",
    "#get only the ones with EXIF values\n",
    "pdt_exif = [row for row in pic_date_time if row[1] != None ]\n",
    "\n",
    "#some entries have the form: '2007:10:30 14:29:03\\x00', so let's remove the weird ending\n",
    "for i in range(len(pdt_exif)):\n",
    "    if len(pdt_exif[i][1]) == 20:\n",
    "        pdt_exif[i][1] = pdt_exif[i][1][:-1]\n",
    "\n",
    "#discrepency between paper and code: we have 11 more timestamped images !!!!"
   ]
  },
  {
   "cell_type": "code",
   "execution_count": 4,
   "metadata": {
    "scrolled": true
   },
   "outputs": [
    {
     "name": "stdout",
     "output_type": "stream",
     "text": [
      "2007-11-06T19:02:26\n"
     ]
    },
    {
     "data": {
      "text/plain": [
       "[['0001', '2007-11-01T21:44:30'],\n",
       " ['0003', '2007-11-06T19:02:26'],\n",
       " ['0004', '2007-11-08T00:37:30'],\n",
       " ['0010', '2007-11-06T23:49:01'],\n",
       " ['0011', '2007-11-06T23:49:01'],\n",
       " ['0042', '2007-11-04T17:04:49'],\n",
       " ['0064', '2007-11-05T18:16:11'],\n",
       " ['0074', '2007-11-06T17:30:57'],\n",
       " ['0078', '2007-10-24T23:56:47'],\n",
       " ['0106', '2007-10-31T10:32:19'],\n",
       " ['0127', '2007-10-28T10:03:53'],\n",
       " ['0139', '2007-11-20T13:10:51'],\n",
       " ['0215', '2007-12-18T02:45:32'],\n",
       " ['0219', '2007-11-02T19:14:37'],\n",
       " ['0270', '2007-12-08T17:36:17'],\n",
       " ['0274', '2007-11-24T19:57:20'],\n",
       " ['0276', '2007-10-28T16:32:09'],\n",
       " ['0279', '2007-11-22T17:50:30'],\n",
       " ['0280', '2007-11-22T16:04:39'],\n",
       " ['0281', '2007-11-24T19:56:54'],\n",
       " ['0282', '2007-11-22T10:39:20'],\n",
       " ['0283', '2007-11-24T22:15:59'],\n",
       " ['0284', '2007-11-07T09:36:44'],\n",
       " ['0285', '2007-11-24T19:56:18'],\n",
       " ['0286', '2007-11-17T09:55:03'],\n",
       " ['0302', '2007-10-30T14:29:03'],\n",
       " ['0303', '2007-10-30T14:28:47'],\n",
       " ['0307', '2007-11-02T11:43:37'],\n",
       " ['0308', '2007-11-02T11:43:51'],\n",
       " ['0314', '2007-11-10T08:47:06'],\n",
       " ['0316', '2007-11-14T22:39:46'],\n",
       " ['0337', '2007-11-01T09:38:31'],\n",
       " ['0338', '2007-11-01T09:50:50'],\n",
       " ['0341', '2007-10-29T19:26:38'],\n",
       " ['0342', '2007-11-07T22:13:48'],\n",
       " ['0343', '2007-11-04T12:14:40'],\n",
       " ['0344', '2007-11-15T20:21:18'],\n",
       " ['0352', '2007-10-30T19:50:30'],\n",
       " ['0353', '2007-10-30T19:50:35'],\n",
       " ['0354', '2007-10-30T19:50:44'],\n",
       " ['0358', '2007-11-01T01:39:03'],\n",
       " ['0396', '2008-01-16T21:57:30'],\n",
       " ['0414', '2007-10-30T20:41:20'],\n",
       " ['0415', '2007-12-02T14:39:05'],\n",
       " ['0416', '2007-11-02T23:25:23'],\n",
       " ['0448', '2007-12-05T23:34:52'],\n",
       " ['0454', '2007-10-31T20:36:24'],\n",
       " ['0455', '2007-11-01T20:41:36'],\n",
       " ['0456', '2007-11-01T20:49:34'],\n",
       " ['0457', '2007-11-01T21:55:15'],\n",
       " ['0460', '2007-11-01T21:57:46'],\n",
       " ['0461', '2007-11-01T21:58:59'],\n",
       " ['0462', '2007-11-01T21:59:20'],\n",
       " ['0463', '2007-11-06T21:36:02'],\n",
       " ['0464', '2007-11-06T21:37:56'],\n",
       " ['0465', '2007-11-06T21:38:41'],\n",
       " ['0470', '2007-11-10T17:47:47'],\n",
       " ['0471', '2008-03-01T14:50:36'],\n",
       " ['0475', '2007-11-10T20:37:39'],\n",
       " ['0476', '2007-11-10T21:04:11'],\n",
       " ['0558', '2007-12-07T00:44:27'],\n",
       " ['0562', '2007-11-18T18:58:04'],\n",
       " ['0564', '2007-11-19T20:47:23'],\n",
       " ['0565', '2007-11-19T20:30:57'],\n",
       " ['0567', '2007-11-19T09:45:44'],\n",
       " ['0568', '2007-11-21T07:25:04'],\n",
       " ['0570', '2007-11-21T20:09:26'],\n",
       " ['0572', '2007-11-18T00:38:26'],\n",
       " ['0574', '2007-11-18T00:41:38'],\n",
       " ['0605', '2007-10-28T21:14:01'],\n",
       " ['0608', '2007-11-08T22:19:46'],\n",
       " ['0609', '2007-11-12T18:24:08'],\n",
       " ['0610', '2007-12-16T10:24:28'],\n",
       " ['0611', '2007-10-28T10:55:34'],\n",
       " ['0612', '2007-10-31T17:56:45'],\n",
       " ['0613', '2007-11-02T23:02:50'],\n",
       " ['0614', '2007-11-02T23:04:47'],\n",
       " ['0615', '2007-11-02T23:04:07'],\n",
       " ['0616', '2007-11-05T22:23:47'],\n",
       " ['0617', '2007-11-05T22:51:26'],\n",
       " ['0618', '2007-11-12T18:45:42'],\n",
       " ['0619', '2007-11-01T00:00:57'],\n",
       " ['0644', '2007-11-06T20:06:50'],\n",
       " ['0654', '2007-11-05T17:54:39'],\n",
       " ['0655', '2007-10-29T13:03:17'],\n",
       " ['0670', '2007-10-25T09:33:45'],\n",
       " ['0678', '2007-11-04T22:22:51'],\n",
       " ['0680', '2008-01-13T17:21:24'],\n",
       " ['0681', '2008-01-13T17:20:53'],\n",
       " ['0683', '2008-01-13T17:20:28'],\n",
       " ['0685', '2008-01-13T17:19:03'],\n",
       " ['0686', '2008-01-13T17:19:35'],\n",
       " ['0687', '2008-01-13T17:17:10'],\n",
       " ['0688', '2008-01-13T17:14:23'],\n",
       " ['0691', '2008-01-13T17:16:45'],\n",
       " ['0692', '2008-01-13T17:14:49'],\n",
       " ['0784', '2006-02-19T22:22:01'],\n",
       " ['0819', '2007-11-02T00:57:22'],\n",
       " ['0820', '2007-11-18T13:35:19'],\n",
       " ['0822', '2007-11-08T17:56:19'],\n",
       " ['0823', '2007-11-20T13:20:42'],\n",
       " ['0827', '2007-11-22T21:14:20'],\n",
       " ['0828', '2007-11-20T21:52:53'],\n",
       " ['0857', '2009-09-14T12:17:23'],\n",
       " ['0858', '2009-09-14T12:17:23'],\n",
       " ['0859', '2007-11-24T16:27:56'],\n",
       " ['0860', '2008-03-08T17:06:38'],\n",
       " ['0862', '2008-03-09T19:06:36'],\n",
       " ['0867', '2007-12-01T03:31:07'],\n",
       " ['0868', '2007-12-01T03:31:05'],\n",
       " ['0869', '2007-12-01T03:31:04'],\n",
       " ['0870', '2007-11-01T04:20:28'],\n",
       " ['0871', '2007-11-09T04:53:49'],\n",
       " ['0872', '2007-12-02T21:05:19'],\n",
       " ['0885', '2007-10-28T12:18:45'],\n",
       " ['0886', '2007-11-01T16:05:12'],\n",
       " ['0887', '2007-11-01T18:08:47'],\n",
       " ['0890', '2007-11-13T22:48:15'],\n",
       " ['0892', '2007-11-25T22:50:50'],\n",
       " ['0894', '2007-10-29T11:55:02'],\n",
       " ['0895', '2007-10-28T13:52:24'],\n",
       " ['0896', '2007-10-28T13:56:37'],\n",
       " ['0897', '2007-11-10T01:47:30'],\n",
       " ['0898', '2007-11-04T19:52:15'],\n",
       " ['0899', '2007-11-10T01:50:27'],\n",
       " ['0900', '2007-11-10T09:52:00'],\n",
       " ['0904', '2007-11-04T22:26:04'],\n",
       " ['0905', '2007-11-04T22:26:18'],\n",
       " ['0906', '2008-01-20T01:22:02'],\n",
       " ['0907', '2008-01-20T01:34:26'],\n",
       " ['0910', '2007-10-25T15:19:11'],\n",
       " ['0912', '2007-11-25T22:13:37'],\n",
       " ['0913', '2007-11-25T22:14:08'],\n",
       " ['0914', '2007-11-25T22:14:36'],\n",
       " ['0915', '2007-11-25T22:14:58'],\n",
       " ['0916', '2007-11-19T22:43:21'],\n",
       " ['0917', '2007-11-19T22:43:42'],\n",
       " ['0920', '2007-11-04T18:40:55'],\n",
       " ['0921', '2007-11-17T16:34:11'],\n",
       " ['0922', '2007-11-04T11:08:52'],\n",
       " ['0923', '2007-11-04T11:09:12'],\n",
       " ['0924', '2007-11-19T22:12:59'],\n",
       " ['0925', '2007-11-19T22:13:21'],\n",
       " ['0930', '2007-11-04T11:09:58'],\n",
       " ['0931', '2007-11-04T11:10:24'],\n",
       " ['0932', '2007-11-04T11:12:49'],\n",
       " ['0933', '2007-11-04T11:13:09'],\n",
       " ['0934', '2007-11-04T11:11:19'],\n",
       " ['0935', '2007-11-19T22:28:10'],\n",
       " ['0936', '2007-11-17T16:57:03'],\n",
       " ['0937', '2007-11-17T16:54:40'],\n",
       " ['0938', '2007-11-17T17:22:25'],\n",
       " ['0939', '2007-11-10T16:17:25'],\n",
       " ['0940', '2007-11-10T16:17:46'],\n",
       " ['0941', '2007-11-10T16:18:26'],\n",
       " ['0942', '2007-11-10T16:18:57'],\n",
       " ['0943', '2007-11-12T16:32:58'],\n",
       " ['0944', '2007-11-12T16:33:21'],\n",
       " ['0945', '2007-11-17T16:29:29'],\n",
       " ['0946', '2007-11-17T16:30:50'],\n",
       " ['0947', '2007-11-17T16:31:21'],\n",
       " ['0948', '2007-11-17T16:32:00'],\n",
       " ['0949', '2007-11-17T16:28:27'],\n",
       " ['0950', '2007-11-17T16:28:57'],\n",
       " ['0951', '2007-11-19T12:32:53'],\n",
       " ['0952', '2007-11-19T12:33:10'],\n",
       " ['0953', '2007-11-19T12:33:35'],\n",
       " ['0954', '2007-11-19T12:33:53'],\n",
       " ['0955', '2007-11-25T22:58:39'],\n",
       " ['0956', '2007-11-25T22:59:02'],\n",
       " ['0957', '2007-12-16T20:49:38'],\n",
       " ['0958', '2007-12-16T20:50:01'],\n",
       " ['0959', '2007-12-14T21:49:52'],\n",
       " ['0960', '2007-12-14T21:50:23'],\n",
       " ['0961', '2007-12-14T21:51:13'],\n",
       " ['0962', '2007-12-14T21:51:44'],\n",
       " ['0963', '2007-11-04T11:14:25'],\n",
       " ['0964', '2007-11-04T11:17:25'],\n",
       " ['0965', '2007-11-04T11:18:15'],\n",
       " ['0966', '2007-11-04T11:18:51'],\n",
       " ['0967', '2007-11-04T11:19:10'],\n",
       " ['0968', '2007-11-04T11:19:35'],\n",
       " ['0969', '2007-11-04T11:19:55'],\n",
       " ['0970', '2007-11-04T11:20:37'],\n",
       " ['0971', '2007-11-04T11:21:02'],\n",
       " ['0972', '2007-11-04T11:21:24'],\n",
       " ['0974', '2007-11-10T17:40:03'],\n",
       " ['0975', '2007-11-10T17:40:32'],\n",
       " ['1067', '2008-10-09T22:19:47'],\n",
       " ['1068', '2008-02-25T18:31:27'],\n",
       " ['1069', '2008-02-25T18:31:27'],\n",
       " ['1110', '2007-10-27T13:11:41'],\n",
       " ['1113', '2008-07-08T16:51:41'],\n",
       " ['1117', '2007-12-05T16:41:00'],\n",
       " ['1118', '2007-11-02T20:44:37'],\n",
       " ['1119', '2007-11-03T08:50:58'],\n",
       " ['1120', '2007-11-08T20:08:03'],\n",
       " ['1122', '2008-12-17T19:14:57'],\n",
       " ['1135', '2007-11-01T00:13:51'],\n",
       " ['1136', '2007-11-05T23:38:07'],\n",
       " ['1137', '2007-11-03T23:04:02'],\n",
       " ['1138', '2007-11-03T23:23:26'],\n",
       " ['1139', '2007-11-04T23:26:45'],\n",
       " ['1142', '2007-11-08T22:54:23'],\n",
       " ['1143', '2007-11-12T21:51:16'],\n",
       " ['1144', '2007-11-15T23:19:49'],\n",
       " ['1145', '2007-11-15T23:20:24'],\n",
       " ['1146', '2007-11-19T21:29:59'],\n",
       " ['1147', '2007-11-20T21:51:22'],\n",
       " ['1148', '2007-11-23T12:38:41'],\n",
       " ['1149', '2007-11-27T20:51:53'],\n",
       " ['1150', '2007-12-06T23:11:53'],\n",
       " ['1151', '2007-12-06T22:30:57'],\n",
       " ['1152', '2007-12-16T22:15:34'],\n",
       " ['1153', '2007-12-23T21:12:39'],\n",
       " ['1154', '2009-02-25T06:33:24'],\n",
       " ['1156', '2007-11-19T05:14:39'],\n",
       " ['1176', '2007-11-04T08:33:32'],\n",
       " ['1177', '2007-11-04T08:34:05'],\n",
       " ['1178', '2007-11-02T22:21:29'],\n",
       " ['1179', '2007-11-02T22:18:42'],\n",
       " ['1180', '2007-11-02T22:20:25'],\n",
       " ['1181', '2007-11-03T09:26:38'],\n",
       " ['1182', '2007-11-03T01:40:18'],\n",
       " ['1183', '2007-11-03T20:27:28'],\n",
       " ['1185', '2007-12-09T17:10:05'],\n",
       " ['1186', '2007-11-02T15:48:05'],\n",
       " ['1190', '2007-11-02T13:16:32'],\n",
       " ['1205', '2007-11-17T10:08:11'],\n",
       " ['1206', '2007-11-16T19:16:38'],\n",
       " ['1207', '2007-10-28T15:12:01'],\n",
       " ['1208', '2007-12-16T21:24:16'],\n",
       " ['1209', '2007-11-07T21:32:39'],\n",
       " ['1210', '2007-11-07T21:32:16'],\n",
       " ['1211', '2007-11-05T23:44:48'],\n",
       " ['1212', '2007-11-05T22:57:04'],\n",
       " ['1213', '2007-11-15T00:52:40'],\n",
       " ['1214', '2007-12-06T17:45:53'],\n",
       " ['1215', '2007-12-06T20:40:39'],\n",
       " ['1217', '2007-12-06T20:25:18'],\n",
       " ['1218', '2007-11-20T01:15:27'],\n",
       " ['1219', '2008-02-28T00:44:48'],\n",
       " ['1222', '2007-11-18T05:12:35'],\n",
       " ['1283', '2007-11-10T21:21:01'],\n",
       " ['1294', '2007-12-20T10:26:06'],\n",
       " ['1295', '2007-11-01T09:54:19'],\n",
       " ['1296', '2007-10-31T21:12:40'],\n",
       " ['1297', '2007-11-01T09:50:54'],\n",
       " ['1298', '2007-10-30T00:19:45'],\n",
       " ['1307', '2007-12-08T14:28:11'],\n",
       " ['1319', '2007-11-05T13:46:09'],\n",
       " ['1321', '2007-11-12T00:00:00'],\n",
       " ['1337', '2007-11-10T10:45:33'],\n",
       " ['1343', '2005-11-06T00:57:52'],\n",
       " ['1353', '2007-10-28T22:08:21'],\n",
       " ['1354', '2007-11-11T21:48:42'],\n",
       " ['1355', '2007-11-12T08:30:46'],\n",
       " ['1356', '2007-11-12T10:13:47'],\n",
       " ['1388', '2007-11-03T22:00:06'],\n",
       " ['1394', '2008-02-08T07:39:40'],\n",
       " ['1413', '2007-11-12T11:07:22'],\n",
       " ['1414', '2007-11-11T21:01:31'],\n",
       " ['1423', '2007-07-24T10:40:48'],\n",
       " ['1430', '2007-12-08T18:37:10'],\n",
       " ['1431', '2007-10-28T20:01:16'],\n",
       " ['1433', '2008-05-08T22:10:01'],\n",
       " ['1436', '2007-10-29T00:43:50'],\n",
       " ['1437', '2008-05-08T21:58:23'],\n",
       " ['1438', '2008-05-08T22:08:06'],\n",
       " ['1439', '2008-05-08T22:09:14'],\n",
       " ['1440', '2007-11-05T22:41:02'],\n",
       " ['1449', '2008-05-30T15:49:41'],\n",
       " ['1450', '2008-05-30T15:47:50'],\n",
       " ['1451', '2007-12-04T20:52:17'],\n",
       " ['1452', '2007-12-04T20:52:56'],\n",
       " ['1486', '2007-11-21T19:39:14'],\n",
       " ['1506', '2007-11-04T14:30:54'],\n",
       " ['1507', '2009-05-05T17:01:42'],\n",
       " ['1527', '2007-11-02T15:34:09'],\n",
       " ['1583', '2007-11-03T11:27:02'],\n",
       " ['1622', '2007-11-12T17:10:48'],\n",
       " ['1623', '2007-11-12T11:26:52'],\n",
       " ['1646', '2008-01-16T06:24:10'],\n",
       " ['1648', '2008-03-05T17:00:34'],\n",
       " ['1661', '2007-10-09T07:51:54'],\n",
       " ['1662', '2007-10-09T07:59:22'],\n",
       " ['1687', '2007-12-11T16:42:25'],\n",
       " ['1688', '2007-12-11T16:47:04'],\n",
       " ['1689', '2004-02-01T15:25:36'],\n",
       " ['1690', '2004-08-07T21:51:20'],\n",
       " ['1693', '2007-11-11T07:16:54'],\n",
       " ['1694', '2007-11-11T07:20:50'],\n",
       " ['1695', '2007-11-11T07:23:56'],\n",
       " ['1696', '2007-11-11T07:21:48'],\n",
       " ['1697', '2007-11-17T15:42:44'],\n",
       " ['1702', '2007-11-11T09:34:43'],\n",
       " ['1720', '2007-11-12T23:10:58'],\n",
       " ['1723', '2007-11-12T15:23:34'],\n",
       " ['1732', '2008-02-06T19:18:25'],\n",
       " ['1735', '2007-10-31T01:38:21'],\n",
       " ['1736', '2007-11-04T14:11:53'],\n",
       " ['1767', '2007-11-22T09:35:30'],\n",
       " ['1768', '2008-01-17T10:55:21'],\n",
       " ['1769', '2007-12-03T10:35:57'],\n",
       " ['1770', '2007-11-06T13:26:03'],\n",
       " ['1771', '2007-10-28T19:22:56'],\n",
       " ['1773', '2007-11-26T21:37:24'],\n",
       " ['1777', '2007-11-04T15:41:06'],\n",
       " ['1800', '2007-11-02T17:44:22'],\n",
       " ['1803', '2007-12-24T08:49:03'],\n",
       " ['1809', '2007-11-04T11:47:22'],\n",
       " ['1810', '2007-11-04T11:48:40'],\n",
       " ['1815', '2007-11-04T23:03:52'],\n",
       " ['1820', '2007-11-04T15:04:13'],\n",
       " ['1822', '2007-11-04T18:07:32'],\n",
       " ['1834', '2007-11-05T06:32:33'],\n",
       " ['1841', '2007-11-06T09:52:15'],\n",
       " ['1843', '2007-11-06T00:01:40'],\n",
       " ['1846', '2007-11-05T15:26:44'],\n",
       " ['1848', '2007-11-05T19:34:29'],\n",
       " ['1851', '2007-11-07T01:04:07'],\n",
       " ['1858', '2007-12-04T23:10:25'],\n",
       " ['1859', '2007-12-06T09:43:54'],\n",
       " ['1863', '2007-12-03T23:50:42'],\n",
       " ['1868', '2007-11-12T17:10:48'],\n",
       " ['1870', '2007-12-10T19:41:19'],\n",
       " ['1873', '2008-01-10T21:42:47'],\n",
       " ['1876', '2008-01-10T21:53:11'],\n",
       " ['1877', '2007-12-27T19:46:30'],\n",
       " ['1878', '2008-01-11T22:43:56'],\n",
       " ['1881', '2008-01-04T18:38:50'],\n",
       " ['1883', '2008-01-12T19:36:26'],\n",
       " ['1885', '2008-01-09T22:33:42'],\n",
       " ['1889', '2007-11-09T20:04:51'],\n",
       " ['1892', '2007-11-11T21:50:51'],\n",
       " ['1895', '2007-11-12T16:31:09'],\n",
       " ['1898', '2007-11-13T16:37:23'],\n",
       " ['1906', '2007-11-15T21:47:00'],\n",
       " ['1907', '2007-11-15T21:49:12'],\n",
       " ['1908', '2007-11-15T22:00:20'],\n",
       " ['1909', '2007-11-10T18:42:40'],\n",
       " ['1912', '2007-11-15T08:25:36'],\n",
       " ['1914', '2007-11-16T00:42:20'],\n",
       " ['1918', '2007-11-15T20:00:01'],\n",
       " ['1926', '2007-11-04T15:00:04'],\n",
       " ['1936', '2007-11-17T09:00:51'],\n",
       " ['1938', '2007-11-16T19:44:37'],\n",
       " ['1940', '2007-11-17T17:05:17'],\n",
       " ['1946', '2007-11-17T21:21:47'],\n",
       " ['1947', '2007-11-17T11:05:29'],\n",
       " ['1951', '2007-11-17T20:00:40'],\n",
       " ['1953', '2007-11-18T00:01:28'],\n",
       " ['1958', '2007-11-18T21:04:43'],\n",
       " ['1959', '2007-11-18T23:53:22'],\n",
       " ['1963', '2007-11-17T20:26:08'],\n",
       " ['1968', '2007-11-18T11:31:29'],\n",
       " ['1969', '2007-11-18T00:06:25'],\n",
       " ['1970', '2007-11-18T11:30:54'],\n",
       " ['2011', '2007-10-25T01:11:43'],\n",
       " ['2013', '2007-10-24T22:05:29'],\n",
       " ['2014', '2007-10-24T22:05:38'],\n",
       " ['2015', '2007-10-24T21:50:30'],\n",
       " ['2017', '2007-10-25T00:56:28'],\n",
       " ['2019', '2007-10-25T00:10:54'],\n",
       " ['2021', '2007-10-24T23:07:28'],\n",
       " ['2022', '2007-10-24T22:29:15'],\n",
       " ['2025', '2007-10-24T22:28:52'],\n",
       " ['2026', '2007-10-24T20:01:37'],\n",
       " ['2027', '2007-10-25T08:25:26'],\n",
       " ['2034', '2007-10-25T00:16:28'],\n",
       " ['2036', '2007-10-25T00:25:07'],\n",
       " ['2039', '2007-10-26T02:39:52'],\n",
       " ['2058', '2007-10-26T15:20:29'],\n",
       " ['2060', '2007-10-27T02:51:41'],\n",
       " ['2084', '2007-11-28T13:58:31'],\n",
       " ['2088', '2007-11-26T19:29:47'],\n",
       " ['2093', '2007-11-27T20:03:56'],\n",
       " ['2101', '2007-11-28T09:06:25'],\n",
       " ['2106', '2007-10-28T22:01:48'],\n",
       " ['2107', '2007-10-28T23:20:40'],\n",
       " ['2119', '2007-10-28T22:13:41'],\n",
       " ['2133', '2007-10-29T09:30:01'],\n",
       " ['2138', '2007-10-30T02:57:31'],\n",
       " ['2158', '2007-11-29T18:53:13'],\n",
       " ['2159', '2007-11-29T21:25:37'],\n",
       " ['2164', '2007-11-28T17:45:14'],\n",
       " ['2169', '2007-11-30T00:19:55'],\n",
       " ['2173', '2007-11-30T00:52:16'],\n",
       " ['2174', '2007-11-30T00:24:58'],\n",
       " ['2183', '2009-03-13T21:06:03'],\n",
       " ['2185', '2007-12-29T22:16:40'],\n",
       " ['2192', '2007-11-07T13:48:51'],\n",
       " ['2193', '2007-11-11T05:03:04'],\n",
       " ['2196', '2008-03-05T00:14:49'],\n",
       " ['2200', '2007-12-30T15:15:46'],\n",
       " ['2235', '2007-10-26T11:35:42'],\n",
       " ['2236', '2007-11-10T11:14:59'],\n",
       " ['2237', '2007-11-19T18:44:21'],\n",
       " ['2238', '2007-12-11T20:19:14'],\n",
       " ['2240', '2006-05-11T22:31:04'],\n",
       " ['2241', '2007-11-18T22:47:46'],\n",
       " ['2242', '2007-11-18T22:45:17'],\n",
       " ['2244', '2003-06-29T13:48:28'],\n",
       " ['2246', '2004-05-08T09:05:17'],\n",
       " ['2247', '2009-01-31T09:52:33'],\n",
       " ['2254', '2007-11-15T23:51:37'],\n",
       " ['2260', '2007-11-29T19:00:17'],\n",
       " ['2261', '2007-11-04T20:43:00'],\n",
       " ['2269', '2007-11-05T06:35:04'],\n",
       " ['2272', '2007-11-06T11:03:10'],\n",
       " ['2273', '2007-11-22T12:17:53'],\n",
       " ['2274', '2008-03-04T20:05:51'],\n",
       " ['2275', '2008-03-04T20:06:50'],\n",
       " ['2276', '2008-03-04T20:06:06'],\n",
       " ['2277', '2007-10-28T21:55:26'],\n",
       " ['2280', '2008-03-04T20:07:28'],\n",
       " ['2285', '2008-03-04T20:07:06'],\n",
       " ['2286', '2008-03-04T20:06:19'],\n",
       " ['2289', '2008-03-04T20:07:12'],\n",
       " ['2290', '2008-03-04T20:07:35'],\n",
       " ['2291', '2008-03-04T20:05:59'],\n",
       " ['2296', '2007-11-10T23:00:33'],\n",
       " ['2297', '2007-11-10T23:00:35'],\n",
       " ['2300', '2007-11-01T22:31:28'],\n",
       " ['2310', '2007-11-04T22:37:45'],\n",
       " ['2319', '2007-12-03T15:17:10'],\n",
       " ['2320', '2007-12-03T15:17:03'],\n",
       " ['2321', '2007-12-03T15:16:56'],\n",
       " ['2322', '2007-10-27T11:55:51'],\n",
       " ['2335', '2007-11-14T23:03:38'],\n",
       " ['2366', '2007-11-03T23:54:28'],\n",
       " ['2368', '2007-10-28T23:21:04'],\n",
       " ['2474', '2007-10-31T11:00:24']]"
      ]
     },
     "execution_count": 4,
     "metadata": {},
     "output_type": "execute_result"
    }
   ],
   "source": [
    "\n",
    "#woups! we need JD date!!!\n",
    "#we need the following format: '2010-01-01T00:00:00'\n",
    "\n",
    "#getting the format\n",
    "dates = np.transpose(pdt_exif)[1]\n",
    "print(datetime.strptime(dates[1], \"%Y:%m:%d  %H:%M:%S\").strftime(\"%Y-%m-%dT%H:%M:%S\"))\n",
    "\n",
    "m = len(pdt_exif)\n",
    "pdt_julian = pdt_exif\n",
    "\n",
    "for i in range(m):\n",
    "    date_time_string = pdt_exif[i][1]\n",
    "    #right format\n",
    "    d = datetime.strptime(date_time_string, \"%Y:%m:%d  %H:%M:%S\").strftime(\"%Y-%m-%dT%H:%M:%S\")\n",
    "    pdt_julian[i][1] = d\n",
    "pdt_julian"
   ]
  },
  {
   "cell_type": "code",
   "execution_count": 5,
   "metadata": {},
   "outputs": [],
   "source": [
    "#get julian times\n",
    "times = np.transpose(pdt_julian)[1]\n",
    "t = Time(times, format='isot', scale='utc').jd"
   ]
  },
  {
   "cell_type": "code",
   "execution_count": 6,
   "metadata": {},
   "outputs": [
    {
     "name": "stdout",
     "output_type": "stream",
     "text": [
      "2454283.5 2454587.5\n"
     ]
    }
   ],
   "source": [
    "def date2julian(date_string):\n",
    "    date = datetime.strptime(date_string, \"%Y:%m:%d  %H:%M:%S\").strftime(\"%Y-%m-%dT%H:%M:%S\")\n",
    "    julian = Time(date, format='isot', scale='utc').jd\n",
    "    return julian\n",
    "\n",
    "t_min = date2julian(\"2007:07:02  00:00:00\") #july 1st 2007\n",
    "t_max = date2julian(\"2008:05:01  00:00:00\") #may 1st 2008\n",
    "print(t_min, t_max)\n"
   ]
  },
  {
   "cell_type": "code",
   "execution_count": 7,
   "metadata": {},
   "outputs": [
    {
     "name": "stdout",
     "output_type": "stream",
     "text": [
      "delta time: 304.0 , # bins: 38 38.0\n"
     ]
    },
    {
     "data": {
      "image/png": "[encoded data removed]",
      "text/plain": [
       "<Figure size 432x288 with 1 Axes>"
      ]
     },
     "metadata": {
      "needs_background": "light"
     },
     "output_type": "display_data"
    }
   ],
   "source": [
    "delta_t = t_max-t_min\n",
    "bins_width = 8.0 #number of days in JD is just the number of days\n",
    "bins_num = int(delta_t/bins_width) #integer\n",
    "\n",
    "print('delta time:', delta_t, ', # bins:', bins_num,delta_t/bins_width)\n",
    "\n",
    "#keep only times between t_min and t_max\n",
    "#times_filtered = [i for i in t if not  i <= t_min and i <= t_max] \n",
    "hist_array, hist_bins, hist_patches = plt.hist(t, bins = bins_num, range = (t_min, t_max));\n"
   ]
  },
  {
   "cell_type": "code",
   "execution_count": 8,
   "metadata": {},
   "outputs": [],
   "source": [
    "extra_counts = np.linspace(t_min + 4.0, t_max + 4.0, 39)"
   ]
  },
  {
   "cell_type": "code",
   "execution_count": 9,
   "metadata": {},
   "outputs": [
    {
     "data": {
      "image/png": "[encoded data removed]",
      "text/plain": [
       "<Figure size 432x288 with 1 Axes>"
      ]
     },
     "metadata": {
      "needs_background": "light"
     },
     "output_type": "display_data"
    }
   ],
   "source": [
    "plt.title('$p_{emp}(t)$')\n",
    "plt.xlabel('times (JD)')\n",
    "plt.ylabel('prob density')\n",
    "plt.semilogy()\n",
    "prob_time, bins_norm, patches_norm = plt.hist(np.concatenate((t, extra_counts)), bins = bins_num, range = (t_min, t_max), density = True)\n"
   ]
  },
  {
   "cell_type": "code",
   "execution_count": 10,
   "metadata": {},
   "outputs": [],
   "source": [
    "#function that takes the position and velocity vectors at a certain epoch and returns the ICRS coordinates of the\n",
    "#object over a time grid (these are approximately ICRS, but the orbit is really around the CM of the sun and\n",
    "#not the solar system barycenter)\n",
    "#r and v are three element lists that represent vectors and need to have the proper units appended\n",
    "#2454416 = November 12th 2007\n",
    "\n",
    "def orbit_sim(r, v,  n_points, t_i, t_f, epoch = 2454416):\n",
    "    #making a list of times to sample:\n",
    "    times = np.linspace(t_i, t_f, n_points)\n",
    "    \n",
    "    #making the propagation delta\n",
    "    prop_delta = [(i - epoch)*u.day for i in times]\n",
    "    \n",
    "    #defining orbit object\n",
    "    orbit = Orbit.from_vectors(Sun, r, v)\n",
    "    \n",
    "    #initialize array to store the positions\n",
    "    locations = [0 for i in range(n_points)]\n",
    "    \n",
    "    #looping over linspace to evaluate the orbit at all of these points\n",
    "    for i in range(len(prop_delta)):\n",
    "        locations[i] = orbit.propagate(prop_delta[i]).rv()[0]\n",
    "    \n",
    "    return [locations, times]"
   ]
  },
  {
   "cell_type": "code",
   "execution_count": 11,
   "metadata": {},
   "outputs": [],
   "source": [
    "#function that takes the cartesian (x,y,z) in ICRS frame and returns the ra and dec as seen from the earth\n",
    "def ICRS_to_GCRS(positions, times):\n",
    "    \n",
    "    coords = [0 for i in range(len(times))]\n",
    "    \n",
    "    \n",
    "    for i in range(len(positions)):\n",
    "        temp_time = Time(times[i], format='jd')\n",
    "        X,Y,Z = positions[i].value\n",
    "        temp_coord = SkyCoord(x = X, y = Y, z = Z, unit='km' ,frame = 'icrs' , representation_type = 'cartesian', obstime=temp_time)\n",
    "        coords[i] = temp_coord.transform_to('gcrs')\n",
    "        \n",
    "    return coords\n",
    "        "
   ]
  },
  {
   "cell_type": "code",
   "execution_count": 12,
   "metadata": {
    "scrolled": false
   },
   "outputs": [
    {
     "data": {
      "text/plain": [
       "[<SkyCoord (GCRS: obstime=2454283.5, obsgeoloc=(0., 0., 0.) m, obsgeovel=(0., 0., 0.) m / s): (ra, dec, distance) in (deg, deg, km)\n",
       "     (74.15878633, 34.63600923, 2.86838846e+08)>,\n",
       " <SkyCoord (GCRS: obstime=2454299.5, obsgeoloc=(0., 0., 0.) m, obsgeovel=(0., 0., 0.) m / s): (ra, dec, distance) in (deg, deg, km)\n",
       "     (86.24701281, 36.59514986, 2.53934026e+08)>,\n",
       " <SkyCoord (GCRS: obstime=2454315.5, obsgeoloc=(0., 0., 0.) m, obsgeovel=(0., 0., 0.) m / s): (ra, dec, distance) in (deg, deg, km)\n",
       "     (103.5331847, 37.07667233, 2.11842373e+08)>,\n",
       " <SkyCoord (GCRS: obstime=2454331.5, obsgeoloc=(0., 0., 0.) m, obsgeovel=(0., 0., 0.) m / s): (ra, dec, distance) in (deg, deg, km)\n",
       "     (131.65963509, 30.92954325, 1.67572176e+08)>,\n",
       " <SkyCoord (GCRS: obstime=2454347.5, obsgeoloc=(0., 0., 0.) m, obsgeovel=(0., 0., 0.) m / s): (ra, dec, distance) in (deg, deg, km)\n",
       "     (144.35974515, 14.19482312, 1.38396556e+08)>,\n",
       " <SkyCoord (GCRS: obstime=2454363.5, obsgeoloc=(0., 0., 0.) m, obsgeovel=(0., 0., 0.) m / s): (ra, dec, distance) in (deg, deg, km)\n",
       "     (137.43659175, 24.77500081, 1.2293761e+08)>,\n",
       " <SkyCoord (GCRS: obstime=2454379.5, obsgeoloc=(0., 0., 0.) m, obsgeovel=(0., 0., 0.) m / s): (ra, dec, distance) in (deg, deg, km)\n",
       "     (137.09519683, 35.15829963, 1.00809299e+08)>,\n",
       " <SkyCoord (GCRS: obstime=2454395.5, obsgeoloc=(0., 0., 0.) m, obsgeovel=(0., 0., 0.) m / s): (ra, dec, distance) in (deg, deg, km)\n",
       "     (139.16620158, 51.36140906, 75412519.605849)>,\n",
       " <SkyCoord (GCRS: obstime=2454411.5, obsgeoloc=(0., 0., 0.) m, obsgeovel=(0., 0., 0.) m / s): (ra, dec, distance) in (deg, deg, km)\n",
       "     (146.53351712, 81.81379256, 57131195.30461094)>,\n",
       " <SkyCoord (GCRS: obstime=2454427.5, obsgeoloc=(0., 0., 0.) m, obsgeovel=(0., 0., 0.) m / s): (ra, dec, distance) in (deg, deg, km)\n",
       "     (322.27384936, 58.65590877, 61392080.18889092)>,\n",
       " <SkyCoord (GCRS: obstime=2454443.5, obsgeoloc=(0., 0., 0.) m, obsgeovel=(0., 0., 0.) m / s): (ra, dec, distance) in (deg, deg, km)\n",
       "     (326.06209316, 33.952162, 84609351.32471704)>,\n",
       " <SkyCoord (GCRS: obstime=2454459.5, obsgeoloc=(0., 0., 0.) m, obsgeovel=(0., 0., 0.) m / s): (ra, dec, distance) in (deg, deg, km)\n",
       "     (328.96158393, 21.51383324, 1.11520313e+08)>,\n",
       " <SkyCoord (GCRS: obstime=2454475.5, obsgeoloc=(0., 0., 0.) m, obsgeovel=(0., 0., 0.) m / s): (ra, dec, distance) in (deg, deg, km)\n",
       "     (330.84762073, 13.84497045, 1.33374803e+08)>,\n",
       " <SkyCoord (GCRS: obstime=2454491.5, obsgeoloc=(0., 0., 0.) m, obsgeovel=(0., 0., 0.) m / s): (ra, dec, distance) in (deg, deg, km)\n",
       "     (330.40608458, 6.25771539, 1.44664133e+08)>,\n",
       " <SkyCoord (GCRS: obstime=2454507.5, obsgeoloc=(0., 0., 0.) m, obsgeovel=(0., 0., 0.) m / s): (ra, dec, distance) in (deg, deg, km)\n",
       "     (330.30447524, -14.16259606, 1.5163594e+08)>,\n",
       " <SkyCoord (GCRS: obstime=2454523.5, obsgeoloc=(0., 0., 0.) m, obsgeovel=(0., 0., 0.) m / s): (ra, dec, distance) in (deg, deg, km)\n",
       "     (2.20553215, 4.86255634, 1.97847216e+08)>,\n",
       " <SkyCoord (GCRS: obstime=2454539.5, obsgeoloc=(0., 0., 0.) m, obsgeovel=(0., 0., 0.) m / s): (ra, dec, distance) in (deg, deg, km)\n",
       "     (15.98584021, 13.66278892, 2.45484348e+08)>,\n",
       " <SkyCoord (GCRS: obstime=2454555.5, obsgeoloc=(0., 0., 0.) m, obsgeovel=(0., 0., 0.) m / s): (ra, dec, distance) in (deg, deg, km)\n",
       "     (25.61999384, 19.06332349, 2.82653675e+08)>,\n",
       " <SkyCoord (GCRS: obstime=2454571.5, obsgeoloc=(0., 0., 0.) m, obsgeovel=(0., 0., 0.) m / s): (ra, dec, distance) in (deg, deg, km)\n",
       "     (33.79781923, 23.05064275, 3.07256071e+08)>,\n",
       " <SkyCoord (GCRS: obstime=2454587.5, obsgeoloc=(0., 0., 0.) m, obsgeovel=(0., 0., 0.) m / s): (ra, dec, distance) in (deg, deg, km)\n",
       "     (41.55519263, 26.34260613, 3.18622305e+08)>]"
      ]
     },
     "execution_count": 12,
     "metadata": {},
     "output_type": "execute_result"
    }
   ],
   "source": [
    "simulated = orbit_sim([10**8,10**8,10**8]*u.km, [0,0,5]*u.km/u.s, 20, 2454283.5, 2454587.5, 2454416)\n",
    "ICRS_to_GCRS(simulated[0], simulated[1])"
   ]
  },
  {
   "cell_type": "code",
   "execution_count": 13,
   "metadata": {},
   "outputs": [],
   "source": [
    "#takes a plt.imread image, WCS object from .wcs file, eta (0,1), and point is a SkyCoord object\n",
    "#deterimines if point is in the eta subimage of the image as defined in the paper\n",
    "\n",
    "def subimage_contains(img, wcs_func, eta, point):\n",
    "    \n",
    "    #assigning variables to the image dimensions\n",
    "    a,b = img.shape[:2]\n",
    "    \n",
    "    #variable assignments that have to do with determining whether the point is in the eta subimage\n",
    "    r_eta = np.sqrt(eta)\n",
    "    am = int(a*(1-r_eta)/2)\n",
    "    ap = int(a*(1+r_eta)/2)\n",
    "    bm = int(b*(1-r_eta)/2)\n",
    "    bp = int(b*(1+r_eta)/2)\n",
    "    \n",
    "    #boolean values \n",
    "    Abool = point.contained_by(wcs_func, image = np.ones((b,am)))\n",
    "    Bbool = point.contained_by(wcs_func, image = np.ones((bm,a)))\n",
    "    Cbool = point.contained_by(wcs_func, image = np.ones((bp,ap)))\n",
    "    \n",
    "    #boolshit\n",
    "    final_bool = (not Abool) and (not Bbool) and (Cbool)\n",
    "    \n",
    "    return final_bool"
   ]
  },
  {
   "cell_type": "code",
   "execution_count": 14,
   "metadata": {},
   "outputs": [],
   "source": [
    "# takes an image (from plt.imread) with its corresponding wcs file, then computes the trajectory of the comet\n",
    "# as seen from Earth and determines whether the comet can be found in a subimage \n",
    "def find_comet(r, v, eta, n_points, img, wcs_func, t_i, t_f, sky_coords): #sky coords: result of ICRS_to_GCRS(orbit_sim)\n",
    "    \n",
    "    #determine whether the comet can be found in a subimage for each image\n",
    "    bool_comet = [False for i in range(len(sky_coords))]\n",
    "    for i in range(len(sky_coords)):\n",
    "        bool_comet[i] = subimage_contains(img, wcs_func, eta, sky_coords[i])\n",
    "        \n",
    "    return bool_comet\n"
   ]
  },
  {
   "cell_type": "code",
   "execution_count": 15,
   "metadata": {},
   "outputs": [
    {
     "name": "stderr",
     "output_type": "stream",
     "text": [
      "WARNING: FITSFixedWarning: The WCS transformation has more axes (2) than the image it is associated with (0) [astropy.wcs.wcs]\n"
     ]
    }
   ],
   "source": [
    "test_image = plt.imread('../Data_CometHolmes/holmes-0001.jpg')\n",
    "test_wcs = wcs.WCS('../Data_CometHolmes/holmes-0001.wcs')"
   ]
  },
  {
   "cell_type": "code",
   "execution_count": 35,
   "metadata": {},
   "outputs": [
    {
     "ename": "TypeError",
     "evalue": "object of type <class 'float'> cannot be safely interpreted as an integer.",
     "output_type": "error",
     "traceback": [
      "\u001b[0;31m---------------------------------------------------------------------------\u001b[0m",
      "\u001b[0;31mTypeError\u001b[0m                                 Traceback (most recent call last)",
      "\u001b[0;32m~/anaconda3/lib/python3.7/site-packages/numpy/core/function_base.py\u001b[0m in \u001b[0;36mlinspace\u001b[0;34m(start, stop, num, endpoint, retstep, dtype, axis)\u001b[0m\n\u001b[1;32m    116\u001b[0m     \u001b[0;32mtry\u001b[0m\u001b[0;34m:\u001b[0m\u001b[0;34m\u001b[0m\u001b[0;34m\u001b[0m\u001b[0m\n\u001b[0;32m--> 117\u001b[0;31m         \u001b[0mnum\u001b[0m \u001b[0;34m=\u001b[0m \u001b[0moperator\u001b[0m\u001b[0;34m.\u001b[0m\u001b[0mindex\u001b[0m\u001b[0;34m(\u001b[0m\u001b[0mnum\u001b[0m\u001b[0;34m)\u001b[0m\u001b[0;34m\u001b[0m\u001b[0;34m\u001b[0m\u001b[0m\n\u001b[0m\u001b[1;32m    118\u001b[0m     \u001b[0;32mexcept\u001b[0m \u001b[0mTypeError\u001b[0m\u001b[0;34m:\u001b[0m\u001b[0;34m\u001b[0m\u001b[0;34m\u001b[0m\u001b[0m\n",
      "\u001b[0;31mTypeError\u001b[0m: 'float' object cannot be interpreted as an integer",
      "\nDuring handling of the above exception, another exception occurred:\n",
      "\u001b[0;31mTypeError\u001b[0m                                 Traceback (most recent call last)",
      "\u001b[0;32m<timed exec>\u001b[0m in \u001b[0;36m<module>\u001b[0;34m\u001b[0m\n",
      "\u001b[0;32m<ipython-input-10-39892da93e36>\u001b[0m in \u001b[0;36morbit_sim\u001b[0;34m(r, v, n_points, t_i, t_f, epoch)\u001b[0m\n\u001b[1;32m      7\u001b[0m \u001b[0;32mdef\u001b[0m \u001b[0morbit_sim\u001b[0m\u001b[0;34m(\u001b[0m\u001b[0mr\u001b[0m\u001b[0;34m,\u001b[0m \u001b[0mv\u001b[0m\u001b[0;34m,\u001b[0m  \u001b[0mn_points\u001b[0m\u001b[0;34m,\u001b[0m \u001b[0mt_i\u001b[0m\u001b[0;34m,\u001b[0m \u001b[0mt_f\u001b[0m\u001b[0;34m,\u001b[0m \u001b[0mepoch\u001b[0m \u001b[0;34m=\u001b[0m \u001b[0;36m2454416\u001b[0m\u001b[0;34m)\u001b[0m\u001b[0;34m:\u001b[0m\u001b[0;34m\u001b[0m\u001b[0;34m\u001b[0m\u001b[0m\n\u001b[1;32m      8\u001b[0m     \u001b[0;31m#making a list of times to sample:\u001b[0m\u001b[0;34m\u001b[0m\u001b[0;34m\u001b[0m\u001b[0;34m\u001b[0m\u001b[0m\n\u001b[0;32m----> 9\u001b[0;31m     \u001b[0mtimes\u001b[0m \u001b[0;34m=\u001b[0m \u001b[0mnp\u001b[0m\u001b[0;34m.\u001b[0m\u001b[0mlinspace\u001b[0m\u001b[0;34m(\u001b[0m\u001b[0mt_i\u001b[0m\u001b[0;34m,\u001b[0m \u001b[0mt_f\u001b[0m\u001b[0;34m,\u001b[0m \u001b[0mn_points\u001b[0m\u001b[0;34m)\u001b[0m\u001b[0;34m\u001b[0m\u001b[0;34m\u001b[0m\u001b[0m\n\u001b[0m\u001b[1;32m     10\u001b[0m \u001b[0;34m\u001b[0m\u001b[0m\n\u001b[1;32m     11\u001b[0m     \u001b[0;31m#making the propagation delta\u001b[0m\u001b[0;34m\u001b[0m\u001b[0;34m\u001b[0m\u001b[0;34m\u001b[0m\u001b[0m\n",
      "\u001b[0;32m<__array_function__ internals>\u001b[0m in \u001b[0;36mlinspace\u001b[0;34m(*args, **kwargs)\u001b[0m\n",
      "\u001b[0;32m~/anaconda3/lib/python3.7/site-packages/numpy/core/function_base.py\u001b[0m in \u001b[0;36mlinspace\u001b[0;34m(start, stop, num, endpoint, retstep, dtype, axis)\u001b[0m\n\u001b[1;32m    119\u001b[0m         raise TypeError(\n\u001b[1;32m    120\u001b[0m             \u001b[0;34m\"object of type {} cannot be safely interpreted as an integer.\"\u001b[0m\u001b[0;34m\u001b[0m\u001b[0;34m\u001b[0m\u001b[0m\n\u001b[0;32m--> 121\u001b[0;31m                 .format(type(num)))\n\u001b[0m\u001b[1;32m    122\u001b[0m \u001b[0;34m\u001b[0m\u001b[0m\n\u001b[1;32m    123\u001b[0m     \u001b[0;32mif\u001b[0m \u001b[0mnum\u001b[0m \u001b[0;34m<\u001b[0m \u001b[0;36m0\u001b[0m\u001b[0;34m:\u001b[0m\u001b[0;34m\u001b[0m\u001b[0;34m\u001b[0m\u001b[0m\n",
      "\u001b[0;31mTypeError\u001b[0m: object of type <class 'float'> cannot be safely interpreted as an integer."
     ]
    }
   ],
   "source": [
    "\n",
    "find_comet([10**8,10**8,10**8]*u.km, [0,0,5]*u.km/u.s, 0.8 , 10, test_image, test_wcs,2454283.5,2454587.5)"
   ]
  },
  {
   "cell_type": "code",
   "execution_count": 17,
   "metadata": {},
   "outputs": [],
   "source": [
    "#takes in r,v,eta,n params and the image's wcs to compute p_fg (eq.3) \n",
    "def p_fg(r, v, eta, n_points, img, wcs_func, wcs_info, t_i, t_f, sky_coords):\n",
    "    \n",
    "    #solid angle\n",
    "    field_area = float(wcs_info[32][10:])\n",
    "    solid_angle = field_area*(np.pi/(60*180))**2 #converting degs^2 to solid angle (sr)\n",
    "    \n",
    "    #determine whether a sub image contains the comet    \n",
    "    comet_bool = find_comet(r, v, eta, n_points, img, wcs_func, t_i, t_f, sky_coords)\n",
    "    comet_int = np.array([int(i) for i in comet_bool])\n",
    "    \n",
    "    return comet_int/(solid_angle*eta) \n",
    "#eq 4\n",
    "def p_bg(n_points):\n",
    "    return np.ones((n_points))/(4*np.pi)"
   ]
  },
  {
   "cell_type": "code",
   "execution_count": null,
   "metadata": {},
   "outputs": [],
   "source": [
    "#how to get wcs info\n",
    "#a = !/Users/anahoban/software/astrometry/bin/wcsinfo ../Data_CometHolmes/holmes-0001.wcs\n"
   ]
  },
  {
   "cell_type": "code",
   "execution_count": 18,
   "metadata": {},
   "outputs": [],
   "source": [
    "#function that evaluates eq. 2 using p_fg and p_bg\n",
    "def tdep_sim_likelihood(r, v, eta, n_points, img, wcs_func, wcs_info, p_good, t_i, t_f, sky_coords):\n",
    "    p_f = p_fg(r, v, eta, n_points, img, wcs_func, wcs_info, t_i, t_f, sky_coords)\n",
    "    p_b = p_bg(n_points)\n",
    "    \n",
    "    return p_good*p_f + (1 - p_good)*p_b"
   ]
  },
  {
   "cell_type": "code",
   "execution_count": 19,
   "metadata": {},
   "outputs": [],
   "source": [
    "def p_emp(time, bins_norm):\n",
    "    '''Takes time and returns probability of getting that time based on time hist'''\n",
    "    if bins_norm[0] > time or time > bins_norm[len(bins_norm)-1]:\n",
    "            return 'Given date is not between July 1st 2007 and May 1st 2008.'\n",
    "    else:\n",
    "            for i in range(len(bins_norm)-1):\n",
    "                if bins_norm[i] <= time and time <= bins_norm[i+1]:\n",
    "                    return prob_time[i]  \n",
    "\n",
    "\n",
    "def t_prior(number, time, p_exif, pdt_exif, pdt_julian, bins_norm):\n",
    "    '''Takes an image and checks whether or not it has a EXIF and gives prior depending on that time (array)'''\n",
    "    pdt_transpose = np.transpose(pdt_julian)\n",
    "    dates_list = pdt_transpose[0].tolist()\n",
    "    \n",
    "    #if it has EXIF date:\n",
    "    if number in np.transpose(pdt_exif):\n",
    "        #get its EXIF date:\n",
    "        index = dates_list.index(number)\n",
    "        \n",
    "        #date in JD:\n",
    "        exif_date = Time(pdt_transpose[1][index], format='isot', scale='utc').jd\n",
    "        \n",
    "        prob = []\n",
    "        for t in time:\n",
    "            prob.append(p_exif * uniform_t(exif_date, t) + (1-p_exif)*p_emp(t,bins_norm))\n",
    "        return np.array(prob)\n",
    "        \n",
    "        \n",
    "    #if it doesn't have an EXIF date\n",
    "    else:\n",
    "        prob = []\n",
    "        for t in time:\n",
    "            prob.append(p_emp(t, bins_norm))\n",
    "        return np.array(prob)\n",
    "    \n",
    "def uniform_t(t_exif, time):\n",
    "    '''uniform distribution of t_i w.r.t t_exif +- 0.5 days. All times and in JD'''\n",
    "    if t_exif - 0.5 <= time and time <= t_exif + 0.5:\n",
    "        return 1 \n",
    "    else:\n",
    "        return 0\n",
    "    "
   ]
  },
  {
   "cell_type": "code",
   "execution_count": 20,
   "metadata": {},
   "outputs": [],
   "source": [
    "def single_im_likelihood(number, p_exif, pdt_exif, pdt_julian, bins_norm, r, v, eta, n_points, img, wcs_func, wcs_info, p_good, t_i , t_f, sky_coords ):\n",
    "        time = np.linspace(t_i, t_f, n_points)\n",
    "        integrand = t_prior(number, time, p_exif, pdt_exif, pdt_julian, bins_norm)*tdep_sim_likelihood(r, v, eta, n_points, img, wcs_func, wcs_info, p_good, t_i, t_f, sky_coords)\n",
    "        \n",
    "        return np.sum(integrand)*(t_f-t_i)/(n_points-1) #note: we may not need the multiplication by delta t\n",
    "    "
   ]
  },
  {
   "cell_type": "code",
   "execution_count": 21,
   "metadata": {},
   "outputs": [],
   "source": [
    "#loading in data \n",
    "wcs_list = [wcs.WCS('../Data_CometHolmes/holmes-%s.wcs'%(i)) for i in image_number]\n",
    "img_list = [plt.imread('../Data_CometHolmes/holmes-%s.jpg'%(i)) for i in image_number]\n",
    "wcs_info = [1 for i in image_number]\n",
    "for i in range(len(image_number)):\n",
    "    wcs_info[i] = !/Users/anahoban/software/astrometry/bin/wcsinfo ../Data_CometHolmes/holmes-{image_number[i]}.wcs\n",
    "    #wcs_info[i] = !/usr/local/astrometry/bin/wcsinfo ../Data_CometHolmes/holmes-{image_number[i]}.wcs\n"
   ]
  },
  {
   "cell_type": "code",
   "execution_count": 22,
   "metadata": {},
   "outputs": [
    {
     "ename": "TypeError",
     "evalue": "single_im_likelihood() missing 1 required positional argument: 'sky_coords'",
     "output_type": "error",
     "traceback": [
      "\u001b[0;31m---------------------------------------------------------------------------\u001b[0m",
      "\u001b[0;31mTypeError\u001b[0m                                 Traceback (most recent call last)",
      "\u001b[0;32m<ipython-input-22-c3f8db2f6732>\u001b[0m in \u001b[0;36m<module>\u001b[0;34m\u001b[0m\n\u001b[1;32m      4\u001b[0m \u001b[0ma\u001b[0m \u001b[0;34m=\u001b[0m \u001b[0mget_ipython\u001b[0m\u001b[0;34m(\u001b[0m\u001b[0;34m)\u001b[0m\u001b[0;34m.\u001b[0m\u001b[0mgetoutput\u001b[0m\u001b[0;34m(\u001b[0m\u001b[0;34m'/Users/anahoban/software/astrometry/bin/wcsinfo ../Data_CometHolmes/holmes-{number}.wcs'\u001b[0m\u001b[0;34m)\u001b[0m\u001b[0;34m\u001b[0m\u001b[0;34m\u001b[0m\u001b[0m\n\u001b[1;32m      5\u001b[0m \u001b[0;31m#a = !/usr/local/astrometry/bin/wcsinfo ../Data_CometHolmes/holmes-{number}.wcs\u001b[0m\u001b[0;34m\u001b[0m\u001b[0;34m\u001b[0m\u001b[0;34m\u001b[0m\u001b[0m\n\u001b[0;32m----> 6\u001b[0;31m \u001b[0msingle_im_likelihood\u001b[0m\u001b[0;34m(\u001b[0m\u001b[0mnumber\u001b[0m\u001b[0;34m,\u001b[0m \u001b[0;36m0.8\u001b[0m\u001b[0;34m,\u001b[0m \u001b[0mpdt_exif\u001b[0m\u001b[0;34m,\u001b[0m \u001b[0mpdt_julian\u001b[0m\u001b[0;34m,\u001b[0m \u001b[0mbins_norm\u001b[0m\u001b[0;34m,\u001b[0m \u001b[0;34m[\u001b[0m\u001b[0;36m10\u001b[0m\u001b[0;34m**\u001b[0m\u001b[0;36m8\u001b[0m\u001b[0;34m,\u001b[0m\u001b[0;36m10\u001b[0m\u001b[0;34m**\u001b[0m\u001b[0;36m8\u001b[0m\u001b[0;34m,\u001b[0m\u001b[0;36m10\u001b[0m\u001b[0;34m**\u001b[0m\u001b[0;36m8\u001b[0m\u001b[0;34m]\u001b[0m\u001b[0;34m*\u001b[0m\u001b[0mu\u001b[0m\u001b[0;34m.\u001b[0m\u001b[0mkm\u001b[0m\u001b[0;34m,\u001b[0m \u001b[0;34m[\u001b[0m\u001b[0;36m0\u001b[0m\u001b[0;34m,\u001b[0m\u001b[0;36m0\u001b[0m\u001b[0;34m,\u001b[0m\u001b[0;36m5\u001b[0m\u001b[0;34m]\u001b[0m\u001b[0;34m*\u001b[0m\u001b[0mu\u001b[0m\u001b[0;34m.\u001b[0m\u001b[0mkm\u001b[0m\u001b[0;34m/\u001b[0m\u001b[0mu\u001b[0m\u001b[0;34m.\u001b[0m\u001b[0ms\u001b[0m\u001b[0;34m,\u001b[0m \u001b[0;36m0.8\u001b[0m\u001b[0;34m,\u001b[0m \u001b[0;36m30\u001b[0m\u001b[0;34m,\u001b[0m \u001b[0mimage\u001b[0m\u001b[0;34m,\u001b[0m \u001b[0mwcs_header\u001b[0m\u001b[0;34m,\u001b[0m \u001b[0ma\u001b[0m\u001b[0;34m,\u001b[0m \u001b[0;36m0.8\u001b[0m\u001b[0;34m,\u001b[0m \u001b[0;36m2454283.5\u001b[0m\u001b[0;34m,\u001b[0m \u001b[0;36m2454587.5\u001b[0m\u001b[0;34m)\u001b[0m\u001b[0;34m\u001b[0m\u001b[0;34m\u001b[0m\u001b[0m\n\u001b[0m\u001b[1;32m      7\u001b[0m \u001b[0;34m\u001b[0m\u001b[0m\n\u001b[1;32m      8\u001b[0m \u001b[0;34m\u001b[0m\u001b[0m\n",
      "\u001b[0;31mTypeError\u001b[0m: single_im_likelihood() missing 1 required positional argument: 'sky_coords'"
     ]
    }
   ],
   "source": [
    "number = '0002'\n",
    "image = plt.imread('../Data_CometHolmes/holmes-%s.jpg'%(number))\n",
    "wcs_header = wcs.WCS('../Data_CometHolmes/holmes-%s.wcs'%(number))\n",
    "a = !/Users/anahoban/software/astrometry/bin/wcsinfo ../Data_CometHolmes/holmes-{number}.wcs\n",
    "#a = !/usr/local/astrometry/bin/wcsinfo ../Data_CometHolmes/holmes-{number}.wcs\n",
    "single_im_likelihood(number, 0.8, pdt_exif, pdt_julian, bins_norm, [10**8,10**8,10**8]*u.km, [0,0,5]*u.km/u.s, 0.8, 30, image, wcs_header, a, 0.8, 2454283.5, 2454587.5)\n",
    "\n",
    "\n"
   ]
  },
  {
   "cell_type": "code",
   "execution_count": 29,
   "metadata": {},
   "outputs": [],
   "source": [
    "def all_im_log_likelihoods(number_lis, p_exif, pdt_exif, pdt_julian, bins_norm, r, v, eta, n_points, p_good, wcs_list, img_list, wcs_info, t_i , t_f):\n",
    "    product_list = [0 for i in number_lis]\n",
    "    \n",
    "    pos,t = orbit_sim(r, v,  n_points, t_i, t_f, epoch = 2454416)\n",
    "    sky_coords = ICRS_to_GCRS(pos,t)\n",
    "    \n",
    "    for i in range(len(number_lis)):\n",
    "        image = img_list[i]\n",
    "        wcs_header = wcs_list[i]\n",
    "        wcs_inf = wcs_info[i]\n",
    "        product_list[i] = single_im_likelihood(number_lis[i], p_exif, pdt_exif, pdt_julian, bins_norm, r, v, eta, n_points, image, wcs_header, wcs_inf, p_good, t_i, t_f, sky_coords)\n",
    "    \n",
    "    return np.sum(np.log(product_list))\n",
    "        \n",
    "    "
   ]
  },
  {
   "cell_type": "code",
   "execution_count": 24,
   "metadata": {},
   "outputs": [
    {
     "ename": "TypeError",
     "evalue": "all_im_log_likelihoods() missing 2 required positional arguments: 't_i' and 't_f'",
     "output_type": "error",
     "traceback": [
      "\u001b[0;31m---------------------------------------------------------------------------\u001b[0m",
      "\u001b[0;31mTypeError\u001b[0m                                 Traceback (most recent call last)",
      "\u001b[0;32m<timed exec>\u001b[0m in \u001b[0;36m<module>\u001b[0;34m\u001b[0m\n",
      "\u001b[0;31mTypeError\u001b[0m: all_im_log_likelihoods() missing 2 required positional arguments: 't_i' and 't_f'"
     ]
    }
   ],
   "source": [
    "%%time\n",
    "harper = all_im_log_likelihoods(image_number, 0.8, pdt_exif, pdt_julian, bins_norm, [10**8, 10**8, 10**8]*u.km, [5,0,0]*u.km/u.s, 0.8, 4, 0.7, wcs_list, img_list, wcs_info)\n",
    "#2 points: 1min33\n",
    "#4points: 3min5\n"
   ]
  },
  {
   "cell_type": "markdown",
   "metadata": {},
   "source": [
    "# prior\n",
    "### first, the position 3D isotropic gaussian should have mean 0, because we are working in a ref. frame in which the sun is as the center and this makes sense with the authors' suggestion of using [1 AU]^2 as the variance (we expect the comet to be at a dist. of order 1 A.U. from the sun).\n",
    "\n",
    "suggestions for our future selves: \n",
    "1. change sigma to 2 A.U (perihelion)\n",
    "2. escape velocity.. ?"
   ]
  },
  {
   "cell_type": "code",
   "execution_count": 26,
   "metadata": {},
   "outputs": [],
   "source": [
    "from scipy.stats import multivariate_normal"
   ]
  },
  {
   "cell_type": "code",
   "execution_count": 27,
   "metadata": {},
   "outputs": [],
   "source": [
    "def beta_distribution(c, v_escape, alpha = 1, beta = 3): #v_esc is in km/s\n",
    "    b = c/(v_escape**2)\n",
    "    if c > v_escape**2:\n",
    "        return 0\n",
    "    else:\n",
    "        return np.power(b, alpha-1)*np.power(1-b, beta-1)\n",
    "\n",
    "def log_prior(r, v, p_good, p_exif, eta, v_escape):\n",
    "    \n",
    "    v_x,v_y,v_z = v\n",
    "    dot_prod = v_x**2 + v_y**2 + v_z**2 #assign this above if statement since it is needed to decide if prior is nonzero\n",
    "    \n",
    "    \n",
    "    if (0 < p_good < 1) and (0 < p_exif < 1) and (dot_prod < (v_escape**2)) and (0 < eta < 1) :\n",
    "        \n",
    "        #position prior\n",
    "        x,y,z = r\n",
    "        xyz = np.array([x,y,z])\n",
    "        mu = np.array([0.0, 0.0, 0.0])\n",
    "\n",
    "        sigma = np.array([1, 1, 1])*149597870.7 #variance is 1 A.U. in all 3 dir\n",
    "                                            #we could change this \n",
    "        covariance = np.diag(sigma**2)\n",
    "\n",
    "        p_pos = multivariate_normal.pdf(xyz, mean=mu, cov=covariance)\n",
    "    \n",
    "        #velocity prior\n",
    "        p_vel = beta_distribution(dot_prod, v_escape)\n",
    "        \n",
    "        \n",
    "        return np.log(p_vel*p_pos)\n",
    "    \n",
    "    \n",
    "    else:\n",
    "        return -np.inf # log(0) = -inf\n",
    "    \n",
    "    \n",
    "def log_post(theta, number_lis, pdt_exif, pdt_julian, bins_norm, n_points, wcs_list, img_list, wcs_info, t_i = 2454283.5, t_f = 2454587.5,  v_escape= 42.1):\n",
    "    r_x, r_y, r_z, v_x, v_y, v_z, p_good, p_exif, eta =  theta #this defines order order of variables in theta\n",
    "    r = [r_x, r_y, r_z]\n",
    "    v = [v_x, v_y, v_z]\n",
    "    \n",
    "    lp = log_prior(r, v, p_good, p_exif, eta, v_escape)\n",
    "    if not np.isfinite(lp):\n",
    "        return -np.inf\n",
    "    return lp + all_im_log_likelihoods(number_lis, p_exif, pdt_exif, pdt_julian, bins_norm, r*u.km, v*u.km/u.s, eta, n_points, p_good, wcs_list, img_list, wcs_info, t_i, t_f)\n",
    "\n"
   ]
  },
  {
   "cell_type": "code",
   "execution_count": 31,
   "metadata": {},
   "outputs": [
    {
     "name": "stdout",
     "output_type": "stream",
     "text": [
      "CPU times: user 1min 9s, sys: 519 ms, total: 1min 10s\n",
      "Wall time: 1min 10s\n"
     ]
    },
    {
     "data": {
      "text/plain": [
       "-8064.289146246929"
      ]
     },
     "execution_count": 31,
     "metadata": {},
     "output_type": "execute_result"
    }
   ],
   "source": [
    "%%time\n",
    "theta = [10e8, 10e8, 10e8, 5, 5, 0, 0.85, 0.75, 0.4]\n",
    "\n",
    "log_post(theta, image_number, pdt_exif, pdt_julian, bins_norm, 2, wcs_list, img_list, wcs_info)"
   ]
  },
  {
   "cell_type": "code",
   "execution_count": 40,
   "metadata": {},
   "outputs": [],
   "source": [
    "#initializing MCMC\n",
    "\n",
    "exif_numbers = np.transpose(pdt_julian)[0]\n",
    "exif_jd = t\n",
    "median_date = np.median(exif_jd)\n",
    "\n",
    "ra_lis = []\n",
    "dec_lis = []\n",
    "\n",
    "for i in wcs_info:\n",
    "    ra_lis.append(float(i[18][10:]))\n",
    "    dec_lis.append(float(i[19][11:]))\n",
    "\n",
    "\n",
    "ra_median = np.median(ra_lis)\n",
    "dec_median = np.median(dec_lis)\n",
    "\n",
    "#getting wcs headers for the files that survive our cuts\n",
    "# associate picture number with time \n",
    "wcs_cutter = []\n",
    "for i in range(len(image_number)):\n",
    "    wcs_cutter.append([image_number[i], exif_data[i].get(306), wcs_info[i]])\n",
    "\n",
    "#get only the ones with EXIF values\n",
    "wcs_clipped = [row for row in wcs_cutter if row[1] != None]\n",
    "for i in range(len(wcs_clipped)):\n",
    "    wcs_clipped[i][1] = float(exif_jd[i])\n",
    "    wcs_clipped[i][2] = np.array([float(wcs_clipped[i][2][18][10:]), float(wcs_clipped[i][2][19][11:])])\n",
    "\n",
    "\n",
    "    \n",
    "#making time & ra & dec cut\n",
    "time_cut_array = []\n",
    "for i in wcs_clipped:\n",
    "    #print((np.abs(i[1]-median_date) <= 7),(np.abs(i[2][0] - ra_median) <= 5), (np.abs(i[2][1] - dec_median) <= 5))\n",
    "    #print(i[2][0] - ra_median)\n",
    "    if (np.abs(i[1]-median_date) <= 7) and  (np.abs(i[2][0] - ra_median) <= 5) and (np.abs(i[2][1] - dec_median) <= 5):\n",
    "        time_cut_array.append(i)\n",
    "        "
   ]
  },
  {
   "cell_type": "code",
   "execution_count": 41,
   "metadata": {},
   "outputs": [
    {
     "name": "stdout",
     "output_type": "stream",
     "text": [
      "-0.29599804626803206 -0.0005473177460407451\n"
     ]
    },
    {
     "data": {
      "image/png": "[encoded data removed]",
      "text/plain": [
       "<Figure size 432x288 with 1 Axes>"
      ]
     },
     "metadata": {
      "needs_background": "light"
     },
     "output_type": "display_data"
    }
   ],
   "source": [
    "number, time, ra_dec = np.transpose(time_cut_array)\n",
    "time = time.astype('float64')\n",
    "ra = np.array([i[0] for i in ra_dec])\n",
    "dec = np.array([i[1] for i in ra_dec])\n",
    "\n",
    "a_ra, b_ra = np.polyfit(time, ra, 1)\n",
    "a_dec, b_dec = np.polyfit(time, dec, 1)\n",
    "\n",
    "plt.plot(time, ra, 'k.')\n",
    "plt.plot(time, dec, 'b.')\n",
    "\n",
    "x_axis = np.linspace(np.min(time), np.max(time), 300)\n",
    "\n",
    "plt.plot(x_axis, x_axis*a_ra + b_ra)\n",
    "plt.plot(x_axis, x_axis*a_dec + b_dec)\n",
    "print(a_ra, a_dec)"
   ]
  },
  {
   "cell_type": "code",
   "execution_count": 42,
   "metadata": {},
   "outputs": [],
   "source": [
    "from astropy.coordinates import CartesianDifferential"
   ]
  },
  {
   "cell_type": "code",
   "execution_count": 43,
   "metadata": {},
   "outputs": [],
   "source": [
    "#our epoch is 2454416\n",
    "#initializing the MCMC values\n",
    "\n",
    "#converting our fits to km/s\n",
    "proper_m_ra = a_ra*u.deg/u.day\n",
    "proper_m_dec = a_dec*u.deg/u.day\n",
    "initial_GCRS_pt = SkyCoord(ra = ra_median*u.deg, dec = dec_median*u.deg, distance = 1*u.au, pm_ra_cosdec = proper_m_ra, pm_dec = proper_m_dec, obstime = Time(median_date, format='jd'), frame='gcrs', radial_velocity=0*u.km/u.s)\n",
    "initial_ICRS_pt = initial_GCRS_pt.transform_to('icrs')\n",
    "\n",
    "x_init = initial_ICRS_pt.cartesian.x\n",
    "y_init = initial_ICRS_pt.cartesian.y\n",
    "z_init = initial_ICRS_pt.cartesian.z\n",
    "\n",
    "v_x_init = initial_ICRS_pt.velocity.d_x\n",
    "v_y_init = initial_ICRS_pt.velocity.d_y\n",
    "v_z_init = initial_ICRS_pt.velocity.d_z\n"
   ]
  },
  {
   "cell_type": "markdown",
   "metadata": {},
   "source": [
    "# MCMC TIME!!\n"
   ]
  },
  {
   "cell_type": "code",
   "execution_count": 49,
   "metadata": {},
   "outputs": [
    {
     "name": "stdout",
     "output_type": "stream",
     "text": [
      "Populating the interactive namespace from numpy and matplotlib\n"
     ]
    }
   ],
   "source": [
    "import corner\n",
    "import emcee\n",
    "%pylab inline"
   ]
  },
  {
   "cell_type": "code",
   "execution_count": 62,
   "metadata": {},
   "outputs": [
    {
     "ename": "TypeError",
     "evalue": "only dimensionless scalar quantities can be converted to Python scalars",
     "output_type": "error",
     "traceback": [
      "\u001b[0;31m---------------------------------------------------------------------------\u001b[0m",
      "\u001b[0;31mUnitConversionError\u001b[0m                       Traceback (most recent call last)",
      "\u001b[0;32m~/anaconda3/lib/python3.7/site-packages/astropy/units/quantity.py\u001b[0m in \u001b[0;36mto_value\u001b[0;34m(self, unit, equivalencies)\u001b[0m\n\u001b[1;32m    730\u001b[0m             \u001b[0;32mtry\u001b[0m\u001b[0;34m:\u001b[0m\u001b[0;34m\u001b[0m\u001b[0;34m\u001b[0m\u001b[0m\n\u001b[0;32m--> 731\u001b[0;31m                 \u001b[0mscale\u001b[0m \u001b[0;34m=\u001b[0m \u001b[0mself\u001b[0m\u001b[0;34m.\u001b[0m\u001b[0munit\u001b[0m\u001b[0;34m.\u001b[0m\u001b[0m_to\u001b[0m\u001b[0;34m(\u001b[0m\u001b[0munit\u001b[0m\u001b[0;34m)\u001b[0m\u001b[0;34m\u001b[0m\u001b[0;34m\u001b[0m\u001b[0m\n\u001b[0m\u001b[1;32m    732\u001b[0m             \u001b[0;32mexcept\u001b[0m \u001b[0mException\u001b[0m\u001b[0;34m:\u001b[0m\u001b[0;34m\u001b[0m\u001b[0;34m\u001b[0m\u001b[0m\n",
      "\u001b[0;32m~/anaconda3/lib/python3.7/site-packages/astropy/units/core.py\u001b[0m in \u001b[0;36m_to\u001b[0;34m(self, other)\u001b[0m\n\u001b[1;32m    950\u001b[0m         raise UnitConversionError(\n\u001b[0;32m--> 951\u001b[0;31m             f\"'{self!r}' is not a scaled version of '{other!r}'\")\n\u001b[0m\u001b[1;32m    952\u001b[0m \u001b[0;34m\u001b[0m\u001b[0m\n",
      "\u001b[0;31mUnitConversionError\u001b[0m: 'Unit(\"AU\")' is not a scaled version of 'Unit(dimensionless)'",
      "\nDuring handling of the above exception, another exception occurred:\n",
      "\u001b[0;31mUnitConversionError\u001b[0m                       Traceback (most recent call last)",
      "\u001b[0;32m~/anaconda3/lib/python3.7/site-packages/astropy/units/quantity.py\u001b[0m in \u001b[0;36m__float__\u001b[0;34m(self)\u001b[0m\n\u001b[1;32m   1076\u001b[0m         \u001b[0;32mtry\u001b[0m\u001b[0;34m:\u001b[0m\u001b[0;34m\u001b[0m\u001b[0;34m\u001b[0m\u001b[0m\n\u001b[0;32m-> 1077\u001b[0;31m             \u001b[0;32mreturn\u001b[0m \u001b[0mfloat\u001b[0m\u001b[0;34m(\u001b[0m\u001b[0mself\u001b[0m\u001b[0;34m.\u001b[0m\u001b[0mto_value\u001b[0m\u001b[0;34m(\u001b[0m\u001b[0mdimensionless_unscaled\u001b[0m\u001b[0;34m)\u001b[0m\u001b[0;34m)\u001b[0m\u001b[0;34m\u001b[0m\u001b[0;34m\u001b[0m\u001b[0m\n\u001b[0m\u001b[1;32m   1078\u001b[0m         \u001b[0;32mexcept\u001b[0m \u001b[0;34m(\u001b[0m\u001b[0mUnitsError\u001b[0m\u001b[0;34m,\u001b[0m \u001b[0mTypeError\u001b[0m\u001b[0;34m)\u001b[0m\u001b[0;34m:\u001b[0m\u001b[0;34m\u001b[0m\u001b[0;34m\u001b[0m\u001b[0m\n",
      "\u001b[0;32m~/anaconda3/lib/python3.7/site-packages/astropy/units/quantity.py\u001b[0m in \u001b[0;36mto_value\u001b[0;34m(self, unit, equivalencies)\u001b[0m\n\u001b[1;32m    733\u001b[0m                 \u001b[0;31m# Short-cut failed; try default (maybe equivalencies help).\u001b[0m\u001b[0;34m\u001b[0m\u001b[0;34m\u001b[0m\u001b[0;34m\u001b[0m\u001b[0m\n\u001b[0;32m--> 734\u001b[0;31m                 \u001b[0mvalue\u001b[0m \u001b[0;34m=\u001b[0m \u001b[0mself\u001b[0m\u001b[0;34m.\u001b[0m\u001b[0m_to_value\u001b[0m\u001b[0;34m(\u001b[0m\u001b[0munit\u001b[0m\u001b[0;34m,\u001b[0m \u001b[0mequivalencies\u001b[0m\u001b[0;34m)\u001b[0m\u001b[0;34m\u001b[0m\u001b[0;34m\u001b[0m\u001b[0m\n\u001b[0m\u001b[1;32m    735\u001b[0m             \u001b[0;32melse\u001b[0m\u001b[0;34m:\u001b[0m\u001b[0;34m\u001b[0m\u001b[0;34m\u001b[0m\u001b[0m\n",
      "\u001b[0;32m~/anaconda3/lib/python3.7/site-packages/astropy/units/quantity.py\u001b[0m in \u001b[0;36m_to_value\u001b[0;34m(self, unit, equivalencies)\u001b[0m\n\u001b[1;32m    664\u001b[0m         return self.unit.to(unit, self.view(np.ndarray),\n\u001b[0;32m--> 665\u001b[0;31m                             equivalencies=equivalencies)\n\u001b[0m\u001b[1;32m    666\u001b[0m \u001b[0;34m\u001b[0m\u001b[0m\n",
      "\u001b[0;32m~/anaconda3/lib/python3.7/site-packages/astropy/units/core.py\u001b[0m in \u001b[0;36mto\u001b[0;34m(self, other, value, equivalencies)\u001b[0m\n\u001b[1;32m    986\u001b[0m         \u001b[0;32melse\u001b[0m\u001b[0;34m:\u001b[0m\u001b[0;34m\u001b[0m\u001b[0;34m\u001b[0m\u001b[0m\n\u001b[0;32m--> 987\u001b[0;31m             \u001b[0;32mreturn\u001b[0m \u001b[0mself\u001b[0m\u001b[0;34m.\u001b[0m\u001b[0m_get_converter\u001b[0m\u001b[0;34m(\u001b[0m\u001b[0mother\u001b[0m\u001b[0;34m,\u001b[0m \u001b[0mequivalencies\u001b[0m\u001b[0;34m=\u001b[0m\u001b[0mequivalencies\u001b[0m\u001b[0;34m)\u001b[0m\u001b[0;34m(\u001b[0m\u001b[0mvalue\u001b[0m\u001b[0;34m)\u001b[0m\u001b[0;34m\u001b[0m\u001b[0;34m\u001b[0m\u001b[0m\n\u001b[0m\u001b[1;32m    988\u001b[0m \u001b[0;34m\u001b[0m\u001b[0m\n",
      "\u001b[0;32m~/anaconda3/lib/python3.7/site-packages/astropy/units/core.py\u001b[0m in \u001b[0;36m_get_converter\u001b[0;34m(self, other, equivalencies)\u001b[0m\n\u001b[1;32m    917\u001b[0m \u001b[0;34m\u001b[0m\u001b[0m\n\u001b[0;32m--> 918\u001b[0;31m             \u001b[0;32mraise\u001b[0m \u001b[0mexc\u001b[0m\u001b[0;34m\u001b[0m\u001b[0;34m\u001b[0m\u001b[0m\n\u001b[0m\u001b[1;32m    919\u001b[0m \u001b[0;34m\u001b[0m\u001b[0m\n",
      "\u001b[0;32m~/anaconda3/lib/python3.7/site-packages/astropy/units/core.py\u001b[0m in \u001b[0;36m_get_converter\u001b[0;34m(self, other, equivalencies)\u001b[0m\n\u001b[1;32m    903\u001b[0m             return self._apply_equivalencies(\n\u001b[0;32m--> 904\u001b[0;31m                 self, other, self._normalize_equivalencies(equivalencies))\n\u001b[0m\u001b[1;32m    905\u001b[0m         \u001b[0;32mexcept\u001b[0m \u001b[0mUnitsError\u001b[0m \u001b[0;32mas\u001b[0m \u001b[0mexc\u001b[0m\u001b[0;34m:\u001b[0m\u001b[0;34m\u001b[0m\u001b[0;34m\u001b[0m\u001b[0m\n",
      "\u001b[0;32m~/anaconda3/lib/python3.7/site-packages/astropy/units/core.py\u001b[0m in \u001b[0;36m_apply_equivalencies\u001b[0;34m(self, unit, other, equivalencies)\u001b[0m\n\u001b[1;32m    887\u001b[0m             \"{} and {} are not convertible\".format(\n\u001b[0;32m--> 888\u001b[0;31m                 unit_str, other_str))\n\u001b[0m\u001b[1;32m    889\u001b[0m \u001b[0;34m\u001b[0m\u001b[0m\n",
      "\u001b[0;31mUnitConversionError\u001b[0m: 'AU' (length) and '' (dimensionless) are not convertible",
      "\nDuring handling of the above exception, another exception occurred:\n",
      "\u001b[0;31mTypeError\u001b[0m                                 Traceback (most recent call last)",
      "\u001b[0;32m<ipython-input-62-ba4e95dad0f8>\u001b[0m in \u001b[0;36m<module>\u001b[0;34m\u001b[0m\n\u001b[1;32m      5\u001b[0m \u001b[0mndim\u001b[0m \u001b[0;34m=\u001b[0m \u001b[0;36m9\u001b[0m\u001b[0;34m\u001b[0m\u001b[0;34m\u001b[0m\u001b[0m\n\u001b[1;32m      6\u001b[0m \u001b[0mnwalkers\u001b[0m \u001b[0;34m=\u001b[0m \u001b[0;36m16\u001b[0m\u001b[0;34m\u001b[0m\u001b[0;34m\u001b[0m\u001b[0m\n\u001b[0;32m----> 7\u001b[0;31m \u001b[0mtheta_init\u001b[0m \u001b[0;34m=\u001b[0m \u001b[0mnp\u001b[0m\u001b[0;34m.\u001b[0m\u001b[0marray\u001b[0m\u001b[0;34m(\u001b[0m\u001b[0;34m(\u001b[0m\u001b[0mx_init\u001b[0m\u001b[0;34m,\u001b[0m \u001b[0my_init\u001b[0m\u001b[0;34m,\u001b[0m \u001b[0mz_init\u001b[0m\u001b[0;34m,\u001b[0m \u001b[0mv_x_init\u001b[0m\u001b[0;34m,\u001b[0m \u001b[0mv_y_init\u001b[0m\u001b[0;34m,\u001b[0m \u001b[0mv_z_init\u001b[0m\u001b[0;34m,\u001b[0m \u001b[0;36m0.85\u001b[0m\u001b[0;34m,\u001b[0m \u001b[0;36m0.75\u001b[0m\u001b[0;34m,\u001b[0m \u001b[0;36m0.4\u001b[0m\u001b[0;34m)\u001b[0m\u001b[0;34m)\u001b[0m\u001b[0;34m\u001b[0m\u001b[0;34m\u001b[0m\u001b[0m\n\u001b[0m\u001b[1;32m      8\u001b[0m \u001b[0minitial_pos\u001b[0m \u001b[0;34m=\u001b[0m \u001b[0mtheta_init\u001b[0m \u001b[0;34m+\u001b[0m \u001b[0mnp\u001b[0m\u001b[0;34m.\u001b[0m\u001b[0marray\u001b[0m\u001b[0;34m(\u001b[0m\u001b[0;34m(\u001b[0m\u001b[0;36m1500\u001b[0m\u001b[0;34m,\u001b[0m \u001b[0;36m1500\u001b[0m\u001b[0;34m,\u001b[0m \u001b[0;36m1500\u001b[0m\u001b[0;34m,\u001b[0m \u001b[0;36m4.74e-5\u001b[0m\u001b[0;34m,\u001b[0m \u001b[0;36m4.74e-5\u001b[0m\u001b[0;34m,\u001b[0m \u001b[0;36m4.74e-5\u001b[0m\u001b[0;34m,\u001b[0m \u001b[0;36m1e-2\u001b[0m\u001b[0;34m,\u001b[0m \u001b[0;36m1e-2\u001b[0m\u001b[0;34m,\u001b[0m \u001b[0;36m1e-2\u001b[0m\u001b[0;34m)\u001b[0m\u001b[0;34m)\u001b[0m \u001b[0;34m*\u001b[0m \u001b[0mnp\u001b[0m\u001b[0;34m.\u001b[0m\u001b[0mrandom\u001b[0m\u001b[0;34m.\u001b[0m\u001b[0mrandn\u001b[0m\u001b[0;34m(\u001b[0m\u001b[0mnwalkers\u001b[0m\u001b[0;34m,\u001b[0m \u001b[0mndim\u001b[0m\u001b[0;34m)\u001b[0m\u001b[0;34m\u001b[0m\u001b[0;34m\u001b[0m\u001b[0m\n\u001b[1;32m      9\u001b[0m \u001b[0;34m\u001b[0m\u001b[0m\n",
      "\u001b[0;32m~/anaconda3/lib/python3.7/site-packages/astropy/units/quantity.py\u001b[0m in \u001b[0;36m__float__\u001b[0;34m(self)\u001b[0m\n\u001b[1;32m   1077\u001b[0m             \u001b[0;32mreturn\u001b[0m \u001b[0mfloat\u001b[0m\u001b[0;34m(\u001b[0m\u001b[0mself\u001b[0m\u001b[0;34m.\u001b[0m\u001b[0mto_value\u001b[0m\u001b[0;34m(\u001b[0m\u001b[0mdimensionless_unscaled\u001b[0m\u001b[0;34m)\u001b[0m\u001b[0;34m)\u001b[0m\u001b[0;34m\u001b[0m\u001b[0;34m\u001b[0m\u001b[0m\n\u001b[1;32m   1078\u001b[0m         \u001b[0;32mexcept\u001b[0m \u001b[0;34m(\u001b[0m\u001b[0mUnitsError\u001b[0m\u001b[0;34m,\u001b[0m \u001b[0mTypeError\u001b[0m\u001b[0;34m)\u001b[0m\u001b[0;34m:\u001b[0m\u001b[0;34m\u001b[0m\u001b[0;34m\u001b[0m\u001b[0m\n\u001b[0;32m-> 1079\u001b[0;31m             raise TypeError('only dimensionless scalar quantities can be '\n\u001b[0m\u001b[1;32m   1080\u001b[0m                             'converted to Python scalars')\n\u001b[1;32m   1081\u001b[0m \u001b[0;34m\u001b[0m\u001b[0m\n",
      "\u001b[0;31mTypeError\u001b[0m: only dimensionless scalar quantities can be converted to Python scalars"
     ]
    }
   ],
   "source": [
    "#number of points we are integrating over for the orbit sim\n",
    "points_intergration = 3\n",
    "\n",
    "num_iter = 2\n",
    "ndim = 9\n",
    "nwalkers = 16\n",
    "theta_init = np.array((x_init, y_init, z_init, v_x_init, v_y_init, v_z_init, 0.85, 0.75, 0.4))\n",
    "initial_pos = theta_init + np.array((1500, 1500, 1500, 4.74e-5, 4.74e-5, 4.74e-5, 1e-2, 1e-2, 1e-2)) * np.random.randn(nwalkers, ndim)\n",
    "\n",
    "sampler = emcee.EnsembleSampler(nwalkers, ndim, log_post, args = (image_number, pdt_exif, pdt_julian, bins_norm, points_integration, wcs_list, img_list, wcs_info))\n",
    "sampler.run_mcmc(initial_pos, num_iter, progress=True)"
   ]
  },
  {
   "cell_type": "code",
   "execution_count": 53,
   "metadata": {},
   "outputs": [
    {
     "data": {
      "text/plain": [
       "array([[1, 2, 3],\n",
       "       [2, 4, 6]])"
      ]
     },
     "execution_count": 53,
     "metadata": {},
     "output_type": "execute_result"
    }
   ],
   "source": [
    "np.array([1,2,3])* np.array([[1,1,1],[2,2,2]])"
   ]
  },
  {
   "cell_type": "code",
   "execution_count": null,
   "metadata": {},
   "outputs": [],
   "source": []
  }
 ],
 "metadata": {
  "kernelspec": {
   "display_name": "Python 3",
   "language": "python",
   "name": "python3"
  },
  "language_info": {
   "codemirror_mode": {
    "name": "ipython",
    "version": 3
   },
   "file_extension": ".py",
   "mimetype": "text/x-python",
   "name": "python",
   "nbconvert_exporter": "python",
   "pygments_lexer": "ipython3",
   "version": "3.7.6"
  }
 },
 "nbformat": 4,
 "nbformat_minor": 2
}
